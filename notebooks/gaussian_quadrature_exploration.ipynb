{
 "cells": [
  {
   "cell_type": "markdown",
   "id": "424324b2",
   "metadata": {},
   "source": [
    "# Gaussian Quadrature for Financial Derivatives\n",
    "\n",
    "This notebook explores the theoretical foundations and practical implementation of Gaussian Quadrature methods for pricing financial derivatives, specifically focusing on caplet pricing using the Bachelier model.\n",
    "\n",
    "## Table of Contents\n",
    "1. [Mathematical Foundations](#Mathematical-Foundations)\n",
    "2. [Implementation Details](#Implementation-Details)\n",
    "3. [Numerical Examples](#Numerical-Examples)\n",
    "4. [Performance Analysis](#Performance-Analysis)\n",
    "\n",
    "Let's start by importing the necessary libraries:"
   ]
  },
  {
   "cell_type": "code",
   "execution_count": 5,
   "id": "fac5746f",
   "metadata": {},
   "outputs": [],
   "source": [
    "import sys\n",
    "import os\n",
    "\n",
    "# Go up one level from 'notebooks/' to the project root\n",
    "sys.path.append(os.path.abspath(os.path.join(os.getcwd(), \"..\")))\n",
    "\n",
    "import jax\n",
    "import jax.numpy as jnp\n",
    "import numpy as np\n",
    "import matplotlib.pyplot as plt\n",
    "from src.gaussian_quadrature.utils.quadrature import (\n",
    "    laguerre_function_final,\n",
    "    compute_gauss_laguerre_points_final,\n",
    "    generalized_laguerre_quadrature\n",
    ")"
   ]
  },
  {
   "cell_type": "code",
   "execution_count": 6,
   "id": "5b58aa0a",
   "metadata": {},
   "outputs": [
    {
     "ename": "ImportError",
     "evalue": "cannot import name 'gauss_laguerre_quadrature_final' from 'src.gaussian_quadrature.utils.quadrature' (d:\\Personal\\Education\\MSc - PHDs\\MIPT\\Final paper\\Code\\Gaussian_Quadrature\\src\\gaussian_quadrature\\utils\\quadrature.py)",
     "output_type": "error",
     "traceback": [
      "\u001b[1;31m---------------------------------------------------------------------------\u001b[0m",
      "\u001b[1;31mImportError\u001b[0m                               Traceback (most recent call last)",
      "Cell \u001b[1;32mIn[6], line 11\u001b[0m\n\u001b[0;32m      9\u001b[0m \u001b[38;5;28;01mimport\u001b[39;00m \u001b[38;5;21;01mnumpy\u001b[39;00m \u001b[38;5;28;01mas\u001b[39;00m \u001b[38;5;21;01mnp\u001b[39;00m\n\u001b[0;32m     10\u001b[0m \u001b[38;5;28;01mimport\u001b[39;00m \u001b[38;5;21;01mmatplotlib\u001b[39;00m\u001b[38;5;21;01m.\u001b[39;00m\u001b[38;5;21;01mpyplot\u001b[39;00m \u001b[38;5;28;01mas\u001b[39;00m \u001b[38;5;21;01mplt\u001b[39;00m\n\u001b[1;32m---> 11\u001b[0m \u001b[38;5;28;01mfrom\u001b[39;00m \u001b[38;5;21;01msrc\u001b[39;00m\u001b[38;5;21;01m.\u001b[39;00m\u001b[38;5;21;01mgaussian_quadrature\u001b[39;00m\u001b[38;5;21;01m.\u001b[39;00m\u001b[38;5;21;01mutils\u001b[39;00m\u001b[38;5;21;01m.\u001b[39;00m\u001b[38;5;21;01mquadrature\u001b[39;00m \u001b[38;5;28;01mimport\u001b[39;00m (\n\u001b[0;32m     12\u001b[0m     laguerre_function_final,\n\u001b[0;32m     13\u001b[0m     compute_gauss_laguerre_points_final,\n\u001b[0;32m     14\u001b[0m     gauss_laguerre_quadrature_final\n\u001b[0;32m     15\u001b[0m )\n",
      "\u001b[1;31mImportError\u001b[0m: cannot import name 'gauss_laguerre_quadrature_final' from 'src.gaussian_quadrature.utils.quadrature' (d:\\Personal\\Education\\MSc - PHDs\\MIPT\\Final paper\\Code\\Gaussian_Quadrature\\src\\gaussian_quadrature\\utils\\quadrature.py)"
     ]
    }
   ],
   "source": [
    "import sys\n",
    "import os\n",
    "\n",
    "# Go up one level from 'notebooks/' to the project root\n",
    "sys.path.append(os.path.abspath(os.path.join(os.getcwd(), \"..\")))\n",
    "\n",
    "import jax\n",
    "import jax.numpy as jnp\n",
    "import numpy as np\n",
    "import matplotlib.pyplot as plt\n",
    "from src.gaussian_quadrature.utils.quadrature import (\n",
    "    laguerre_function_final,\n",
    "    compute_gauss_laguerre_points_final,\n",
    "    gauss_laguerre_quadrature_final\n",
    ")"
   ]
  },
  {
   "cell_type": "markdown",
   "id": "88a1b91d",
   "metadata": {},
   "source": []
  },
  {
   "cell_type": "markdown",
   "id": "88106ff9",
   "metadata": {},
   "source": [
    "## Mathematical Foundations\n",
    "\n",
    "### Gaussian Quadrature Theory\n",
    "\n",
    "Gaussian quadrature is a numerical integration technique that approximates the definite integral of a function by a weighted sum:\n",
    "\n",
    "$$\\int_a^b f(x)w(x)dx \\approx \\sum_{i=1}^n w_i f(x_i)$$\n",
    "\n",
    "where:\n",
    "- $w(x)$ is a weight function\n",
    "- $x_i$ are the quadrature points (nodes)\n",
    "- $w_i$ are the quadrature weights\n",
    "\n",
    "### Gauss-Laguerre Quadrature\n",
    "\n",
    "For our caplet pricing, we use Gauss-Laguerre quadrature, which is specialized for integrals of the form:\n",
    "\n",
    "$$\\int_0^\\infty f(x)e^{-x}dx \\approx \\sum_{i=1}^n w_i f(x_i)$$\n",
    "\n",
    "The nodes $x_i$ are the roots of the nth Laguerre polynomial $L_n(x)$, and the weights are given by:\n",
    "\n",
    "$$w_i = \\frac{(n!)^2}{x_i[L_{n+1}(x_i)]^2}$$"
   ]
  },
  {
   "cell_type": "markdown",
   "id": "3e78502e",
   "metadata": {},
   "source": [
    "### Implementation of Laguerre Functions\n",
    "\n",
    "Let's examine how we compute Laguerre polynomials numerically:"
   ]
  },
  {
   "cell_type": "code",
   "execution_count": null,
   "id": "0cf63b01",
   "metadata": {},
   "outputs": [],
   "source": [
    "# Generate points for visualization\n",
    "x = jnp.linspace(0, 10, 100)\n",
    "\n",
    "# Compute Laguerre polynomials for different orders\n",
    "results = []\n",
    "for n in [1, 2, 3, 4]:\n",
    "    L_n, _ = laguerre_function_final(n, x)\n",
    "    results.append(go.Scatter(\n",
    "        x=x,\n",
    "        y=L_n,\n",
    "        name=f'L_{n}(x)'\n",
    "    ))\n",
    "\n",
    "# Plot results\n",
    "fig = go.Figure(data=results)\n",
    "fig.update_layout(\n",
    "    title='Laguerre Polynomials',\n",
    "    xaxis_title='x',\n",
    "    yaxis_title='L_n(x)',\n",
    "    template='plotly_dark'\n",
    ")\n",
    "fig.show()"
   ]
  },
  {
   "cell_type": "markdown",
   "id": "fe1a18ef",
   "metadata": {},
   "source": [
    "## Caplet Pricing with Bachelier Model\n",
    "\n",
    "The Bachelier model for caplet pricing involves computing:\n",
    "\n",
    "$$V_{caplet} = \\tau P(t,T)\\mathbb{E}^T_t[(R(T) - K)^+]$$\n",
    "\n",
    "where:\n",
    "- $\\tau$ is the accrual period\n",
    "- $P(t,T)$ is the discount factor\n",
    "- $R(T)$ is the forward rate\n",
    "- $K$ is the strike rate\n",
    "\n",
    "Let's implement and compare both pricing methods:"
   ]
  },
  {
   "cell_type": "code",
   "execution_count": null,
   "id": "c913989c",
   "metadata": {},
   "outputs": [],
   "source": [
    "# Example parameters\n",
    "RtT = 0.05      # Forward rate (5%)\n",
    "K = 0.04        # Strike rate (4%)\n",
    "sigma_gtT = 0.01 # Volatility (1%)\n",
    "tau = 0.5       # Accrual period (6 months)\n",
    "PtT = 0.98      # Discount factor\n",
    "\n",
    "# Compare methods with different numbers of quadrature points\n",
    "n_points_list = [5, 10, 20, 30]\n",
    "results = []\n",
    "\n",
    "for n in n_points_list:\n",
    "    result = compare_pricing_models(RtT, K, sigma_gtT, tau, PtT, n)\n",
    "    results.append({\n",
    "        'n_points': n,\n",
    "        'taylor': result['Taylor Series'],\n",
    "        'laguerre': result['Laguerre Quadrature']\n",
    "    })\n",
    "\n",
    "# Create comparison table\n",
    "from IPython.display import display, HTML\n",
    "import pandas as pd\n",
    "\n",
    "df = pd.DataFrame([\n",
    "    {\n",
    "        'Points': r['n_points'],\n",
    "        'Taylor Price': r['taylor']['Price'],\n",
    "        'Laguerre Price': r['laguerre']['Price'],\n",
    "        'Relative Diff (%)': abs(r['taylor']['Price'] - r['laguerre']['Price'])/r['taylor']['Price'] * 100\n",
    "    } for r in results\n",
    "])\n",
    "\n",
    "display(HTML(df.to_html(float_format=lambda x: '%.8f' % x)))"
   ]
  },
  {
   "cell_type": "markdown",
   "id": "7af42546",
   "metadata": {},
   "source": [
    "## Numerical Stability Analysis\n",
    "\n",
    "Our implementation includes several numerical stability improvements:\n",
    "\n",
    "1. Scaled recurrence relations for Laguerre polynomials\n",
    "2. Careful handling of exponential terms\n",
    "3. Adaptive damping in Newton iterations\n",
    "\n",
    "Let's examine the stability of our quadrature implementation:"
   ]
  },
  {
   "cell_type": "code",
   "execution_count": null,
   "id": "836a1067",
   "metadata": {},
   "outputs": [],
   "source": [
    "# Test stability for different numbers of points\n",
    "def analyze_stability(n_points_list=[5, 10, 20, 30]):\n",
    "    results = []\n",
    "    for n in n_points_list:\n",
    "        nodes, weights = compute_gauss_laguerre_points_final(n)\n",
    "        results.append({\n",
    "            'n': n,\n",
    "            'max_node': float(jnp.max(nodes)),\n",
    "            'min_weight': float(jnp.min(weights)),\n",
    "            'max_weight': float(jnp.max(weights)),\n",
    "            'condition': float(jnp.max(weights)/jnp.min(weights))\n",
    "        })\n",
    "    return pd.DataFrame(results)\n",
    "\n",
    "stability_df = analyze_stability()\n",
    "display(HTML(stability_df.to_html(float_format=lambda x: '%.2e' % x)))"
   ]
  },
  {
   "cell_type": "markdown",
   "id": "083a0d7e",
   "metadata": {},
   "source": [
    "## Error Analysis\n",
    "\n",
    "For validation, let's compute a known integral and analyze the error convergence:"
   ]
  },
  {
   "cell_type": "code",
   "execution_count": null,
   "id": "86d9f3ba",
   "metadata": {},
   "outputs": [],
   "source": [
    "# Test function with known integral\n",
    "def test_func(x):\n",
    "    return x * jnp.exp(-x/2)  # ∫₀^∞ xe^(-3x/2)dx = 4/9\n",
    "\n",
    "exact = 4.0/9.0\n",
    "n_points = range(5, 31, 5)\n",
    "errors = []\n",
    "\n",
    "for n in n_points:\n",
    "    result = generalized_laguerre_quadrature(test_func, n)\n",
    "    rel_error = abs(result - exact)/exact\n",
    "    errors.append({\n",
    "        'n_points': n,\n",
    "        'result': result,\n",
    "        'rel_error': rel_error\n",
    "    })\n",
    "\n",
    "# Plot error convergence\n",
    "fig = go.Figure(data=go.Scatter(\n",
    "    x=[e['n_points'] for e in errors],\n",
    "    y=[e['rel_error'] for e in errors],\n",
    "    mode='lines+markers'\n",
    "))\n",
    "\n",
    "fig.update_layout(\n",
    "    title='Error Convergence',\n",
    "    xaxis_title='Number of quadrature points',\n",
    "    yaxis_title='Relative error',\n",
    "    yaxis_type='log',\n",
    "    template='plotly_dark'\n",
    ")\n",
    "fig.show()"
   ]
  }
 ],
 "metadata": {
  "kernelspec": {
   "display_name": "base",
   "language": "python",
   "name": "python3"
  },
  "language_info": {
   "codemirror_mode": {
    "name": "ipython",
    "version": 3
   },
   "file_extension": ".py",
   "mimetype": "text/x-python",
   "name": "python",
   "nbconvert_exporter": "python",
   "pygments_lexer": "ipython3",
   "version": "3.11.9"
  }
 },
 "nbformat": 4,
 "nbformat_minor": 5
}
