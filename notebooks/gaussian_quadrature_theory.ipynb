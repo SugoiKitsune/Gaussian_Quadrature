{
 "cells": [
  {
   "cell_type": "markdown",
   "metadata": {},
   "source": [
    "# Gaussian Quadrature for Financial Mathematics\n",
    "\n",
    "This notebook explores the theoretical foundations and implementation of Gaussian quadrature methods, with specific focus on financial applications using the Bachelier model.\n",
    "\n",
    "## 1. Introduction to Gaussian Quadrature\n",
    "\n",
    "Gaussian quadrature is a numerical integration technique that approximates definite integrals using a weighted sum:\n",
    "\n",
    "$$\\int_a^b f(x)w(x)dx \\approx \\sum_{i=1}^n w_i f(x_i)$$\n",
    "\n",
    "where $w_i$ are weights and $x_i$ are the quadrature points."
   ]
  }
 ],
 "metadata": {
  "language_info": {
   "name": "python"
  }
 },
 "nbformat": 4,
 "nbformat_minor": 5
}
