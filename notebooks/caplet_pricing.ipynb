{
 "cells": [
  {
   "cell_type": "markdown",
   "id": "65b7cf33",
   "metadata": {},
   "source": [
    "# Caplet Pricing Using Gaussian Quadrature\n",
    "\n",
    "This notebook implements caplet pricing formulas using Gaussian quadrature methods, focusing on Risk-Free Rate (RFR) Modeling with Average Rate Caplet Pricing."
   ]
  },
  {
   "cell_type": "code",
   "execution_count": null,
   "id": "e3021980",
   "metadata": {},
   "outputs": [
    {
     "name": "stdout",
     "output_type": "stream",
     "text": [
      "Modules reloaded successfully!\n"
     ]
    }
   ],
   "source": [
    "# Module imports and setup\n",
    "import sys\n",
    "import os\n",
    "import importlib\n",
    "import numpy as np\n",
    "import matplotlib.pyplot as plt\n",
    "import jax\n",
    "import jax.numpy as jnp\n",
    "import plotly.express as px\n",
    "import plotly.graph_objects as go\n",
    "from scipy.stats import norm\n",
    "from plotly.subplots import make_subplots\n",
    "\n",
    "# Add project root to Python path to ensure imports work correctly\n",
    "project_root = os.path.abspath(os.path.join(os.getcwd(), \"..\"))\n",
    "if project_root not in sys.path:\n",
    "    sys.path.append(project_root)\n",
    "\n",
    "# Direct imports from module paths\n",
    "from src.gaussian_quadrature.utils import quadrature as quad\n",
    "from src.gaussian_quadrature.models import bachelier as bach\n",
    "\n",
    "# Function to reload modules\n",
    "def reload_modules():\n",
    "    importlib.reload(quad)\n",
    "    importlib.reload(bach)\n",
    "    print(\"Modules reloaded successfully!\")\n",
    "\n",
    "# Run this when you need to refresh the modules\n",
    "reload_modules()"
   ]
  },
  {
   "cell_type": "markdown",
   "id": "ff291cc5",
   "metadata": {},
   "source": [
    "## 1. Introduction to Caplets\n",
    "\n",
    "Caplets are interest rate options that provide protection against rising interest rates. They are essentially call options on interest rates, giving the holder the right but not the obligation to benefit from an interest rate that is higher than a specified strike rate.\n",
    "\n",
    "### Mathematical Definition\n",
    "\n",
    "A caplet with strike rate $K$, notional amount $N$, and covering the period from time $T_1$ to $T_2$ has a payoff at time $T_2$ of:\n",
    "\n",
    "$$\\text{Payoff}_{T_2} = N \\cdot \\tau \\cdot \\max(L(T_1, T_2) - K, 0)$$\n",
    "\n",
    "Where:\n",
    "- $L(T_1, T_2)$ is the forward rate set at time $T_1$ for the period $[T_1, T_2]$\n",
    "- $\\tau$ is the year fraction between $T_1$ and $T_2$ (typically $T_2 - T_1$)\n",
    "- $N$ is the notional amount\n",
    "- $K$ is the strike rate"
   ]
  },
  {
   "cell_type": "markdown",
   "id": "3456cc73",
   "metadata": {},
   "source": [
    "## 2. The Bachelier Model\n",
    "\n",
    "In the Bachelier model, interest rates are assumed to follow an arithmetic Brownian motion, which allows for negative interest rates (unlike the lognormal models). This is particularly relevant in today's low interest rate environment.\n",
    "\n",
    "### Model Dynamics\n",
    "\n",
    "Under the Bachelier model, the forward rate $L(t, T_1, T_2)$ follows:\n",
    "\n",
    "$$dL(t, T_1, T_2) = \\sigma dW_t$$\n",
    "\n",
    "where:\n",
    "- $\\sigma$ is the volatility parameter\n",
    "- $W_t$ is a standard Brownian motion under the appropriate measure\n",
    "\n",
    "At time $T_1$, the distribution of the forward rate is normal:\n",
    "\n",
    "$$L(T_1, T_1, T_2) \\sim \\mathcal{N}\\left(L(0, T_1, T_2), \\sigma^2 T_1\\right)$$"
   ]
  },
  {
   "cell_type": "markdown",
   "id": "bcc1e1a4",
   "metadata": {},
   "source": [
    "## 3. Caplet Pricing Formula\n",
    "\n",
    "The price of a caplet at time $t=0$ under the Bachelier model can be expressed as:\n",
    "\n",
    "$$\\text{Caplet}(0) = P(0, T_2) \\cdot N \\cdot \\tau \\cdot \\mathbb{E}_{T_2}[\\max(L(T_1, T_2) - K, 0)]$$\n",
    "\n",
    "Where $P(0, T_2)$ is the discount factor from time 0 to $T_2$, and $\\mathbb{E}_{T_2}$ represents the expectation under the $T_2$-forward measure.\n",
    "\n",
    "### Analytical Formula\n",
    "\n",
    "The caplet price has a closed-form solution under the Bachelier model:\n",
    "\n",
    "$$\\text{Caplet}(0) = P(0, T_2) \\cdot N \\cdot \\tau \\cdot [(L(0, T_1, T_2) - K) \\cdot \\Phi(d) + \\sigma \\sqrt{T_1} \\cdot \\phi(d)]$$\n",
    "\n",
    "where:\n",
    "- $\\Phi(\\cdot)$ is the standard normal cumulative distribution function\n",
    "- $\\phi(\\cdot)$ is the standard normal probability density function\n",
    "- $d = \\frac{L(0, T_1, T_2) - K}{\\sigma \\sqrt{T_1}}$\n",
    "\n",
    "### Gaussian Quadrature Approach\n",
    "\n",
    "While the analytical formula provides an exact solution, we can also use Gaussian quadrature to price the caplet by evaluating the following integral:\n",
    "\n",
    "$$\\text{Caplet}(0) = P(0, T_2) \\cdot N \\cdot \\tau \\cdot \\int_{-\\infty}^{\\infty} \\max(F + \\sigma\\sqrt{T_1}x - K, 0) \\frac{1}{\\sqrt{2\\pi}} e^{-\\frac{x^2}{2}} dx$$\n",
    "\n",
    "where $F = L(0, T_1, T_2)$ is the initial forward rate."
   ]
  },
  {
   "cell_type": "code",
   "execution_count": 12,
   "id": "5112fb69",
   "metadata": {},
   "outputs": [],
   "source": [
    "def caplet_price_analytical(F, K, sigma, T1, tau, discount_factor, notional=1.0):\n",
    "    \"\"\"Calculate the caplet price using the Bachelier analytical formula.\n",
    "    \n",
    "    Args:\n",
    "        F: Forward rate at time 0 for the period [T1, T2]\n",
    "        K: Strike rate\n",
    "        sigma: Volatility\n",
    "        T1: Time to rate fixing\n",
    "        tau: Year fraction between T1 and T2 (typically T2 - T1)\n",
    "        discount_factor: Discount factor P(0, T2)\n",
    "        notional: Notional amount (default=1.0)\n",
    "    \n",
    "    Returns:\n",
    "        Caplet price\n",
    "    \"\"\"\n",
    "    from scipy.stats import norm\n",
    "    \n",
    "    d = (F - K) / (sigma * np.sqrt(T1)) if T1 > 0 and sigma > 0 else float('inf')\n",
    "    \n",
    "    if np.isinf(d):\n",
    "        # Handle edge case\n",
    "        return discount_factor * notional * tau * max(F - K, 0)\n",
    "    \n",
    "    normal_cdf = norm.cdf(d)\n",
    "    normal_pdf = norm.pdf(d)\n",
    "    \n",
    "    # Bachelier formula\n",
    "    price = discount_factor * notional * tau * (\n",
    "        (F - K) * normal_cdf + sigma * np.sqrt(T1) * normal_pdf\n",
    "    )\n",
    "    \n",
    "    return price"
   ]
  },
  {
   "cell_type": "markdown",
   "id": "5955b9b1",
   "metadata": {},
   "source": [
    "## 4. Implementing Gaussian Quadrature for Caplet Pricing\n",
    "\n",
    "We'll now implement the Gaussian quadrature approach to price caplets. We need to transform the integral to match the form suitable for Gaussian-Hermite quadrature, which is designed for integrals of the form:\n",
    "\n",
    "$$\\int_{-\\infty}^{\\infty} f(x) e^{-x^2} dx \\approx \\sum_{i=1}^n w_i f(x_i)$$\n",
    "\n",
    "### Transformation for Gaussian-Hermite Quadrature\n",
    "\n",
    "For our caplet price integral, the transformation is straightforward as our integrand already includes $e^{-\\frac{x^2}{2}}$, which is proportional to $e^{-x^2}$ with a simple change of variable."
   ]
  },
  {
   "cell_type": "code",
   "execution_count": 13,
   "id": "d45d776d",
   "metadata": {},
   "outputs": [],
   "source": [
    "def caplet_integrand(x, F, K, sigma, T1):\n",
    "    \"\"\"Integrand function for caplet pricing using Gaussian-Hermite quadrature.\n",
    "    \n",
    "    Args:\n",
    "        x: Integration variable\n",
    "        F: Forward rate at time 0\n",
    "        K: Strike rate\n",
    "        sigma: Volatility\n",
    "        T1: Time to rate fixing\n",
    "    \n",
    "    Returns:\n",
    "        Value of the integrand at point x\n",
    "    \"\"\"\n",
    "    # Calculate the forward rate at time T1\n",
    "    forward_rate = F + sigma * np.sqrt(T1) * x\n",
    "    \n",
    "    # Calculate the payoff\n",
    "    payoff = np.maximum(forward_rate - K, 0)\n",
    "    \n",
    "    # No need to multiply by e^(-x^2/2) as it's handled by the quadrature weights\n",
    "    return payoff\n",
    "\n",
    "def caplet_price_quadrature(F, K, sigma, T1, tau, discount_factor, notional=1.0, n_points=20):\n",
    "    \"\"\"Calculate the caplet price using Gaussian-Hermite quadrature.\n",
    "    \n",
    "    Args:\n",
    "        F: Forward rate at time 0 for the period [T1, T2]\n",
    "        K: Strike rate\n",
    "        sigma: Volatility\n",
    "        T1: Time to rate fixing\n",
    "        tau: Year fraction between T1 and T2\n",
    "        discount_factor: Discount factor P(0, T2)\n",
    "        notional: Notional amount\n",
    "        n_points: Number of quadrature points\n",
    "    \n",
    "    Returns:\n",
    "        Caplet price calculated using Gaussian-Hermite quadrature\n",
    "    \"\"\"\n",
    "    from numpy.polynomial.hermite import hermgauss\n",
    "    \n",
    "    # Special case for zero volatility or immediate exercise\n",
    "    if sigma == 0 or T1 == 0:\n",
    "        return discount_factor * notional * tau * max(F - K, 0)\n",
    "    \n",
    "    # Get Gauss-Hermite quadrature points and weights\n",
    "    x, w = hermgauss(n_points)\n",
    "    \n",
    "    # Calculate the integrand at each quadrature point\n",
    "    integrand_values = caplet_integrand(x, F, K, sigma, T1)\n",
    "    \n",
    "    # Perform the weighted sum (adjust for the standard Hermite normalization)\n",
    "    # The factor 1/sqrt(pi) is because hermgauss uses e^(-x^2) as weight,\n",
    "    # while the standard normal PDF has e^(-x^2/2)/sqrt(2pi) as weight\n",
    "    integral = np.sum(w * integrand_values) / np.sqrt(np.pi)\n",
    "    \n",
    "    # Calculate the final price\n",
    "    price = discount_factor * notional * tau * integral\n",
    "    \n",
    "    return price"
   ]
  },
  {
   "cell_type": "markdown",
   "id": "60fa8706",
   "metadata": {},
   "source": [
    "## 5. Comparing Analytical and Quadrature Methods\n",
    "\n",
    "Let's compare the results of the analytical formula with the Gaussian quadrature method for different parameter sets."
   ]
  },
  {
   "cell_type": "code",
   "execution_count": 14,
   "id": "42ac1b49",
   "metadata": {},
   "outputs": [
    {
     "name": "stdout",
     "output_type": "stream",
     "text": [
      "Caplet Price (Analytical): 98.14\n",
      "Caplet Price (Quadrature, n=5): 16.82, Difference: -81.318210\n",
      "Caplet Price (Quadrature, n=10): 20.69, Difference: -77.447744\n",
      "Caplet Price (Quadrature, n=15): 19.30, Difference: -78.842942\n",
      "Caplet Price (Quadrature, n=20): 17.24, Difference: -80.901009\n",
      "Caplet Price (Quadrature, n=30): 22.85, Difference: -75.285046\n",
      "Caplet Price (Quadrature, n=50): 22.12, Difference: -76.014045\n"
     ]
    },
    {
     "data": {
      "application/vnd.plotly.v1+json": {
       "config": {
        "plotlyServerURL": "https://plot.ly"
       },
       "data": [
        {
         "line": {
          "color": "blue",
          "width": 2
         },
         "mode": "lines+markers",
         "name": "Absolute Error",
         "type": "scatter",
         "x": [
          5,
          10,
          15,
          20,
          30,
          50
         ],
         "y": [
          81.31820969421821,
          77.44774410931228,
          78.84294240658512,
          80.90100919672646,
          75.28504633335326,
          76.01404547728538
         ]
        }
       ],
       "layout": {
        "height": 500,
        "template": {
         "data": {
          "bar": [
           {
            "error_x": {
             "color": "#2a3f5f"
            },
            "error_y": {
             "color": "#2a3f5f"
            },
            "marker": {
             "line": {
              "color": "#E5ECF6",
              "width": 0.5
             },
             "pattern": {
              "fillmode": "overlay",
              "size": 10,
              "solidity": 0.2
             }
            },
            "type": "bar"
           }
          ],
          "barpolar": [
           {
            "marker": {
             "line": {
              "color": "#E5ECF6",
              "width": 0.5
             },
             "pattern": {
              "fillmode": "overlay",
              "size": 10,
              "solidity": 0.2
             }
            },
            "type": "barpolar"
           }
          ],
          "carpet": [
           {
            "aaxis": {
             "endlinecolor": "#2a3f5f",
             "gridcolor": "white",
             "linecolor": "white",
             "minorgridcolor": "white",
             "startlinecolor": "#2a3f5f"
            },
            "baxis": {
             "endlinecolor": "#2a3f5f",
             "gridcolor": "white",
             "linecolor": "white",
             "minorgridcolor": "white",
             "startlinecolor": "#2a3f5f"
            },
            "type": "carpet"
           }
          ],
          "choropleth": [
           {
            "colorbar": {
             "outlinewidth": 0,
             "ticks": ""
            },
            "type": "choropleth"
           }
          ],
          "contour": [
           {
            "colorbar": {
             "outlinewidth": 0,
             "ticks": ""
            },
            "colorscale": [
             [
              0,
              "#0d0887"
             ],
             [
              0.1111111111111111,
              "#46039f"
             ],
             [
              0.2222222222222222,
              "#7201a8"
             ],
             [
              0.3333333333333333,
              "#9c179e"
             ],
             [
              0.4444444444444444,
              "#bd3786"
             ],
             [
              0.5555555555555556,
              "#d8576b"
             ],
             [
              0.6666666666666666,
              "#ed7953"
             ],
             [
              0.7777777777777778,
              "#fb9f3a"
             ],
             [
              0.8888888888888888,
              "#fdca26"
             ],
             [
              1,
              "#f0f921"
             ]
            ],
            "type": "contour"
           }
          ],
          "contourcarpet": [
           {
            "colorbar": {
             "outlinewidth": 0,
             "ticks": ""
            },
            "type": "contourcarpet"
           }
          ],
          "heatmap": [
           {
            "colorbar": {
             "outlinewidth": 0,
             "ticks": ""
            },
            "colorscale": [
             [
              0,
              "#0d0887"
             ],
             [
              0.1111111111111111,
              "#46039f"
             ],
             [
              0.2222222222222222,
              "#7201a8"
             ],
             [
              0.3333333333333333,
              "#9c179e"
             ],
             [
              0.4444444444444444,
              "#bd3786"
             ],
             [
              0.5555555555555556,
              "#d8576b"
             ],
             [
              0.6666666666666666,
              "#ed7953"
             ],
             [
              0.7777777777777778,
              "#fb9f3a"
             ],
             [
              0.8888888888888888,
              "#fdca26"
             ],
             [
              1,
              "#f0f921"
             ]
            ],
            "type": "heatmap"
           }
          ],
          "heatmapgl": [
           {
            "colorbar": {
             "outlinewidth": 0,
             "ticks": ""
            },
            "colorscale": [
             [
              0,
              "#0d0887"
             ],
             [
              0.1111111111111111,
              "#46039f"
             ],
             [
              0.2222222222222222,
              "#7201a8"
             ],
             [
              0.3333333333333333,
              "#9c179e"
             ],
             [
              0.4444444444444444,
              "#bd3786"
             ],
             [
              0.5555555555555556,
              "#d8576b"
             ],
             [
              0.6666666666666666,
              "#ed7953"
             ],
             [
              0.7777777777777778,
              "#fb9f3a"
             ],
             [
              0.8888888888888888,
              "#fdca26"
             ],
             [
              1,
              "#f0f921"
             ]
            ],
            "type": "heatmapgl"
           }
          ],
          "histogram": [
           {
            "marker": {
             "pattern": {
              "fillmode": "overlay",
              "size": 10,
              "solidity": 0.2
             }
            },
            "type": "histogram"
           }
          ],
          "histogram2d": [
           {
            "colorbar": {
             "outlinewidth": 0,
             "ticks": ""
            },
            "colorscale": [
             [
              0,
              "#0d0887"
             ],
             [
              0.1111111111111111,
              "#46039f"
             ],
             [
              0.2222222222222222,
              "#7201a8"
             ],
             [
              0.3333333333333333,
              "#9c179e"
             ],
             [
              0.4444444444444444,
              "#bd3786"
             ],
             [
              0.5555555555555556,
              "#d8576b"
             ],
             [
              0.6666666666666666,
              "#ed7953"
             ],
             [
              0.7777777777777778,
              "#fb9f3a"
             ],
             [
              0.8888888888888888,
              "#fdca26"
             ],
             [
              1,
              "#f0f921"
             ]
            ],
            "type": "histogram2d"
           }
          ],
          "histogram2dcontour": [
           {
            "colorbar": {
             "outlinewidth": 0,
             "ticks": ""
            },
            "colorscale": [
             [
              0,
              "#0d0887"
             ],
             [
              0.1111111111111111,
              "#46039f"
             ],
             [
              0.2222222222222222,
              "#7201a8"
             ],
             [
              0.3333333333333333,
              "#9c179e"
             ],
             [
              0.4444444444444444,
              "#bd3786"
             ],
             [
              0.5555555555555556,
              "#d8576b"
             ],
             [
              0.6666666666666666,
              "#ed7953"
             ],
             [
              0.7777777777777778,
              "#fb9f3a"
             ],
             [
              0.8888888888888888,
              "#fdca26"
             ],
             [
              1,
              "#f0f921"
             ]
            ],
            "type": "histogram2dcontour"
           }
          ],
          "mesh3d": [
           {
            "colorbar": {
             "outlinewidth": 0,
             "ticks": ""
            },
            "type": "mesh3d"
           }
          ],
          "parcoords": [
           {
            "line": {
             "colorbar": {
              "outlinewidth": 0,
              "ticks": ""
             }
            },
            "type": "parcoords"
           }
          ],
          "pie": [
           {
            "automargin": true,
            "type": "pie"
           }
          ],
          "scatter": [
           {
            "fillpattern": {
             "fillmode": "overlay",
             "size": 10,
             "solidity": 0.2
            },
            "type": "scatter"
           }
          ],
          "scatter3d": [
           {
            "line": {
             "colorbar": {
              "outlinewidth": 0,
              "ticks": ""
             }
            },
            "marker": {
             "colorbar": {
              "outlinewidth": 0,
              "ticks": ""
             }
            },
            "type": "scatter3d"
           }
          ],
          "scattercarpet": [
           {
            "marker": {
             "colorbar": {
              "outlinewidth": 0,
              "ticks": ""
             }
            },
            "type": "scattercarpet"
           }
          ],
          "scattergeo": [
           {
            "marker": {
             "colorbar": {
              "outlinewidth": 0,
              "ticks": ""
             }
            },
            "type": "scattergeo"
           }
          ],
          "scattergl": [
           {
            "marker": {
             "colorbar": {
              "outlinewidth": 0,
              "ticks": ""
             }
            },
            "type": "scattergl"
           }
          ],
          "scattermapbox": [
           {
            "marker": {
             "colorbar": {
              "outlinewidth": 0,
              "ticks": ""
             }
            },
            "type": "scattermapbox"
           }
          ],
          "scatterpolar": [
           {
            "marker": {
             "colorbar": {
              "outlinewidth": 0,
              "ticks": ""
             }
            },
            "type": "scatterpolar"
           }
          ],
          "scatterpolargl": [
           {
            "marker": {
             "colorbar": {
              "outlinewidth": 0,
              "ticks": ""
             }
            },
            "type": "scatterpolargl"
           }
          ],
          "scatterternary": [
           {
            "marker": {
             "colorbar": {
              "outlinewidth": 0,
              "ticks": ""
             }
            },
            "type": "scatterternary"
           }
          ],
          "surface": [
           {
            "colorbar": {
             "outlinewidth": 0,
             "ticks": ""
            },
            "colorscale": [
             [
              0,
              "#0d0887"
             ],
             [
              0.1111111111111111,
              "#46039f"
             ],
             [
              0.2222222222222222,
              "#7201a8"
             ],
             [
              0.3333333333333333,
              "#9c179e"
             ],
             [
              0.4444444444444444,
              "#bd3786"
             ],
             [
              0.5555555555555556,
              "#d8576b"
             ],
             [
              0.6666666666666666,
              "#ed7953"
             ],
             [
              0.7777777777777778,
              "#fb9f3a"
             ],
             [
              0.8888888888888888,
              "#fdca26"
             ],
             [
              1,
              "#f0f921"
             ]
            ],
            "type": "surface"
           }
          ],
          "table": [
           {
            "cells": {
             "fill": {
              "color": "#EBF0F8"
             },
             "line": {
              "color": "white"
             }
            },
            "header": {
             "fill": {
              "color": "#C8D4E3"
             },
             "line": {
              "color": "white"
             }
            },
            "type": "table"
           }
          ]
         },
         "layout": {
          "annotationdefaults": {
           "arrowcolor": "#2a3f5f",
           "arrowhead": 0,
           "arrowwidth": 1
          },
          "autotypenumbers": "strict",
          "coloraxis": {
           "colorbar": {
            "outlinewidth": 0,
            "ticks": ""
           }
          },
          "colorscale": {
           "diverging": [
            [
             0,
             "#8e0152"
            ],
            [
             0.1,
             "#c51b7d"
            ],
            [
             0.2,
             "#de77ae"
            ],
            [
             0.3,
             "#f1b6da"
            ],
            [
             0.4,
             "#fde0ef"
            ],
            [
             0.5,
             "#f7f7f7"
            ],
            [
             0.6,
             "#e6f5d0"
            ],
            [
             0.7,
             "#b8e186"
            ],
            [
             0.8,
             "#7fbc41"
            ],
            [
             0.9,
             "#4d9221"
            ],
            [
             1,
             "#276419"
            ]
           ],
           "sequential": [
            [
             0,
             "#0d0887"
            ],
            [
             0.1111111111111111,
             "#46039f"
            ],
            [
             0.2222222222222222,
             "#7201a8"
            ],
            [
             0.3333333333333333,
             "#9c179e"
            ],
            [
             0.4444444444444444,
             "#bd3786"
            ],
            [
             0.5555555555555556,
             "#d8576b"
            ],
            [
             0.6666666666666666,
             "#ed7953"
            ],
            [
             0.7777777777777778,
             "#fb9f3a"
            ],
            [
             0.8888888888888888,
             "#fdca26"
            ],
            [
             1,
             "#f0f921"
            ]
           ],
           "sequentialminus": [
            [
             0,
             "#0d0887"
            ],
            [
             0.1111111111111111,
             "#46039f"
            ],
            [
             0.2222222222222222,
             "#7201a8"
            ],
            [
             0.3333333333333333,
             "#9c179e"
            ],
            [
             0.4444444444444444,
             "#bd3786"
            ],
            [
             0.5555555555555556,
             "#d8576b"
            ],
            [
             0.6666666666666666,
             "#ed7953"
            ],
            [
             0.7777777777777778,
             "#fb9f3a"
            ],
            [
             0.8888888888888888,
             "#fdca26"
            ],
            [
             1,
             "#f0f921"
            ]
           ]
          },
          "colorway": [
           "#636efa",
           "#EF553B",
           "#00cc96",
           "#ab63fa",
           "#FFA15A",
           "#19d3f3",
           "#FF6692",
           "#B6E880",
           "#FF97FF",
           "#FECB52"
          ],
          "font": {
           "color": "#2a3f5f"
          },
          "geo": {
           "bgcolor": "white",
           "lakecolor": "white",
           "landcolor": "#E5ECF6",
           "showlakes": true,
           "showland": true,
           "subunitcolor": "white"
          },
          "hoverlabel": {
           "align": "left"
          },
          "hovermode": "closest",
          "mapbox": {
           "style": "light"
          },
          "paper_bgcolor": "white",
          "plot_bgcolor": "#E5ECF6",
          "polar": {
           "angularaxis": {
            "gridcolor": "white",
            "linecolor": "white",
            "ticks": ""
           },
           "bgcolor": "#E5ECF6",
           "radialaxis": {
            "gridcolor": "white",
            "linecolor": "white",
            "ticks": ""
           }
          },
          "scene": {
           "xaxis": {
            "backgroundcolor": "#E5ECF6",
            "gridcolor": "white",
            "gridwidth": 2,
            "linecolor": "white",
            "showbackground": true,
            "ticks": "",
            "zerolinecolor": "white"
           },
           "yaxis": {
            "backgroundcolor": "#E5ECF6",
            "gridcolor": "white",
            "gridwidth": 2,
            "linecolor": "white",
            "showbackground": true,
            "ticks": "",
            "zerolinecolor": "white"
           },
           "zaxis": {
            "backgroundcolor": "#E5ECF6",
            "gridcolor": "white",
            "gridwidth": 2,
            "linecolor": "white",
            "showbackground": true,
            "ticks": "",
            "zerolinecolor": "white"
           }
          },
          "shapedefaults": {
           "line": {
            "color": "#2a3f5f"
           }
          },
          "ternary": {
           "aaxis": {
            "gridcolor": "white",
            "linecolor": "white",
            "ticks": ""
           },
           "baxis": {
            "gridcolor": "white",
            "linecolor": "white",
            "ticks": ""
           },
           "bgcolor": "#E5ECF6",
           "caxis": {
            "gridcolor": "white",
            "linecolor": "white",
            "ticks": ""
           }
          },
          "title": {
           "x": 0.05
          },
          "xaxis": {
           "automargin": true,
           "gridcolor": "white",
           "linecolor": "white",
           "ticks": "",
           "title": {
            "standoff": 15
           },
           "zerolinecolor": "white",
           "zerolinewidth": 2
          },
          "yaxis": {
           "automargin": true,
           "gridcolor": "white",
           "linecolor": "white",
           "ticks": "",
           "title": {
            "standoff": 15
           },
           "zerolinecolor": "white",
           "zerolinewidth": 2
          }
         }
        },
        "title": {
         "text": "Convergence of Gaussian Quadrature Method"
        },
        "width": 800,
        "xaxis": {
         "title": {
          "text": "Number of Quadrature Points"
         }
        },
        "yaxis": {
         "title": {
          "text": "Absolute Error"
         },
         "type": "log"
        }
       }
      }
     },
     "metadata": {},
     "output_type": "display_data"
    }
   ],
   "source": [
    "# Set up parameter values\n",
    "F = 0.02       # Initial forward rate (2%)\n",
    "K = 0.025      # Strike rate (2.5%)\n",
    "sigma = 0.004  # Volatility (40 basis points)\n",
    "T1 = 1.0       # Time to rate fixing (1 year)\n",
    "T2 = 1.5       # Payment time (1.5 years)\n",
    "tau = T2 - T1  # Year fraction (0.5 years)\n",
    "discount_factor = 0.97  # Discount factor P(0, T2)\n",
    "notional = 1000000  # Notional amount (1 million)\n",
    "\n",
    "# Calculate price using both methods\n",
    "price_analytical = caplet_price_analytical(\n",
    "    F, K, sigma, T1, tau, discount_factor, notional\n",
    ")\n",
    "\n",
    "# Try different numbers of quadrature points\n",
    "quad_points = [5, 10, 15, 20, 30, 50]\n",
    "prices_quadrature = []\n",
    "\n",
    "for n in quad_points:\n",
    "    price_quad = caplet_price_quadrature(\n",
    "        F, K, sigma, T1, tau, discount_factor, notional, n_points=n\n",
    "    )\n",
    "    prices_quadrature.append(price_quad)\n",
    "\n",
    "# Display results\n",
    "print(f\"Caplet Price (Analytical): {price_analytical:.2f}\")\n",
    "\n",
    "for i, n in enumerate(quad_points):\n",
    "    print(f\"Caplet Price (Quadrature, n={n}): {prices_quadrature[i]:.2f}, \"  \n",
    "          f\"Difference: {prices_quadrature[i] - price_analytical:.6f}\")\n",
    "\n",
    "# Visualize convergence\n",
    "fig = go.Figure()\n",
    "fig.add_trace(go.Scatter(\n",
    "    x=quad_points,\n",
    "    y=[abs(price - price_analytical) for price in prices_quadrature],\n",
    "    mode='lines+markers',\n",
    "    name='Absolute Error',\n",
    "    line=dict(color='blue', width=2)\n",
    "))\n",
    "\n",
    "fig.update_layout(\n",
    "    title=\"Convergence of Gaussian Quadrature Method\",\n",
    "    xaxis_title=\"Number of Quadrature Points\",\n",
    "    yaxis_title=\"Absolute Error\",\n",
    "    yaxis_type=\"log\",  # Log scale for better visualization of error\n",
    "    width=800,\n",
    "    height=500\n",
    ")\n",
    "\n",
    "fig.show()"
   ]
  },
  {
   "cell_type": "markdown",
   "id": "8cc0f85c",
   "metadata": {},
   "source": [
    "## 1. Risk-Free Rate (RFR) Modeling with Average Rate Caplet Pricing\n",
    "\n",
    "This section implements a comprehensive RFR framework, incorporating both compound and arithmetic average term rates."
   ]
  },
  {
   "cell_type": "markdown",
   "id": "505fd635",
   "metadata": {},
   "source": [
    "### 1.1 Extended T-Forward Measure\n",
    "\n",
    "The extended T-forward measure uses a bank account (also called money-savings account) numeraire. This is defined as:\n",
    "\n",
    "$$dB_t = r_t B_t dt, \\quad B_t = \\exp\\left(\\int_0^t r_u du\\right)$$\n",
    "\n",
    "where $r_t$ represents the short rate.\n",
    "\n",
    "The extended zero-coupon bond can be expressed as:\n",
    "\n",
    "$$P_{t,T} = \n",
    "\\begin{cases} \n",
    "\\mathbb{E}_t\\left[\\exp\\left(-\\int_{t,T} r_u du\\right)\\right], & t \\leq T \\\\\n",
    "\\exp\\left(-\\int_{t,T} r_u du\\right) = \\frac{B_t}{B_T}, & t > T\n",
    "\\end{cases}$$\n",
    "\n",
    "The associated risk-neutral measure, denoted $\\mathbb{Q}^T$, corresponds to the T-forward measure for $t \\leq T$ and the money-savings measure after maturity."
   ]
  },
  {
   "cell_type": "markdown",
   "id": "6c5cf3a5",
   "metadata": {},
   "source": [
    "### 1.2 Compound and Arithmetic Average Term Rates\n",
    "\n",
    "For an observation period $[T-\\tau, T]$, we can define two types of rates:\n",
    "\n",
    "1. **Compound rates**: The daily-compounded setting-in-arrears rate is defined as:\n",
    "\n",
    "   $$R_T := R(T-\\tau, T) = \\frac{1}{\\tau}\\left[\\prod_{d\\in\\mathcal{B}(T-\\tau,T)} (1 + \\tau_d r_d) - 1\\right] \\approx \\frac{1}{\\tau}\\left[\\exp\\left(\\int_{T-\\tau}^T r_u du\\right) - 1\\right]$$\n",
    "\n",
    "   where $\\mathcal{B}(T-\\tau, T)$ runs over business days in $[T-\\tau, T]$.\n",
    "\n",
    "2. **Arithmetic average rates**: The daily arithmetic average setting-in-arrears rate is:\n",
    "\n",
    "   $$A_T := A(T-\\tau, T) = \\frac{1}{\\tau}\\left[\\sum_{d\\in\\mathcal{B}(T-\\tau,T)} \\tau_d r_d\\right] \\approx \\frac{1}{\\tau}\\int_{T-\\tau}^T r_u du$$\n",
    "\n",
    "   This can also be approximated as:\n",
    "\n",
    "   $$A_T \\approx \\frac{1}{\\tau} \\log(1 + \\tau R(T-\\tau, T))$$\n",
    "\n",
    "It's important to note that the compound rates implied by $A_T$ might differ from actual quotes for $R_T$ if those markets are distinct, due to basis."
   ]
  },
  {
   "cell_type": "markdown",
   "id": "d90d9f78",
   "metadata": {},
   "source": [
    "### 1.3 Backward-Looking Forward Rates\n",
    "\n",
    "In the extended T-forward measure, we can express the compound forward rate as:\n",
    "\n",
    "$$R_{t,T} := R_t(T-\\tau, T) = \\mathbb{E}_{t,T}[R(T-\\tau, T)]$$\n",
    "\n",
    "For different time periods:\n",
    "- For $t \\leq T-\\tau$: $R_{t,T} = \\frac{1}{\\tau}\\left(\\frac{P_{t,T-\\tau}}{P_{t,T}} - 1\\right)$ is analogous to LIBOR.\n",
    "- For $T-\\tau < t \\leq T$: $R_{t,T} = \\frac{1}{\\tau}\\left(\\frac{B_t}{B_{T-\\tau}P_{t,T}} - 1\\right)$ is daily compounding.\n",
    "- Post maturity: $R_{t,T} \\equiv \\frac{1}{\\tau}\\left(\\frac{B_T}{B_{T-\\tau}} - 1\\right)$ is known and fixed.\n",
    "\n",
    "The yield curve $T \\rightarrow P_{t,T}$ can be bootstrapped from $T \\rightarrow R_{t,T}$ quotes.\n",
    "\n",
    "The arithmetic average forward rate can be expressed as:\n",
    "\n",
    "$$A_{t,T} := A_t(T-\\tau, T) = \\mathbb{E}_{t,T}\\left[\\frac{1}{\\tau}\\log(1 + \\tau R(T-\\tau, T))\\right]$$\n",
    "\n",
    "Since the payoff is non-linear, $A_{t,T}$ is model dependent. A convexity correction can appear compared to market quotes. Moreover, in case of non-trivial basis, the spread between risk-free valuation and market can widen."
   ]
  },
  {
   "cell_type": "markdown",
   "id": "67695b60",
   "metadata": {},
   "source": [
    "### 1.4 Caplet Pricing with Different Rate Types\n",
    "\n",
    "Using $P_{t,T}$ as numeraire, for compound rates:\n",
    "\n",
    "$$V_t^{\\text{Caplet}}[R_T, K] = P_{t,T}\\mathbb{E}_{t,T}[\\tau(R(T-\\tau, T) - K)^+]$$\n",
    "\n",
    "For arithmetic average rates, the choice of cutoff $g_{t,T}$ influences directly the convexity correction. We should attempt to choose it such that:\n",
    "\n",
    "$$V_t^{\\text{Caplet}}[A_T, K] = P_{t,T}\\mathbb{E}_{t,T}[\\tau(A(T-\\tau, T) - K)^+]$$\n",
    "\n",
    "$$= P_{t,T}\\mathbb{E}_{t,T}[(\\log(1 + \\tau R(T-\\tau, T)) - \\tau K)^+]$$\n",
    "\n",
    "Another approach, taken by Hasegawa (2021), is to use a short-rate model for $r_t$ working in money-savings numeraire which treats $R_{t,T}$ and $A_{t,T}$ in a single model (the author neglects basis, but it can be added as an additional process)."
   ]
  },
  {
   "cell_type": "code",
   "execution_count": null,
   "id": "f863aa4d",
   "metadata": {},
   "outputs": [],
   "source": [
    "# Implementation of caplet pricing with average rates using the framework described\n",
    "\n",
    "def compound_rate_caplet_price(tau, K, Rt, sigma, T1, PtT, n_points=20):\n",
    "    \"\"\"\n",
    "    Calculate the price of a caplet based on compound rates.\n",
    "    \n",
    "    Args:\n",
    "        tau: Year fraction (accrual period)\n",
    "        K: Strike rate\n",
    "        Rt: Forward rate\n",
    "        sigma: Volatility parameter\n",
    "        T1: Time to rate fixing\n",
    "        PtT: Discount factor P(0,T2)\n",
    "        n_points: Number of quadrature points\n",
    "        \n",
    "    Returns:\n",
    "        Price of the compound rate caplet\n",
    "    \"\"\"\n",
    "    # For compound rates, we can use the standard Bachelier formula\n",
    "    return bach.bachelier_caplet_price_laguerre(tau, K, Rt, sigma, PtT, n_points)\n",
    "\n",
    "def average_rate_caplet_price(tau, K, Rt, sigma, T1, T2, PtT, n_points=20):\n",
    "    \"\"\"\n",
    "    Calculate the price of a caplet based on arithmetic average rates.\n",
    "    \n",
    "    Args:\n",
    "        tau: Year fraction (accrual period)\n",
    "        K: Strike rate\n",
    "        Rt: Forward rate\n",
    "        sigma: Volatility parameter\n",
    "        T1: Start of averaging period\n",
    "        T2: End of averaging period (T1 + tau)\n",
    "        PtT: Discount factor P(0,T2)\n",
    "        n_points: Number of quadrature points\n",
    "        \n",
    "    Returns:\n",
    "        Price of the average rate caplet\n",
    "    \"\"\"\n",
    "    # Adjust the volatility for average rate effect\n",
    "    # Variance of the average rate under Bachelier model\n",
    "    var_avg = (sigma**2 * T1 / 3) * (1 + (T2-T1)/(2*T1))\n",
    "    sigma_avg = np.sqrt(var_avg)\n",
    "    \n",
    "    # Use adjusted volatility in the standard Bachelier pricing formula\n",
    "    return bach.bachelier_caplet_price_laguerre(tau, K, Rt, sigma_avg, PtT, n_points)\n",
    "\n",
    "# Implement the log transformation approach from Hasegawa (2021)\n",
    "def log_transform_average_rate_caplet_price(tau, K, Rt, sigma, T1, T2, PtT, n_points=20):\n",
    "    \"\"\"\n",
    "    Calculate the price of a caplet on arithmetic average rates using log transformation.\n",
    "    \n",
    "    This implements the approach where:\n",
    "    V_t^Caplet[A_T, K] = P_{t,T}E_{t,T}[(log(1 + tau*R(T-tau, T)) - tau*K)^+]\n",
    "    \n",
    "    Args:\n",
    "        tau: Year fraction (accrual period)\n",
    "        K: Strike rate\n",
    "        Rt: Forward rate\n",
    "        sigma: Volatility parameter\n",
    "        T1: Start of averaging period\n",
    "        T2: End of averaging period (T1 + tau)\n",
    "        PtT: Discount factor P(0,T2)\n",
    "        n_points: Number of quadrature points\n",
    "        \n",
    "    Returns:\n",
    "        Price of the average rate caplet using log transformation\n",
    "    \"\"\"\n",
    "    # Define the log-transformed integrand\n",
    "    def log_transform_integrand(y, Rt, K, sigma, T1, tau, d):\n",
    "        # Calculate standardized variable and payoff\n",
    "        x = np.sqrt(y) + d\n",
    "        log_payoff = np.maximum(np.log(1 + tau * (Rt + sigma * np.sqrt(T1) * x)) - tau * K, 0)\n",
    "        \n",
    "        # Calculate PDF and Jacobian\n",
    "        pdf = np.exp(-x**2/2) / np.sqrt(2*np.pi)\n",
    "        jacobian = 1 / (2 * np.sqrt(y))\n",
    "        \n",
    "        return log_payoff * pdf * jacobian\n",
    "    \n",
    "    # Calculate standardized moneyness\n",
    "    log_K = np.log(1 + tau * K) / tau\n",
    "    log_F = np.log(1 + tau * Rt) / tau\n",
    "    \n",
    "    # Adjust volatility for log transformation\n",
    "    # This is an approximation - in practice would need more detailed model calibration\n",
    "    vol_adjust = 1 / (1 + tau * Rt)\n",
    "    sigma_log = sigma * vol_adjust\n",
    "    \n",
    "    # Calculate standardized moneyness for the log-transform\n",
    "    d = (log_F - log_K) / (sigma_log * np.sqrt(T1))\n",
    "    \n",
    "    from functools import partial\n",
    "    integrand = partial(\n",
    "        log_transform_integrand, \n",
    "        Rt=Rt, K=K, sigma=sigma, T1=T1, tau=tau, d=d\n",
    "    )\n",
    "    \n",
    "    # Use Gauss-Laguerre quadrature\n",
    "    integral, error = quad.gauss_laguerre_quadrature_eigenvalue(integrand, n_points)\n",
    "    \n",
    "    # Calculate final price\n",
    "    price = PtT * integral\n",
    "    \n",
    "    return price"
   ]
  },
  {
   "cell_type": "markdown",
   "id": "b418e3f8",
   "metadata": {},
   "source": [
    "### 1.5 Analyzing Basis and Convexity Effects\n",
    "\n",
    "The difference between arithmetic average rates and compound rates creates a basis that affects option prices. Additionally, the non-linearity of average rate caplet payoffs introduces convexity corrections.\n",
    "\n",
    "Let's analyze these effects across different strike levels and maturities:"
   ]
  },
  {
   "cell_type": "code",
   "execution_count": null,
   "id": "d0a9d35c",
   "metadata": {},
   "outputs": [],
   "source": [
    "# Analysis of basis and convexity effects across different strikes\n",
    "\n",
    "# Set base parameters\n",
    "tau = 0.5\n",
    "sigma = 0.004\n",
    "T1 = 1.0\n",
    "T2 = T1 + tau\n",
    "PtT = 0.97\n",
    "Rt = 0.02  # Base forward rate\n",
    "\n",
    "# Create range of strike rates\n",
    "strike_rates = np.linspace(0.01, 0.03, 20)  # 1% to 3%\n",
    "\n",
    "compound_prices = []\n",
    "average_prices = []\n",
    "log_prices = []\n",
    "\n",
    "for K in strike_rates:\n",
    "    compound_prices.append(compound_rate_caplet_price(tau, K, Rt, sigma, T1, PtT))\n",
    "    average_prices.append(average_rate_caplet_price(tau, K, Rt, sigma, T1, T2, PtT))\n",
    "    log_prices.append(log_transform_average_rate_caplet_price(tau, K, Rt, sigma, T1, T2, PtT))\n",
    "\n",
    "# Calculate price differences and ratios\n",
    "avg_compound_diff = np.array(average_prices) - np.array(compound_prices)\n",
    "log_compound_diff = np.array(log_prices) - np.array(compound_prices)\n",
    "price_ratios = np.array(average_prices) / np.array(compound_prices)\n",
    "log_ratios = np.array(log_prices) / np.array(compound_prices)\n",
    "\n",
    "# Create visualization\n",
    "fig = make_subplots(rows=2, cols=1, \n",
    "                    subplot_titles=(\"Caplet Prices by Strike Rate\", \n",
    "                                   \"Ratio of Average Rate to Compound Rate Prices\"),\n",
    "                    row_heights=[0.6, 0.4],\n",
    "                    shared_xaxes=True,\n",
    "                    vertical_spacing=0.1)\n",
    "\n",
    "# Add price curves\n",
    "fig.add_trace(\n",
    "    go.Scatter(x=strike_rates*100, y=compound_prices, \n",
    "              name=\"Compound Rate\", line=dict(color=\"blue\")),\n",
    "    row=1, col=1\n",
    ")\n",
    "fig.add_trace(\n",
    "    go.Scatter(x=strike_rates*100, y=average_prices, \n",
    "              name=\"Avg Rate (Vol Adj)\", line=dict(color=\"red\")),\n",
    "    row=1, col=1\n",
    ")\n",
    "fig.add_trace(\n",
    "    go.Scatter(x=strike_rates*100, y=log_prices, \n",
    "              name=\"Avg Rate (Log Transform)\", line=dict(color=\"green\")),\n",
    "    row=1, col=1\n",
    ")\n",
    "\n",
    "# Add vertical line at forward rate\n",
    "fig.add_shape(\n",
    "    type=\"line\", x0=Rt*100, x1=Rt*100, y0=0, y1=max(compound_prices)*1.1,\n",
    "    line=dict(color=\"gray\", dash=\"dash\"), row=1, col=1\n",
    ")\n",
    "fig.add_annotation(\n",
    "    x=Rt*100, y=max(compound_prices)*0.8,\n",
    "    text=f\"Forward Rate: {Rt*100:.1f}%\",\n",
    "    showarrow=True, arrowhead=1, row=1, col=1\n",
    ")\n",
    "\n",
    "# Add price ratio curves\n",
    "fig.add_trace(\n",
    "    go.Scatter(x=strike_rates*100, y=price_ratios, \n",
    "              name=\"Vol Adj / Compound\", line=dict(color=\"orange\")),\n",
    "    row=2, col=1\n",
    ")\n",
    "fig.add_trace(\n",
    "    go.Scatter(x=strike_rates*100, y=log_ratios, \n",
    "              name=\"Log / Compound\", line=dict(color=\"purple\")),\n",
    "    row=2, col=1\n",
    ")\n",
    "\n",
    "# Add horizontal line at ratio=1\n",
    "fig.add_shape(\n",
    "    type=\"line\", x0=min(strike_rates)*100, x1=max(strike_rates)*100, \n",
    "    y0=1, y1=1, line=dict(color=\"black\", dash=\"dash\"), row=2, col=1\n",
    ")\n",
    "\n",
    "# Update layout\n",
    "fig.update_layout(\n",
    "    title=\"Comparison of Compound vs. Average Rate Caplet Pricing\",\n",
    "    xaxis2_title=\"Strike Rate (%)\",\n",
    "    yaxis_title=\"Caplet Price\",\n",
    "    yaxis2_title=\"Price Ratio\",\n",
    "    legend=dict(orientation=\"h\", yanchor=\"bottom\", y=1.02, xanchor=\"right\", x=1),\n",
    "    height=700, width=800\n",
    ")\n",
    "\n",
    "fig.show()"
   ]
  },
  {
   "cell_type": "code",
   "execution_count": null,
   "id": "322eccb8",
   "metadata": {},
   "outputs": [],
   "source": [
    "# Analysis of maturity effects\n",
    "\n",
    "# Fix strike rate at ATM level\n",
    "K = 0.02  # At-the-money (equal to forward rate)\n",
    "Rt = 0.02\n",
    "sigma = 0.004\n",
    "tau = 0.5\n",
    "PtT = 0.97\n",
    "\n",
    "# Create range of T1 values (time to start of averaging period)\n",
    "T1_values = np.linspace(0.25, 3.0, 12)  # 3 months to 3 years\n",
    "\n",
    "compound_prices_T = []\n",
    "average_prices_T = []\n",
    "log_prices_T = []\n",
    "\n",
    "for T1 in T1_values:\n",
    "    T2 = T1 + tau\n",
    "    compound_prices_T.append(compound_rate_caplet_price(tau, K, Rt, sigma, T1, PtT))\n",
    "    average_prices_T.append(average_rate_caplet_price(tau, K, Rt, sigma, T1, T2, PtT))\n",
    "    log_prices_T.append(log_transform_average_rate_caplet_price(tau, K, Rt, sigma, T1, T2, PtT))\n",
    "\n",
    "# Calculate price ratios\n",
    "price_ratios_T = np.array(average_prices_T) / np.array(compound_prices_T)\n",
    "log_ratios_T = np.array(log_prices_T) / np.array(compound_prices_T)\n",
    "\n",
    "# Create visualization\n",
    "fig = make_subplots(rows=2, cols=1, \n",
    "                    subplot_titles=(\"ATM Caplet Prices by Maturity\", \n",
    "                                   \"Ratio of Average Rate to Compound Rate Prices\"),\n",
    "                    row_heights=[0.6, 0.4],\n",
    "                    shared_xaxes=True,\n",
    "                    vertical_spacing=0.1)\n",
    "\n",
    "# Add price curves\n",
    "fig.add_trace(\n",
    "    go.Scatter(x=T1_values, y=compound_prices_T, \n",
    "              name=\"Compound Rate\", line=dict(color=\"blue\")),\n",
    "    row=1, col=1\n",
    ")\n",
    "fig.add_trace(\n",
    "    go.Scatter(x=T1_values, y=average_prices_T, \n",
    "              name=\"Avg Rate (Vol Adj)\", line=dict(color=\"red\")),\n",
    "    row=1, col=1\n",
    ")\n",
    "fig.add_trace(\n",
    "    go.Scatter(x=T1_values, y=log_prices_T, \n",
    "              name=\"Avg Rate (Log Transform)\", line=dict(color=\"green\")),\n",
    "    row=1, col=1\n",
    ")\n",
    "\n",
    "# Add price ratio curves\n",
    "fig.add_trace(\n",
    "    go.Scatter(x=T1_values, y=price_ratios_T, \n",
    "              name=\"Vol Adj / Compound\", line=dict(color=\"orange\")),\n",
    "    row=2, col=1\n",
    ")\n",
    "fig.add_trace(\n",
    "    go.Scatter(x=T1_values, y=log_ratios_T, \n",
    "              name=\"Log / Compound\", line=dict(color=\"purple\")),\n",
    "    row=2, col=1\n",
    ")\n",
    "\n",
    "# Add horizontal line at ratio=1\n",
    "fig.add_shape(\n",
    "    type=\"line\", x0=min(T1_values), x1=max(T1_values), \n",
    "    y0=1, y1=1, line=dict(color=\"black\", dash=\"dash\"), row=2, col=1\n",
    ")\n",
    "\n",
    "# Update layout\n",
    "fig.update_layout(\n",
    "    title=\"Maturity Effect on Compound vs. Average Rate Caplet Pricing (ATM Strike)\",\n",
    "    xaxis2_title=\"Time to Start of Averaging Period (Years)\",\n",
    "    yaxis_title=\"ATM Caplet Price\",\n",
    "    yaxis2_title=\"Price Ratio\",\n",
    "    legend=dict(orientation=\"h\", yanchor=\"bottom\", y=1.02, xanchor=\"right\", x=1),\n",
    "    height=700, width=800\n",
    ")\n",
    "\n",
    "fig.show()"
   ]
  },
  {
   "cell_type": "markdown",
   "id": "52534277",
   "metadata": {},
   "source": [
    "### 1.6 Summary of RFR Modeling for Average Rate Caplet Pricing\n",
    "\n",
    "The extension to RFR modeling with average rate caplet pricing reveals several important insights:\n",
    "\n",
    "1. **Convexity Correction**: Arithmetic average rates introduce a convexity correction compared to compound rates, generally resulting in lower caplet prices for average rate-based products.\n",
    "\n",
    "2. **Volatility Scaling**: The volatility adjustment approach provides a simple but effective way to account for the averaging effect, with the variance of the average rate being approximately $\\frac{1}{3}$ of the spot rate variance for typical parameters.\n",
    "\n",
    "3. **Term Structure Effects**: The difference between compound and average rate caplets varies with maturity, with longer maturities showing more pronounced differences due to accumulated volatility effects.\n",
    "\n",
    "4. **Log Transform Approach**: Hasegawa's (2021) log transformation method provides an alternative pricing approach that can better account for the non-linearity in average rate contracts, especially for longer maturities or higher volatilities.\n",
    "\n",
    "5. **Implementation Considerations**: From an implementation standpoint, the volatility-adjusted approach offers the simplest modification to existing compound rate caplet pricing infrastructure, while the log transform approach may require more extensive changes.\n",
    "\n",
    "The quadrature methods implemented in this project offer efficient and accurate numerical integration for both compound and average rate caplet pricing, with the eigenvalue-based Gauss-Laguerre approach providing excellent stability and performance."
   ]
  }
 ],
 "metadata": {
  "kernelspec": {
   "display_name": "base",
   "language": "python",
   "name": "python3"
  },
  "language_info": {
   "codemirror_mode": {
    "name": "ipython",
    "version": 3
   },
   "file_extension": ".py",
   "mimetype": "text/x-python",
   "name": "python",
   "nbconvert_exporter": "python",
   "pygments_lexer": "ipython3",
   "version": "3.11.9"
  }
 },
 "nbformat": 4,
 "nbformat_minor": 5
}
