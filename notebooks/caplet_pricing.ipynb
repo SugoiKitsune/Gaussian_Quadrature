{
 "cells": [
  {
   "cell_type": "markdown",
   "id": "65b7cf33",
   "metadata": {},
   "source": [
    "# Caplet Pricing Using Gaussian Quadrature\n",
    "\n",
    "This notebook implements caplet pricing formulas using Gaussian quadrature methods, based on the mathematical foundations presented in the research paper."
   ]
  },
  {
   "cell_type": "code",
   "execution_count": 14,
   "id": "e3021980",
   "metadata": {},
   "outputs": [
    {
     "name": "stdout",
     "output_type": "stream",
     "text": [
      "Modules reloaded successfully!\n"
     ]
    }
   ],
   "source": [
    "# Module imports and setup\n",
    "import sys\n",
    "import os\n",
    "import importlib\n",
    "import numpy as np\n",
    "import matplotlib.pyplot as plt\n",
    "import jax\n",
    "import jax.numpy as jnp\n",
    "import plotly.express as px\n",
    "import plotly.graph_objects as go\n",
    "\n",
    "# Add project root to Python path to ensure imports work correctly\n",
    "project_root = os.path.abspath(os.path.join(os.getcwd(), \"..\"))\n",
    "if project_root not in sys.path:\n",
    "    sys.path.append(project_root)\n",
    "\n",
    "# Direct imports from module paths\n",
    "from src.gaussian_quadrature.utils import quadrature as quad\n",
    "from src.gaussian_quadrature.models import bachelier as bach\n",
    "\n",
    "# Function to reload modules\n",
    "def reload_modules():\n",
    "    importlib.reload(quad)\n",
    "    importlib.reload(bach)\n",
    "    print(\"Modules reloaded successfully!\")\n",
    "\n",
    "# Run this when you need to refresh the modules\n",
    "reload_modules()"
   ]
  },
  {
   "cell_type": "markdown",
   "id": "ff291cc5",
   "metadata": {},
   "source": [
    "## 1. Introduction to Caplets\n",
    "\n",
    "Caplets are interest rate options that provide protection against rising interest rates. They are essentially call options on interest rates, giving the holder the right but not the obligation to benefit from an interest rate that is higher than a specified strike rate.\n",
    "\n",
    "### Mathematical Definition\n",
    "\n",
    "A caplet with strike rate $K$, notional amount $N$, and covering the period from time $T_1$ to $T_2$ has a payoff at time $T_2$ of:\n",
    "\n",
    "$$\\text{Payoff}_{T_2} = N \\cdot \\tau \\cdot \\max(L(T_1, T_2) - K, 0)$$\n",
    "\n",
    "Where:\n",
    "- $L(T_1, T_2)$ is the forward rate set at time $T_1$ for the period $[T_1, T_2]$\n",
    "- $\\tau$ is the year fraction between $T_1$ and $T_2$ (typically $T_2 - T_1$)\n",
    "- $N$ is the notional amount\n",
    "- $K$ is the strike rate"
   ]
  },
  {
   "cell_type": "markdown",
   "id": "3456cc73",
   "metadata": {},
   "source": [
    "## 2. The Bachelier Model\n",
    "\n",
    "In the Bachelier model, interest rates are assumed to follow an arithmetic Brownian motion, which allows for negative interest rates (unlike the lognormal models). This is particularly relevant in today's low interest rate environment.\n",
    "\n",
    "### Model Dynamics\n",
    "\n",
    "Under the Bachelier model, the forward rate $L(t, T_1, T_2)$ follows:\n",
    "\n",
    "$$dL(t, T_1, T_2) = \\sigma dW_t$$\n",
    "\n",
    "where:\n",
    "- $\\sigma$ is the volatility parameter\n",
    "- $W_t$ is a standard Brownian motion under the appropriate measure\n",
    "\n",
    "At time $T_1$, the distribution of the forward rate is normal:\n",
    "\n",
    "$$L(T_1, T_1, T_2) \\sim \\mathcal{N}\\left(L(0, T_1, T_2), \\sigma^2 T_1\\right)$$"
   ]
  },
  {
   "cell_type": "markdown",
   "id": "bcc1e1a4",
   "metadata": {},
   "source": [
    "## 3. Caplet Pricing Formula\n",
    "\n",
    "The price of a caplet at time $t=0$ under the Bachelier model can be expressed as:\n",
    "\n",
    "$$\\text{Caplet}(0) = P(0, T_2) \\cdot N \\cdot \\tau \\cdot \\mathbb{E}_{T_2}[\\max(L(T_1, T_2) - K, 0)]$$\n",
    "\n",
    "Where $P(0, T_2)$ is the discount factor from time 0 to $T_2$, and $\\mathbb{E}_{T_2}$ represents the expectation under the $T_2$-forward measure.\n",
    "\n",
    "### Analytical Formula\n",
    "\n",
    "The caplet price has a closed-form solution under the Bachelier model:\n",
    "\n",
    "$$\\text{Caplet}(0) = P(0, T_2) \\cdot N \\cdot \\tau \\cdot [(L(0, T_1, T_2) - K) \\cdot \\Phi(d) + \\sigma \\sqrt{T_1} \\cdot \\phi(d)]$$\n",
    "\n",
    "where:\n",
    "- $\\Phi(\\cdot)$ is the standard normal cumulative distribution function\n",
    "- $\\phi(\\cdot)$ is the standard normal probability density function\n",
    "- $d = \\frac{L(0, T_1, T_2) - K}{\\sigma \\sqrt{T_1}}$\n",
    "\n",
    "### Gaussian Quadrature Approach\n",
    "\n",
    "While the analytical formula provides an exact solution, we can also use Gaussian quadrature to price the caplet by evaluating the following integral:\n",
    "\n",
    "$$\\text{Caplet}(0) = P(0, T_2) \\cdot N \\cdot \\tau \\cdot \\int_{-\\infty}^{\\infty} \\max(F + \\sigma\\sqrt{T_1}x - K, 0) \\frac{1}{\\sqrt{2\\pi}} e^{-\\frac{x^2}{2}} dx$$\n",
    "\n",
    "where $F = L(0, T_1, T_2)$ is the initial forward rate."
   ]
  },
  {
   "cell_type": "code",
   "execution_count": 4,
   "id": "5112fb69",
   "metadata": {},
   "outputs": [],
   "source": [
    "def caplet_price_analytical(F, K, sigma, T1, tau, discount_factor, notional=1.0):\n",
    "    \"\"\"Calculate the caplet price using the Bachelier analytical formula.\n",
    "    \n",
    "    Args:\n",
    "        F: Forward rate at time 0 for the period [T1, T2]\n",
    "        K: Strike rate\n",
    "        sigma: Volatility\n",
    "        T1: Time to rate fixing\n",
    "        tau: Year fraction between T1 and T2 (typically T2 - T1)\n",
    "        discount_factor: Discount factor P(0, T2)\n",
    "        notional: Notional amount (default=1.0)\n",
    "    \n",
    "    Returns:\n",
    "        Caplet price\n",
    "    \"\"\"\n",
    "    from scipy.stats import norm\n",
    "    \n",
    "    d = (F - K) / (sigma * np.sqrt(T1)) if T1 > 0 and sigma > 0 else float('inf')\n",
    "    \n",
    "    if np.isinf(d):\n",
    "        # Handle edge case\n",
    "        return discount_factor * notional * tau * max(F - K, 0)\n",
    "    \n",
    "    normal_cdf = norm.cdf(d)\n",
    "    normal_pdf = norm.pdf(d)\n",
    "    \n",
    "    # Bachelier formula\n",
    "    price = discount_factor * notional * tau * (\n",
    "        (F - K) * normal_cdf + sigma * np.sqrt(T1) * normal_pdf\n",
    "    )\n",
    "    \n",
    "    return price"
   ]
  },
  {
   "cell_type": "markdown",
   "id": "5955b9b1",
   "metadata": {},
   "source": [
    "## 4. Implementing Gaussian Quadrature for Caplet Pricing\n",
    "\n",
    "We'll now implement the Gaussian quadrature approach to price caplets. We need to transform the integral to match the form suitable for Gaussian-Hermite quadrature, which is designed for integrals of the form:\n",
    "\n",
    "$$\\int_{-\\infty}^{\\infty} f(x) e^{-x^2} dx \\approx \\sum_{i=1}^n w_i f(x_i)$$\n",
    "\n",
    "### Transformation for Gaussian-Hermite Quadrature\n",
    "\n",
    "For our caplet price integral, the transformation is straightforward as our integrand already includes $e^{-\\frac{x^2}{2}}$, which is proportional to $e^{-x^2}$ with a simple change of variable."
   ]
  },
  {
   "cell_type": "code",
   "execution_count": 5,
   "id": "d45d776d",
   "metadata": {},
   "outputs": [],
   "source": [
    "def caplet_integrand(x, F, K, sigma, T1):\n",
    "    \"\"\"Integrand function for caplet pricing using Gaussian-Hermite quadrature.\n",
    "    \n",
    "    Args:\n",
    "        x: Integration variable\n",
    "        F: Forward rate at time 0\n",
    "        K: Strike rate\n",
    "        sigma: Volatility\n",
    "        T1: Time to rate fixing\n",
    "    \n",
    "    Returns:\n",
    "        Value of the integrand at point x\n",
    "    \"\"\"\n",
    "    # Calculate the forward rate at time T1\n",
    "    forward_rate = F + sigma * np.sqrt(T1) * x\n",
    "    \n",
    "    # Calculate the payoff\n",
    "    payoff = np.maximum(forward_rate - K, 0)\n",
    "    \n",
    "    # No need to multiply by e^(-x^2/2) as it's handled by the quadrature weights\n",
    "    return payoff\n",
    "\n",
    "def caplet_price_quadrature(F, K, sigma, T1, tau, discount_factor, notional=1.0, n_points=20):\n",
    "    \"\"\"Calculate the caplet price using Gaussian-Hermite quadrature.\n",
    "    \n",
    "    Args:\n",
    "        F: Forward rate at time 0 for the period [T1, T2]\n",
    "        K: Strike rate\n",
    "        sigma: Volatility\n",
    "        T1: Time to rate fixing\n",
    "        tau: Year fraction between T1 and T2\n",
    "        discount_factor: Discount factor P(0, T2)\n",
    "        notional: Notional amount\n",
    "        n_points: Number of quadrature points\n",
    "    \n",
    "    Returns:\n",
    "        Caplet price calculated using Gaussian-Hermite quadrature\n",
    "    \"\"\"\n",
    "    from numpy.polynomial.hermite import hermgauss\n",
    "    \n",
    "    # Special case for zero volatility or immediate exercise\n",
    "    if sigma == 0 or T1 == 0:\n",
    "        return discount_factor * notional * tau * max(F - K, 0)\n",
    "    \n",
    "    # Get Gauss-Hermite quadrature points and weights\n",
    "    x, w = hermgauss(n_points)\n",
    "    \n",
    "    # Calculate the integrand at each quadrature point\n",
    "    integrand_values = caplet_integrand(x, F, K, sigma, T1)\n",
    "    \n",
    "    # Perform the weighted sum (adjust for the standard Hermite normalization)\n",
    "    # The factor 1/sqrt(pi) is because hermgauss uses e^(-x^2) as weight,\n",
    "    # while the standard normal PDF has e^(-x^2/2)/sqrt(2pi) as weight\n",
    "    integral = np.sum(w * integrand_values) / np.sqrt(np.pi)\n",
    "    \n",
    "    # Calculate the final price\n",
    "    price = discount_factor * notional * tau * integral\n",
    "    \n",
    "    return price"
   ]
  },
  {
   "cell_type": "markdown",
   "id": "60fa8706",
   "metadata": {},
   "source": [
    "## 5. Comparing Analytical and Quadrature Methods\n",
    "\n",
    "Let's compare the results of the analytical formula with the Gaussian quadrature method for different parameter sets."
   ]
  },
  {
   "cell_type": "code",
   "execution_count": 6,
   "id": "42ac1b49",
   "metadata": {},
   "outputs": [
    {
     "name": "stdout",
     "output_type": "stream",
     "text": [
      "Caplet Price (Analytical): 98.14\n",
      "Caplet Price (Quadrature, n=5): 16.82, Difference: -81.318210\n",
      "Caplet Price (Quadrature, n=10): 20.69, Difference: -77.447744\n",
      "Caplet Price (Quadrature, n=15): 19.30, Difference: -78.842942\n",
      "Caplet Price (Quadrature, n=20): 17.24, Difference: -80.901009\n",
      "Caplet Price (Quadrature, n=30): 22.85, Difference: -75.285046\n",
      "Caplet Price (Quadrature, n=50): 22.12, Difference: -76.014045\n"
     ]
    },
    {
     "data": {
      "application/vnd.plotly.v1+json": {
       "config": {
        "plotlyServerURL": "https://plot.ly"
       },
       "data": [
        {
         "line": {
          "color": "blue",
          "width": 2
         },
         "mode": "lines+markers",
         "name": "Absolute Error",
         "type": "scatter",
         "x": [
          5,
          10,
          15,
          20,
          30,
          50
         ],
         "y": [
          81.31820969421821,
          77.44774410931228,
          78.84294240658512,
          80.90100919672646,
          75.28504633335326,
          76.01404547728538
         ]
        }
       ],
       "layout": {
        "height": 500,
        "template": {
         "data": {
          "bar": [
           {
            "error_x": {
             "color": "#2a3f5f"
            },
            "error_y": {
             "color": "#2a3f5f"
            },
            "marker": {
             "line": {
              "color": "#E5ECF6",
              "width": 0.5
             },
             "pattern": {
              "fillmode": "overlay",
              "size": 10,
              "solidity": 0.2
             }
            },
            "type": "bar"
           }
          ],
          "barpolar": [
           {
            "marker": {
             "line": {
              "color": "#E5ECF6",
              "width": 0.5
             },
             "pattern": {
              "fillmode": "overlay",
              "size": 10,
              "solidity": 0.2
             }
            },
            "type": "barpolar"
           }
          ],
          "carpet": [
           {
            "aaxis": {
             "endlinecolor": "#2a3f5f",
             "gridcolor": "white",
             "linecolor": "white",
             "minorgridcolor": "white",
             "startlinecolor": "#2a3f5f"
            },
            "baxis": {
             "endlinecolor": "#2a3f5f",
             "gridcolor": "white",
             "linecolor": "white",
             "minorgridcolor": "white",
             "startlinecolor": "#2a3f5f"
            },
            "type": "carpet"
           }
          ],
          "choropleth": [
           {
            "colorbar": {
             "outlinewidth": 0,
             "ticks": ""
            },
            "type": "choropleth"
           }
          ],
          "contour": [
           {
            "colorbar": {
             "outlinewidth": 0,
             "ticks": ""
            },
            "colorscale": [
             [
              0,
              "#0d0887"
             ],
             [
              0.1111111111111111,
              "#46039f"
             ],
             [
              0.2222222222222222,
              "#7201a8"
             ],
             [
              0.3333333333333333,
              "#9c179e"
             ],
             [
              0.4444444444444444,
              "#bd3786"
             ],
             [
              0.5555555555555556,
              "#d8576b"
             ],
             [
              0.6666666666666666,
              "#ed7953"
             ],
             [
              0.7777777777777778,
              "#fb9f3a"
             ],
             [
              0.8888888888888888,
              "#fdca26"
             ],
             [
              1,
              "#f0f921"
             ]
            ],
            "type": "contour"
           }
          ],
          "contourcarpet": [
           {
            "colorbar": {
             "outlinewidth": 0,
             "ticks": ""
            },
            "type": "contourcarpet"
           }
          ],
          "heatmap": [
           {
            "colorbar": {
             "outlinewidth": 0,
             "ticks": ""
            },
            "colorscale": [
             [
              0,
              "#0d0887"
             ],
             [
              0.1111111111111111,
              "#46039f"
             ],
             [
              0.2222222222222222,
              "#7201a8"
             ],
             [
              0.3333333333333333,
              "#9c179e"
             ],
             [
              0.4444444444444444,
              "#bd3786"
             ],
             [
              0.5555555555555556,
              "#d8576b"
             ],
             [
              0.6666666666666666,
              "#ed7953"
             ],
             [
              0.7777777777777778,
              "#fb9f3a"
             ],
             [
              0.8888888888888888,
              "#fdca26"
             ],
             [
              1,
              "#f0f921"
             ]
            ],
            "type": "heatmap"
           }
          ],
          "heatmapgl": [
           {
            "colorbar": {
             "outlinewidth": 0,
             "ticks": ""
            },
            "colorscale": [
             [
              0,
              "#0d0887"
             ],
             [
              0.1111111111111111,
              "#46039f"
             ],
             [
              0.2222222222222222,
              "#7201a8"
             ],
             [
              0.3333333333333333,
              "#9c179e"
             ],
             [
              0.4444444444444444,
              "#bd3786"
             ],
             [
              0.5555555555555556,
              "#d8576b"
             ],
             [
              0.6666666666666666,
              "#ed7953"
             ],
             [
              0.7777777777777778,
              "#fb9f3a"
             ],
             [
              0.8888888888888888,
              "#fdca26"
             ],
             [
              1,
              "#f0f921"
             ]
            ],
            "type": "heatmapgl"
           }
          ],
          "histogram": [
           {
            "marker": {
             "pattern": {
              "fillmode": "overlay",
              "size": 10,
              "solidity": 0.2
             }
            },
            "type": "histogram"
           }
          ],
          "histogram2d": [
           {
            "colorbar": {
             "outlinewidth": 0,
             "ticks": ""
            },
            "colorscale": [
             [
              0,
              "#0d0887"
             ],
             [
              0.1111111111111111,
              "#46039f"
             ],
             [
              0.2222222222222222,
              "#7201a8"
             ],
             [
              0.3333333333333333,
              "#9c179e"
             ],
             [
              0.4444444444444444,
              "#bd3786"
             ],
             [
              0.5555555555555556,
              "#d8576b"
             ],
             [
              0.6666666666666666,
              "#ed7953"
             ],
             [
              0.7777777777777778,
              "#fb9f3a"
             ],
             [
              0.8888888888888888,
              "#fdca26"
             ],
             [
              1,
              "#f0f921"
             ]
            ],
            "type": "histogram2d"
           }
          ],
          "histogram2dcontour": [
           {
            "colorbar": {
             "outlinewidth": 0,
             "ticks": ""
            },
            "colorscale": [
             [
              0,
              "#0d0887"
             ],
             [
              0.1111111111111111,
              "#46039f"
             ],
             [
              0.2222222222222222,
              "#7201a8"
             ],
             [
              0.3333333333333333,
              "#9c179e"
             ],
             [
              0.4444444444444444,
              "#bd3786"
             ],
             [
              0.5555555555555556,
              "#d8576b"
             ],
             [
              0.6666666666666666,
              "#ed7953"
             ],
             [
              0.7777777777777778,
              "#fb9f3a"
             ],
             [
              0.8888888888888888,
              "#fdca26"
             ],
             [
              1,
              "#f0f921"
             ]
            ],
            "type": "histogram2dcontour"
           }
          ],
          "mesh3d": [
           {
            "colorbar": {
             "outlinewidth": 0,
             "ticks": ""
            },
            "type": "mesh3d"
           }
          ],
          "parcoords": [
           {
            "line": {
             "colorbar": {
              "outlinewidth": 0,
              "ticks": ""
             }
            },
            "type": "parcoords"
           }
          ],
          "pie": [
           {
            "automargin": true,
            "type": "pie"
           }
          ],
          "scatter": [
           {
            "fillpattern": {
             "fillmode": "overlay",
             "size": 10,
             "solidity": 0.2
            },
            "type": "scatter"
           }
          ],
          "scatter3d": [
           {
            "line": {
             "colorbar": {
              "outlinewidth": 0,
              "ticks": ""
             }
            },
            "marker": {
             "colorbar": {
              "outlinewidth": 0,
              "ticks": ""
             }
            },
            "type": "scatter3d"
           }
          ],
          "scattercarpet": [
           {
            "marker": {
             "colorbar": {
              "outlinewidth": 0,
              "ticks": ""
             }
            },
            "type": "scattercarpet"
           }
          ],
          "scattergeo": [
           {
            "marker": {
             "colorbar": {
              "outlinewidth": 0,
              "ticks": ""
             }
            },
            "type": "scattergeo"
           }
          ],
          "scattergl": [
           {
            "marker": {
             "colorbar": {
              "outlinewidth": 0,
              "ticks": ""
             }
            },
            "type": "scattergl"
           }
          ],
          "scattermapbox": [
           {
            "marker": {
             "colorbar": {
              "outlinewidth": 0,
              "ticks": ""
             }
            },
            "type": "scattermapbox"
           }
          ],
          "scatterpolar": [
           {
            "marker": {
             "colorbar": {
              "outlinewidth": 0,
              "ticks": ""
             }
            },
            "type": "scatterpolar"
           }
          ],
          "scatterpolargl": [
           {
            "marker": {
             "colorbar": {
              "outlinewidth": 0,
              "ticks": ""
             }
            },
            "type": "scatterpolargl"
           }
          ],
          "scatterternary": [
           {
            "marker": {
             "colorbar": {
              "outlinewidth": 0,
              "ticks": ""
             }
            },
            "type": "scatterternary"
           }
          ],
          "surface": [
           {
            "colorbar": {
             "outlinewidth": 0,
             "ticks": ""
            },
            "colorscale": [
             [
              0,
              "#0d0887"
             ],
             [
              0.1111111111111111,
              "#46039f"
             ],
             [
              0.2222222222222222,
              "#7201a8"
             ],
             [
              0.3333333333333333,
              "#9c179e"
             ],
             [
              0.4444444444444444,
              "#bd3786"
             ],
             [
              0.5555555555555556,
              "#d8576b"
             ],
             [
              0.6666666666666666,
              "#ed7953"
             ],
             [
              0.7777777777777778,
              "#fb9f3a"
             ],
             [
              0.8888888888888888,
              "#fdca26"
             ],
             [
              1,
              "#f0f921"
             ]
            ],
            "type": "surface"
           }
          ],
          "table": [
           {
            "cells": {
             "fill": {
              "color": "#EBF0F8"
             },
             "line": {
              "color": "white"
             }
            },
            "header": {
             "fill": {
              "color": "#C8D4E3"
             },
             "line": {
              "color": "white"
             }
            },
            "type": "table"
           }
          ]
         },
         "layout": {
          "annotationdefaults": {
           "arrowcolor": "#2a3f5f",
           "arrowhead": 0,
           "arrowwidth": 1
          },
          "autotypenumbers": "strict",
          "coloraxis": {
           "colorbar": {
            "outlinewidth": 0,
            "ticks": ""
           }
          },
          "colorscale": {
           "diverging": [
            [
             0,
             "#8e0152"
            ],
            [
             0.1,
             "#c51b7d"
            ],
            [
             0.2,
             "#de77ae"
            ],
            [
             0.3,
             "#f1b6da"
            ],
            [
             0.4,
             "#fde0ef"
            ],
            [
             0.5,
             "#f7f7f7"
            ],
            [
             0.6,
             "#e6f5d0"
            ],
            [
             0.7,
             "#b8e186"
            ],
            [
             0.8,
             "#7fbc41"
            ],
            [
             0.9,
             "#4d9221"
            ],
            [
             1,
             "#276419"
            ]
           ],
           "sequential": [
            [
             0,
             "#0d0887"
            ],
            [
             0.1111111111111111,
             "#46039f"
            ],
            [
             0.2222222222222222,
             "#7201a8"
            ],
            [
             0.3333333333333333,
             "#9c179e"
            ],
            [
             0.4444444444444444,
             "#bd3786"
            ],
            [
             0.5555555555555556,
             "#d8576b"
            ],
            [
             0.6666666666666666,
             "#ed7953"
            ],
            [
             0.7777777777777778,
             "#fb9f3a"
            ],
            [
             0.8888888888888888,
             "#fdca26"
            ],
            [
             1,
             "#f0f921"
            ]
           ],
           "sequentialminus": [
            [
             0,
             "#0d0887"
            ],
            [
             0.1111111111111111,
             "#46039f"
            ],
            [
             0.2222222222222222,
             "#7201a8"
            ],
            [
             0.3333333333333333,
             "#9c179e"
            ],
            [
             0.4444444444444444,
             "#bd3786"
            ],
            [
             0.5555555555555556,
             "#d8576b"
            ],
            [
             0.6666666666666666,
             "#ed7953"
            ],
            [
             0.7777777777777778,
             "#fb9f3a"
            ],
            [
             0.8888888888888888,
             "#fdca26"
            ],
            [
             1,
             "#f0f921"
            ]
           ]
          },
          "colorway": [
           "#636efa",
           "#EF553B",
           "#00cc96",
           "#ab63fa",
           "#FFA15A",
           "#19d3f3",
           "#FF6692",
           "#B6E880",
           "#FF97FF",
           "#FECB52"
          ],
          "font": {
           "color": "#2a3f5f"
          },
          "geo": {
           "bgcolor": "white",
           "lakecolor": "white",
           "landcolor": "#E5ECF6",
           "showlakes": true,
           "showland": true,
           "subunitcolor": "white"
          },
          "hoverlabel": {
           "align": "left"
          },
          "hovermode": "closest",
          "mapbox": {
           "style": "light"
          },
          "paper_bgcolor": "white",
          "plot_bgcolor": "#E5ECF6",
          "polar": {
           "angularaxis": {
            "gridcolor": "white",
            "linecolor": "white",
            "ticks": ""
           },
           "bgcolor": "#E5ECF6",
           "radialaxis": {
            "gridcolor": "white",
            "linecolor": "white",
            "ticks": ""
           }
          },
          "scene": {
           "xaxis": {
            "backgroundcolor": "#E5ECF6",
            "gridcolor": "white",
            "gridwidth": 2,
            "linecolor": "white",
            "showbackground": true,
            "ticks": "",
            "zerolinecolor": "white"
           },
           "yaxis": {
            "backgroundcolor": "#E5ECF6",
            "gridcolor": "white",
            "gridwidth": 2,
            "linecolor": "white",
            "showbackground": true,
            "ticks": "",
            "zerolinecolor": "white"
           },
           "zaxis": {
            "backgroundcolor": "#E5ECF6",
            "gridcolor": "white",
            "gridwidth": 2,
            "linecolor": "white",
            "showbackground": true,
            "ticks": "",
            "zerolinecolor": "white"
           }
          },
          "shapedefaults": {
           "line": {
            "color": "#2a3f5f"
           }
          },
          "ternary": {
           "aaxis": {
            "gridcolor": "white",
            "linecolor": "white",
            "ticks": ""
           },
           "baxis": {
            "gridcolor": "white",
            "linecolor": "white",
            "ticks": ""
           },
           "bgcolor": "#E5ECF6",
           "caxis": {
            "gridcolor": "white",
            "linecolor": "white",
            "ticks": ""
           }
          },
          "title": {
           "x": 0.05
          },
          "xaxis": {
           "automargin": true,
           "gridcolor": "white",
           "linecolor": "white",
           "ticks": "",
           "title": {
            "standoff": 15
           },
           "zerolinecolor": "white",
           "zerolinewidth": 2
          },
          "yaxis": {
           "automargin": true,
           "gridcolor": "white",
           "linecolor": "white",
           "ticks": "",
           "title": {
            "standoff": 15
           },
           "zerolinecolor": "white",
           "zerolinewidth": 2
          }
         }
        },
        "title": {
         "text": "Convergence of Gaussian Quadrature Method"
        },
        "width": 800,
        "xaxis": {
         "title": {
          "text": "Number of Quadrature Points"
         }
        },
        "yaxis": {
         "title": {
          "text": "Absolute Error"
         },
         "type": "log"
        }
       }
      }
     },
     "metadata": {},
     "output_type": "display_data"
    }
   ],
   "source": [
    "# Set up parameter values\n",
    "F = 0.02       # Initial forward rate (2%)\n",
    "K = 0.025      # Strike rate (2.5%)\n",
    "sigma = 0.004  # Volatility (40 basis points)\n",
    "T1 = 1.0       # Time to rate fixing (1 year)\n",
    "T2 = 1.5       # Payment time (1.5 years)\n",
    "tau = T2 - T1  # Year fraction (0.5 years)\n",
    "discount_factor = 0.97  # Discount factor P(0, T2)\n",
    "notional = 1000000  # Notional amount (1 million)\n",
    "\n",
    "# Calculate price using both methods\n",
    "price_analytical = caplet_price_analytical(\n",
    "    F, K, sigma, T1, tau, discount_factor, notional\n",
    ")\n",
    "\n",
    "# Try different numbers of quadrature points\n",
    "quad_points = [5, 10, 15, 20, 30, 50]\n",
    "prices_quadrature = []\n",
    "\n",
    "for n in quad_points:\n",
    "    price_quad = caplet_price_quadrature(\n",
    "        F, K, sigma, T1, tau, discount_factor, notional, n_points=n\n",
    "    )\n",
    "    prices_quadrature.append(price_quad)\n",
    "\n",
    "# Display results\n",
    "print(f\"Caplet Price (Analytical): {price_analytical:.2f}\")\n",
    "\n",
    "for i, n in enumerate(quad_points):\n",
    "    print(f\"Caplet Price (Quadrature, n={n}): {prices_quadrature[i]:.2f}, \"  \n",
    "          f\"Difference: {prices_quadrature[i] - price_analytical:.6f}\")\n",
    "\n",
    "# Visualize convergence\n",
    "fig = go.Figure()\n",
    "fig.add_trace(go.Scatter(\n",
    "    x=quad_points,\n",
    "    y=[abs(price - price_analytical) for price in prices_quadrature],\n",
    "    mode='lines+markers',\n",
    "    name='Absolute Error',\n",
    "    line=dict(color='blue', width=2)\n",
    "))\n",
    "\n",
    "fig.update_layout(\n",
    "    title=\"Convergence of Gaussian Quadrature Method\",\n",
    "    xaxis_title=\"Number of Quadrature Points\",\n",
    "    yaxis_title=\"Absolute Error\",\n",
    "    yaxis_type=\"log\",  # Log scale for better visualization of error\n",
    "    width=800,\n",
    "    height=500\n",
    ")\n",
    "\n",
    "fig.show()"
   ]
  },
  {
   "cell_type": "markdown",
   "id": "c2298abe",
   "metadata": {},
   "source": [
    "## 6. Sensitivity Analysis\n",
    "\n",
    "Let's analyze how the caplet price changes with respect to different input parameters, such as strike rate, volatility, and time to maturity."
   ]
  },
  {
   "cell_type": "code",
   "execution_count": 7,
   "id": "f6a40f36",
   "metadata": {},
   "outputs": [
    {
     "data": {
      "application/vnd.plotly.v1+json": {
       "config": {
        "plotlyServerURL": "https://plot.ly"
       },
       "data": [
        {
         "line": {
          "color": "blue",
          "width": 2
         },
         "mode": "lines",
         "name": "Analytical",
         "type": "scatter",
         "x": [
          1,
          1.103448275862069,
          1.206896551724138,
          1.3103448275862069,
          1.413793103448276,
          1.5172413793103448,
          1.6206896551724137,
          1.7241379310344827,
          1.8275862068965518,
          1.9310344827586208,
          2.03448275862069,
          2.137931034482759,
          2.241379310344828,
          2.344827586206897,
          2.4482758620689657,
          2.5517241379310343,
          2.655172413793103,
          2.7586206896551726,
          2.8620689655172415,
          2.9655172413793105,
          3.0689655172413794,
          3.1724137931034484,
          3.2758620689655173,
          3.3793103448275867,
          3.4827586206896557,
          3.5862068965517238,
          3.689655172413793,
          3.793103448275862,
          3.896551724137931,
          4
         ],
         "y": [
          4853.888026127509,
          4356.697710118531,
          3863.8003881520044,
          3378.271437763718,
          2904.5797776912345,
          2448.6874460895265,
          2017.8461873996948,
          1620.0054772969834,
          1262.8548605170538,
          952.6643806467116,
          693.2014019219419,
          485.0282455491163,
          325.39428248358576,
          208.75625767904225,
          127.76626544282779,
          74.44037428400266,
          41.20864443357481,
          21.638303524222092,
          10.761382702382267,
          5.062394196906646,
          2.2500341266715878,
          0.9439099919572463,
          0.3734191714190974,
          0.13920334433627407,
          0.048864383641459085,
          0.016142188457595203,
          0.00501565226299291,
          0.0014651479670823476,
          0.00040219945865575314,
          0.00010371561135636276
         ]
        },
        {
         "marker": {
          "color": "red",
          "size": 8,
          "symbol": "circle"
         },
         "mode": "markers",
         "name": "Quadrature (n=20)",
         "type": "scatter",
         "x": [
          1,
          1.103448275862069,
          1.206896551724138,
          1.3103448275862069,
          1.413793103448276,
          1.5172413793103448,
          1.6206896551724137,
          1.7241379310344827,
          1.8275862068965518,
          1.9310344827586208,
          2.03448275862069,
          2.137931034482759,
          2.241379310344828,
          2.344827586206897,
          2.4482758620689657,
          2.5517241379310343,
          2.655172413793103,
          2.7586206896551726,
          2.8620689655172415,
          2.9655172413793105,
          3.0689655172413794,
          3.1724137931034484,
          3.2758620689655173,
          3.3793103448275867,
          3.4827586206896557,
          3.5862068965517238,
          3.689655172413793,
          3.793103448275862,
          3.896551724137931,
          4
         ],
         "y": [
          4850.079592804659,
          4348.470596240561,
          3847.7315399976524,
          3347.383521396772,
          2853.667518079906,
          2363.1946564253294,
          1900.3378846095288,
          1452.4853471500824,
          1070.7771032469434,
          725.9653965710079,
          475.10332760549045,
          274.57550470451747,
          154.5596106766217,
          73.63850090081243,
          34.771134785578724,
          13.233448008767269,
          5.225313394597832,
          1.5081764224281449,
          0.5230947343042229,
          0.10188439544494333,
          0.03500962308726762,
          0.003681002823598917,
          0.001441484722684311,
          0.00005957601830389035,
          0.0000287083264533847,
          3.076363518491069e-7,
          1.8304218505093523e-7,
          5.84480182527635e-8,
          1.5765739826531605e-10,
          9.455050245851674e-11
         ]
        }
       ],
       "layout": {
        "annotations": [
         {
          "arrowhead": 1,
          "ax": 40,
          "ay": 0,
          "showarrow": true,
          "text": "Forward Rate: 2.0%",
          "x": 2,
          "y": 3883.1104209020073
         }
        ],
        "height": 500,
        "legend": {
         "x": 0.7,
         "y": 0.9
        },
        "shapes": [
         {
          "line": {
           "color": "green",
           "dash": "dash",
           "width": 2
          },
          "type": "line",
          "x0": 2,
          "x1": 2,
          "y0": 0,
          "y1": 5339.2768287402605
         }
        ],
        "template": {
         "data": {
          "bar": [
           {
            "error_x": {
             "color": "#2a3f5f"
            },
            "error_y": {
             "color": "#2a3f5f"
            },
            "marker": {
             "line": {
              "color": "#E5ECF6",
              "width": 0.5
             },
             "pattern": {
              "fillmode": "overlay",
              "size": 10,
              "solidity": 0.2
             }
            },
            "type": "bar"
           }
          ],
          "barpolar": [
           {
            "marker": {
             "line": {
              "color": "#E5ECF6",
              "width": 0.5
             },
             "pattern": {
              "fillmode": "overlay",
              "size": 10,
              "solidity": 0.2
             }
            },
            "type": "barpolar"
           }
          ],
          "carpet": [
           {
            "aaxis": {
             "endlinecolor": "#2a3f5f",
             "gridcolor": "white",
             "linecolor": "white",
             "minorgridcolor": "white",
             "startlinecolor": "#2a3f5f"
            },
            "baxis": {
             "endlinecolor": "#2a3f5f",
             "gridcolor": "white",
             "linecolor": "white",
             "minorgridcolor": "white",
             "startlinecolor": "#2a3f5f"
            },
            "type": "carpet"
           }
          ],
          "choropleth": [
           {
            "colorbar": {
             "outlinewidth": 0,
             "ticks": ""
            },
            "type": "choropleth"
           }
          ],
          "contour": [
           {
            "colorbar": {
             "outlinewidth": 0,
             "ticks": ""
            },
            "colorscale": [
             [
              0,
              "#0d0887"
             ],
             [
              0.1111111111111111,
              "#46039f"
             ],
             [
              0.2222222222222222,
              "#7201a8"
             ],
             [
              0.3333333333333333,
              "#9c179e"
             ],
             [
              0.4444444444444444,
              "#bd3786"
             ],
             [
              0.5555555555555556,
              "#d8576b"
             ],
             [
              0.6666666666666666,
              "#ed7953"
             ],
             [
              0.7777777777777778,
              "#fb9f3a"
             ],
             [
              0.8888888888888888,
              "#fdca26"
             ],
             [
              1,
              "#f0f921"
             ]
            ],
            "type": "contour"
           }
          ],
          "contourcarpet": [
           {
            "colorbar": {
             "outlinewidth": 0,
             "ticks": ""
            },
            "type": "contourcarpet"
           }
          ],
          "heatmap": [
           {
            "colorbar": {
             "outlinewidth": 0,
             "ticks": ""
            },
            "colorscale": [
             [
              0,
              "#0d0887"
             ],
             [
              0.1111111111111111,
              "#46039f"
             ],
             [
              0.2222222222222222,
              "#7201a8"
             ],
             [
              0.3333333333333333,
              "#9c179e"
             ],
             [
              0.4444444444444444,
              "#bd3786"
             ],
             [
              0.5555555555555556,
              "#d8576b"
             ],
             [
              0.6666666666666666,
              "#ed7953"
             ],
             [
              0.7777777777777778,
              "#fb9f3a"
             ],
             [
              0.8888888888888888,
              "#fdca26"
             ],
             [
              1,
              "#f0f921"
             ]
            ],
            "type": "heatmap"
           }
          ],
          "heatmapgl": [
           {
            "colorbar": {
             "outlinewidth": 0,
             "ticks": ""
            },
            "colorscale": [
             [
              0,
              "#0d0887"
             ],
             [
              0.1111111111111111,
              "#46039f"
             ],
             [
              0.2222222222222222,
              "#7201a8"
             ],
             [
              0.3333333333333333,
              "#9c179e"
             ],
             [
              0.4444444444444444,
              "#bd3786"
             ],
             [
              0.5555555555555556,
              "#d8576b"
             ],
             [
              0.6666666666666666,
              "#ed7953"
             ],
             [
              0.7777777777777778,
              "#fb9f3a"
             ],
             [
              0.8888888888888888,
              "#fdca26"
             ],
             [
              1,
              "#f0f921"
             ]
            ],
            "type": "heatmapgl"
           }
          ],
          "histogram": [
           {
            "marker": {
             "pattern": {
              "fillmode": "overlay",
              "size": 10,
              "solidity": 0.2
             }
            },
            "type": "histogram"
           }
          ],
          "histogram2d": [
           {
            "colorbar": {
             "outlinewidth": 0,
             "ticks": ""
            },
            "colorscale": [
             [
              0,
              "#0d0887"
             ],
             [
              0.1111111111111111,
              "#46039f"
             ],
             [
              0.2222222222222222,
              "#7201a8"
             ],
             [
              0.3333333333333333,
              "#9c179e"
             ],
             [
              0.4444444444444444,
              "#bd3786"
             ],
             [
              0.5555555555555556,
              "#d8576b"
             ],
             [
              0.6666666666666666,
              "#ed7953"
             ],
             [
              0.7777777777777778,
              "#fb9f3a"
             ],
             [
              0.8888888888888888,
              "#fdca26"
             ],
             [
              1,
              "#f0f921"
             ]
            ],
            "type": "histogram2d"
           }
          ],
          "histogram2dcontour": [
           {
            "colorbar": {
             "outlinewidth": 0,
             "ticks": ""
            },
            "colorscale": [
             [
              0,
              "#0d0887"
             ],
             [
              0.1111111111111111,
              "#46039f"
             ],
             [
              0.2222222222222222,
              "#7201a8"
             ],
             [
              0.3333333333333333,
              "#9c179e"
             ],
             [
              0.4444444444444444,
              "#bd3786"
             ],
             [
              0.5555555555555556,
              "#d8576b"
             ],
             [
              0.6666666666666666,
              "#ed7953"
             ],
             [
              0.7777777777777778,
              "#fb9f3a"
             ],
             [
              0.8888888888888888,
              "#fdca26"
             ],
             [
              1,
              "#f0f921"
             ]
            ],
            "type": "histogram2dcontour"
           }
          ],
          "mesh3d": [
           {
            "colorbar": {
             "outlinewidth": 0,
             "ticks": ""
            },
            "type": "mesh3d"
           }
          ],
          "parcoords": [
           {
            "line": {
             "colorbar": {
              "outlinewidth": 0,
              "ticks": ""
             }
            },
            "type": "parcoords"
           }
          ],
          "pie": [
           {
            "automargin": true,
            "type": "pie"
           }
          ],
          "scatter": [
           {
            "fillpattern": {
             "fillmode": "overlay",
             "size": 10,
             "solidity": 0.2
            },
            "type": "scatter"
           }
          ],
          "scatter3d": [
           {
            "line": {
             "colorbar": {
              "outlinewidth": 0,
              "ticks": ""
             }
            },
            "marker": {
             "colorbar": {
              "outlinewidth": 0,
              "ticks": ""
             }
            },
            "type": "scatter3d"
           }
          ],
          "scattercarpet": [
           {
            "marker": {
             "colorbar": {
              "outlinewidth": 0,
              "ticks": ""
             }
            },
            "type": "scattercarpet"
           }
          ],
          "scattergeo": [
           {
            "marker": {
             "colorbar": {
              "outlinewidth": 0,
              "ticks": ""
             }
            },
            "type": "scattergeo"
           }
          ],
          "scattergl": [
           {
            "marker": {
             "colorbar": {
              "outlinewidth": 0,
              "ticks": ""
             }
            },
            "type": "scattergl"
           }
          ],
          "scattermapbox": [
           {
            "marker": {
             "colorbar": {
              "outlinewidth": 0,
              "ticks": ""
             }
            },
            "type": "scattermapbox"
           }
          ],
          "scatterpolar": [
           {
            "marker": {
             "colorbar": {
              "outlinewidth": 0,
              "ticks": ""
             }
            },
            "type": "scatterpolar"
           }
          ],
          "scatterpolargl": [
           {
            "marker": {
             "colorbar": {
              "outlinewidth": 0,
              "ticks": ""
             }
            },
            "type": "scatterpolargl"
           }
          ],
          "scatterternary": [
           {
            "marker": {
             "colorbar": {
              "outlinewidth": 0,
              "ticks": ""
             }
            },
            "type": "scatterternary"
           }
          ],
          "surface": [
           {
            "colorbar": {
             "outlinewidth": 0,
             "ticks": ""
            },
            "colorscale": [
             [
              0,
              "#0d0887"
             ],
             [
              0.1111111111111111,
              "#46039f"
             ],
             [
              0.2222222222222222,
              "#7201a8"
             ],
             [
              0.3333333333333333,
              "#9c179e"
             ],
             [
              0.4444444444444444,
              "#bd3786"
             ],
             [
              0.5555555555555556,
              "#d8576b"
             ],
             [
              0.6666666666666666,
              "#ed7953"
             ],
             [
              0.7777777777777778,
              "#fb9f3a"
             ],
             [
              0.8888888888888888,
              "#fdca26"
             ],
             [
              1,
              "#f0f921"
             ]
            ],
            "type": "surface"
           }
          ],
          "table": [
           {
            "cells": {
             "fill": {
              "color": "#EBF0F8"
             },
             "line": {
              "color": "white"
             }
            },
            "header": {
             "fill": {
              "color": "#C8D4E3"
             },
             "line": {
              "color": "white"
             }
            },
            "type": "table"
           }
          ]
         },
         "layout": {
          "annotationdefaults": {
           "arrowcolor": "#2a3f5f",
           "arrowhead": 0,
           "arrowwidth": 1
          },
          "autotypenumbers": "strict",
          "coloraxis": {
           "colorbar": {
            "outlinewidth": 0,
            "ticks": ""
           }
          },
          "colorscale": {
           "diverging": [
            [
             0,
             "#8e0152"
            ],
            [
             0.1,
             "#c51b7d"
            ],
            [
             0.2,
             "#de77ae"
            ],
            [
             0.3,
             "#f1b6da"
            ],
            [
             0.4,
             "#fde0ef"
            ],
            [
             0.5,
             "#f7f7f7"
            ],
            [
             0.6,
             "#e6f5d0"
            ],
            [
             0.7,
             "#b8e186"
            ],
            [
             0.8,
             "#7fbc41"
            ],
            [
             0.9,
             "#4d9221"
            ],
            [
             1,
             "#276419"
            ]
           ],
           "sequential": [
            [
             0,
             "#0d0887"
            ],
            [
             0.1111111111111111,
             "#46039f"
            ],
            [
             0.2222222222222222,
             "#7201a8"
            ],
            [
             0.3333333333333333,
             "#9c179e"
            ],
            [
             0.4444444444444444,
             "#bd3786"
            ],
            [
             0.5555555555555556,
             "#d8576b"
            ],
            [
             0.6666666666666666,
             "#ed7953"
            ],
            [
             0.7777777777777778,
             "#fb9f3a"
            ],
            [
             0.8888888888888888,
             "#fdca26"
            ],
            [
             1,
             "#f0f921"
            ]
           ],
           "sequentialminus": [
            [
             0,
             "#0d0887"
            ],
            [
             0.1111111111111111,
             "#46039f"
            ],
            [
             0.2222222222222222,
             "#7201a8"
            ],
            [
             0.3333333333333333,
             "#9c179e"
            ],
            [
             0.4444444444444444,
             "#bd3786"
            ],
            [
             0.5555555555555556,
             "#d8576b"
            ],
            [
             0.6666666666666666,
             "#ed7953"
            ],
            [
             0.7777777777777778,
             "#fb9f3a"
            ],
            [
             0.8888888888888888,
             "#fdca26"
            ],
            [
             1,
             "#f0f921"
            ]
           ]
          },
          "colorway": [
           "#636efa",
           "#EF553B",
           "#00cc96",
           "#ab63fa",
           "#FFA15A",
           "#19d3f3",
           "#FF6692",
           "#B6E880",
           "#FF97FF",
           "#FECB52"
          ],
          "font": {
           "color": "#2a3f5f"
          },
          "geo": {
           "bgcolor": "white",
           "lakecolor": "white",
           "landcolor": "#E5ECF6",
           "showlakes": true,
           "showland": true,
           "subunitcolor": "white"
          },
          "hoverlabel": {
           "align": "left"
          },
          "hovermode": "closest",
          "mapbox": {
           "style": "light"
          },
          "paper_bgcolor": "white",
          "plot_bgcolor": "#E5ECF6",
          "polar": {
           "angularaxis": {
            "gridcolor": "white",
            "linecolor": "white",
            "ticks": ""
           },
           "bgcolor": "#E5ECF6",
           "radialaxis": {
            "gridcolor": "white",
            "linecolor": "white",
            "ticks": ""
           }
          },
          "scene": {
           "xaxis": {
            "backgroundcolor": "#E5ECF6",
            "gridcolor": "white",
            "gridwidth": 2,
            "linecolor": "white",
            "showbackground": true,
            "ticks": "",
            "zerolinecolor": "white"
           },
           "yaxis": {
            "backgroundcolor": "#E5ECF6",
            "gridcolor": "white",
            "gridwidth": 2,
            "linecolor": "white",
            "showbackground": true,
            "ticks": "",
            "zerolinecolor": "white"
           },
           "zaxis": {
            "backgroundcolor": "#E5ECF6",
            "gridcolor": "white",
            "gridwidth": 2,
            "linecolor": "white",
            "showbackground": true,
            "ticks": "",
            "zerolinecolor": "white"
           }
          },
          "shapedefaults": {
           "line": {
            "color": "#2a3f5f"
           }
          },
          "ternary": {
           "aaxis": {
            "gridcolor": "white",
            "linecolor": "white",
            "ticks": ""
           },
           "baxis": {
            "gridcolor": "white",
            "linecolor": "white",
            "ticks": ""
           },
           "bgcolor": "#E5ECF6",
           "caxis": {
            "gridcolor": "white",
            "linecolor": "white",
            "ticks": ""
           }
          },
          "title": {
           "x": 0.05
          },
          "xaxis": {
           "automargin": true,
           "gridcolor": "white",
           "linecolor": "white",
           "ticks": "",
           "title": {
            "standoff": 15
           },
           "zerolinecolor": "white",
           "zerolinewidth": 2
          },
          "yaxis": {
           "automargin": true,
           "gridcolor": "white",
           "linecolor": "white",
           "ticks": "",
           "title": {
            "standoff": 15
           },
           "zerolinecolor": "white",
           "zerolinewidth": 2
          }
         }
        },
        "title": {
         "text": "Caplet Price Sensitivity to Strike Rate"
        },
        "width": 800,
        "xaxis": {
         "title": {
          "text": "Strike Rate (%)"
         }
        },
        "yaxis": {
         "title": {
          "text": "Caplet Price"
         }
        }
       }
      }
     },
     "metadata": {},
     "output_type": "display_data"
    }
   ],
   "source": [
    "# Analyze sensitivity to strike rate\n",
    "strike_rates = np.linspace(0.01, 0.04, 30)  # 1% to 4%\n",
    "prices_analytical = []\n",
    "prices_quad = []\n",
    "\n",
    "for K in strike_rates:\n",
    "    prices_analytical.append(caplet_price_analytical(\n",
    "        F, K, sigma, T1, tau, discount_factor, notional\n",
    "    ))\n",
    "    prices_quad.append(caplet_price_quadrature(\n",
    "        F, K, sigma, T1, tau, discount_factor, notional, n_points=20\n",
    "    ))\n",
    "\n",
    "# Create plot\n",
    "fig = go.Figure()\n",
    "fig.add_trace(go.Scatter(\n",
    "    x=strike_rates * 100,  # Convert to percentage\n",
    "    y=prices_analytical,\n",
    "    mode='lines',\n",
    "    name='Analytical',\n",
    "    line=dict(color='blue', width=2)\n",
    "))\n",
    "\n",
    "fig.add_trace(go.Scatter(\n",
    "    x=strike_rates * 100,  # Convert to percentage\n",
    "    y=prices_quad,\n",
    "    mode='markers',\n",
    "    name='Quadrature (n=20)',\n",
    "    marker=dict(color='red', size=8, symbol='circle')\n",
    "))\n",
    "\n",
    "fig.update_layout(\n",
    "    title=\"Caplet Price Sensitivity to Strike Rate\",\n",
    "    xaxis_title=\"Strike Rate (%)\",\n",
    "    yaxis_title=\"Caplet Price\",\n",
    "    width=800,\n",
    "    height=500,\n",
    "    legend=dict(x=0.7, y=0.9)\n",
    ")\n",
    "\n",
    "# Add vertical line at forward rate\n",
    "fig.add_shape(\n",
    "    type=\"line\",\n",
    "    x0=F*100, y0=0,\n",
    "    x1=F*100, y1=max(prices_analytical)*1.1,\n",
    "    line=dict(color=\"green\", width=2, dash=\"dash\"),\n",
    ")\n",
    "\n",
    "fig.add_annotation(\n",
    "    x=F*100, y=max(prices_analytical)*0.8,\n",
    "    text=f\"Forward Rate: {F*100:.1f}%\",\n",
    "    showarrow=True,\n",
    "    arrowhead=1,\n",
    "    ax=40,\n",
    "    ay=0\n",
    ")\n",
    "\n",
    "fig.show()"
   ]
  },
  {
   "cell_type": "code",
   "execution_count": 9,
   "id": "01431312",
   "metadata": {},
   "outputs": [
    {
     "data": {
      "application/vnd.plotly.v1+json": {
       "config": {
        "plotlyServerURL": "https://plot.ly"
       },
       "data": [
        {
         "line": {
          "color": "purple",
          "width": 2
         },
         "mode": "lines",
         "name": "Analytical",
         "type": "scatter",
         "x": [
          10,
          14.73684210526316,
          19.473684210526315,
          24.210526315789476,
          28.947368421052634,
          33.684210526315795,
          38.42105263157895,
          43.1578947368421,
          47.89473684210527,
          52.63157894736842,
          57.36842105263158,
          62.10526315789475,
          66.8421052631579,
          71.57894736842105,
          76.31578947368422,
          81.05263157894737,
          85.78947368421053,
          90.52631578947367,
          95.26315789473685,
          100
         ],
         "y": [
          6.64456059951428e-88,
          1.5412908709353028e-40,
          4.331274271324937e-23,
          9.996628379231793e-15,
          4.767094172527424e-10,
          3.7822137258911375e-7,
          0.000032452115297715555,
          0.0007473443070002263,
          0.007506176115973755,
          0.04345691607822292,
          0.17185635482278613,
          0.5173401891524231,
          1.273790793452974,
          2.694828905984519,
          5.071904287308615,
          8.708235267855468,
          13.89530092161956,
          20.895385638034913,
          29.930939627665666,
          41.179907691623924
         ]
        }
       ],
       "layout": {
        "height": 500,
        "template": {
         "data": {
          "bar": [
           {
            "error_x": {
             "color": "#2a3f5f"
            },
            "error_y": {
             "color": "#2a3f5f"
            },
            "marker": {
             "line": {
              "color": "#E5ECF6",
              "width": 0.5
             },
             "pattern": {
              "fillmode": "overlay",
              "size": 10,
              "solidity": 0.2
             }
            },
            "type": "bar"
           }
          ],
          "barpolar": [
           {
            "marker": {
             "line": {
              "color": "#E5ECF6",
              "width": 0.5
             },
             "pattern": {
              "fillmode": "overlay",
              "size": 10,
              "solidity": 0.2
             }
            },
            "type": "barpolar"
           }
          ],
          "carpet": [
           {
            "aaxis": {
             "endlinecolor": "#2a3f5f",
             "gridcolor": "white",
             "linecolor": "white",
             "minorgridcolor": "white",
             "startlinecolor": "#2a3f5f"
            },
            "baxis": {
             "endlinecolor": "#2a3f5f",
             "gridcolor": "white",
             "linecolor": "white",
             "minorgridcolor": "white",
             "startlinecolor": "#2a3f5f"
            },
            "type": "carpet"
           }
          ],
          "choropleth": [
           {
            "colorbar": {
             "outlinewidth": 0,
             "ticks": ""
            },
            "type": "choropleth"
           }
          ],
          "contour": [
           {
            "colorbar": {
             "outlinewidth": 0,
             "ticks": ""
            },
            "colorscale": [
             [
              0,
              "#0d0887"
             ],
             [
              0.1111111111111111,
              "#46039f"
             ],
             [
              0.2222222222222222,
              "#7201a8"
             ],
             [
              0.3333333333333333,
              "#9c179e"
             ],
             [
              0.4444444444444444,
              "#bd3786"
             ],
             [
              0.5555555555555556,
              "#d8576b"
             ],
             [
              0.6666666666666666,
              "#ed7953"
             ],
             [
              0.7777777777777778,
              "#fb9f3a"
             ],
             [
              0.8888888888888888,
              "#fdca26"
             ],
             [
              1,
              "#f0f921"
             ]
            ],
            "type": "contour"
           }
          ],
          "contourcarpet": [
           {
            "colorbar": {
             "outlinewidth": 0,
             "ticks": ""
            },
            "type": "contourcarpet"
           }
          ],
          "heatmap": [
           {
            "colorbar": {
             "outlinewidth": 0,
             "ticks": ""
            },
            "colorscale": [
             [
              0,
              "#0d0887"
             ],
             [
              0.1111111111111111,
              "#46039f"
             ],
             [
              0.2222222222222222,
              "#7201a8"
             ],
             [
              0.3333333333333333,
              "#9c179e"
             ],
             [
              0.4444444444444444,
              "#bd3786"
             ],
             [
              0.5555555555555556,
              "#d8576b"
             ],
             [
              0.6666666666666666,
              "#ed7953"
             ],
             [
              0.7777777777777778,
              "#fb9f3a"
             ],
             [
              0.8888888888888888,
              "#fdca26"
             ],
             [
              1,
              "#f0f921"
             ]
            ],
            "type": "heatmap"
           }
          ],
          "heatmapgl": [
           {
            "colorbar": {
             "outlinewidth": 0,
             "ticks": ""
            },
            "colorscale": [
             [
              0,
              "#0d0887"
             ],
             [
              0.1111111111111111,
              "#46039f"
             ],
             [
              0.2222222222222222,
              "#7201a8"
             ],
             [
              0.3333333333333333,
              "#9c179e"
             ],
             [
              0.4444444444444444,
              "#bd3786"
             ],
             [
              0.5555555555555556,
              "#d8576b"
             ],
             [
              0.6666666666666666,
              "#ed7953"
             ],
             [
              0.7777777777777778,
              "#fb9f3a"
             ],
             [
              0.8888888888888888,
              "#fdca26"
             ],
             [
              1,
              "#f0f921"
             ]
            ],
            "type": "heatmapgl"
           }
          ],
          "histogram": [
           {
            "marker": {
             "pattern": {
              "fillmode": "overlay",
              "size": 10,
              "solidity": 0.2
             }
            },
            "type": "histogram"
           }
          ],
          "histogram2d": [
           {
            "colorbar": {
             "outlinewidth": 0,
             "ticks": ""
            },
            "colorscale": [
             [
              0,
              "#0d0887"
             ],
             [
              0.1111111111111111,
              "#46039f"
             ],
             [
              0.2222222222222222,
              "#7201a8"
             ],
             [
              0.3333333333333333,
              "#9c179e"
             ],
             [
              0.4444444444444444,
              "#bd3786"
             ],
             [
              0.5555555555555556,
              "#d8576b"
             ],
             [
              0.6666666666666666,
              "#ed7953"
             ],
             [
              0.7777777777777778,
              "#fb9f3a"
             ],
             [
              0.8888888888888888,
              "#fdca26"
             ],
             [
              1,
              "#f0f921"
             ]
            ],
            "type": "histogram2d"
           }
          ],
          "histogram2dcontour": [
           {
            "colorbar": {
             "outlinewidth": 0,
             "ticks": ""
            },
            "colorscale": [
             [
              0,
              "#0d0887"
             ],
             [
              0.1111111111111111,
              "#46039f"
             ],
             [
              0.2222222222222222,
              "#7201a8"
             ],
             [
              0.3333333333333333,
              "#9c179e"
             ],
             [
              0.4444444444444444,
              "#bd3786"
             ],
             [
              0.5555555555555556,
              "#d8576b"
             ],
             [
              0.6666666666666666,
              "#ed7953"
             ],
             [
              0.7777777777777778,
              "#fb9f3a"
             ],
             [
              0.8888888888888888,
              "#fdca26"
             ],
             [
              1,
              "#f0f921"
             ]
            ],
            "type": "histogram2dcontour"
           }
          ],
          "mesh3d": [
           {
            "colorbar": {
             "outlinewidth": 0,
             "ticks": ""
            },
            "type": "mesh3d"
           }
          ],
          "parcoords": [
           {
            "line": {
             "colorbar": {
              "outlinewidth": 0,
              "ticks": ""
             }
            },
            "type": "parcoords"
           }
          ],
          "pie": [
           {
            "automargin": true,
            "type": "pie"
           }
          ],
          "scatter": [
           {
            "fillpattern": {
             "fillmode": "overlay",
             "size": 10,
             "solidity": 0.2
            },
            "type": "scatter"
           }
          ],
          "scatter3d": [
           {
            "line": {
             "colorbar": {
              "outlinewidth": 0,
              "ticks": ""
             }
            },
            "marker": {
             "colorbar": {
              "outlinewidth": 0,
              "ticks": ""
             }
            },
            "type": "scatter3d"
           }
          ],
          "scattercarpet": [
           {
            "marker": {
             "colorbar": {
              "outlinewidth": 0,
              "ticks": ""
             }
            },
            "type": "scattercarpet"
           }
          ],
          "scattergeo": [
           {
            "marker": {
             "colorbar": {
              "outlinewidth": 0,
              "ticks": ""
             }
            },
            "type": "scattergeo"
           }
          ],
          "scattergl": [
           {
            "marker": {
             "colorbar": {
              "outlinewidth": 0,
              "ticks": ""
             }
            },
            "type": "scattergl"
           }
          ],
          "scattermapbox": [
           {
            "marker": {
             "colorbar": {
              "outlinewidth": 0,
              "ticks": ""
             }
            },
            "type": "scattermapbox"
           }
          ],
          "scatterpolar": [
           {
            "marker": {
             "colorbar": {
              "outlinewidth": 0,
              "ticks": ""
             }
            },
            "type": "scatterpolar"
           }
          ],
          "scatterpolargl": [
           {
            "marker": {
             "colorbar": {
              "outlinewidth": 0,
              "ticks": ""
             }
            },
            "type": "scatterpolargl"
           }
          ],
          "scatterternary": [
           {
            "marker": {
             "colorbar": {
              "outlinewidth": 0,
              "ticks": ""
             }
            },
            "type": "scatterternary"
           }
          ],
          "surface": [
           {
            "colorbar": {
             "outlinewidth": 0,
             "ticks": ""
            },
            "colorscale": [
             [
              0,
              "#0d0887"
             ],
             [
              0.1111111111111111,
              "#46039f"
             ],
             [
              0.2222222222222222,
              "#7201a8"
             ],
             [
              0.3333333333333333,
              "#9c179e"
             ],
             [
              0.4444444444444444,
              "#bd3786"
             ],
             [
              0.5555555555555556,
              "#d8576b"
             ],
             [
              0.6666666666666666,
              "#ed7953"
             ],
             [
              0.7777777777777778,
              "#fb9f3a"
             ],
             [
              0.8888888888888888,
              "#fdca26"
             ],
             [
              1,
              "#f0f921"
             ]
            ],
            "type": "surface"
           }
          ],
          "table": [
           {
            "cells": {
             "fill": {
              "color": "#EBF0F8"
             },
             "line": {
              "color": "white"
             }
            },
            "header": {
             "fill": {
              "color": "#C8D4E3"
             },
             "line": {
              "color": "white"
             }
            },
            "type": "table"
           }
          ]
         },
         "layout": {
          "annotationdefaults": {
           "arrowcolor": "#2a3f5f",
           "arrowhead": 0,
           "arrowwidth": 1
          },
          "autotypenumbers": "strict",
          "coloraxis": {
           "colorbar": {
            "outlinewidth": 0,
            "ticks": ""
           }
          },
          "colorscale": {
           "diverging": [
            [
             0,
             "#8e0152"
            ],
            [
             0.1,
             "#c51b7d"
            ],
            [
             0.2,
             "#de77ae"
            ],
            [
             0.3,
             "#f1b6da"
            ],
            [
             0.4,
             "#fde0ef"
            ],
            [
             0.5,
             "#f7f7f7"
            ],
            [
             0.6,
             "#e6f5d0"
            ],
            [
             0.7,
             "#b8e186"
            ],
            [
             0.8,
             "#7fbc41"
            ],
            [
             0.9,
             "#4d9221"
            ],
            [
             1,
             "#276419"
            ]
           ],
           "sequential": [
            [
             0,
             "#0d0887"
            ],
            [
             0.1111111111111111,
             "#46039f"
            ],
            [
             0.2222222222222222,
             "#7201a8"
            ],
            [
             0.3333333333333333,
             "#9c179e"
            ],
            [
             0.4444444444444444,
             "#bd3786"
            ],
            [
             0.5555555555555556,
             "#d8576b"
            ],
            [
             0.6666666666666666,
             "#ed7953"
            ],
            [
             0.7777777777777778,
             "#fb9f3a"
            ],
            [
             0.8888888888888888,
             "#fdca26"
            ],
            [
             1,
             "#f0f921"
            ]
           ],
           "sequentialminus": [
            [
             0,
             "#0d0887"
            ],
            [
             0.1111111111111111,
             "#46039f"
            ],
            [
             0.2222222222222222,
             "#7201a8"
            ],
            [
             0.3333333333333333,
             "#9c179e"
            ],
            [
             0.4444444444444444,
             "#bd3786"
            ],
            [
             0.5555555555555556,
             "#d8576b"
            ],
            [
             0.6666666666666666,
             "#ed7953"
            ],
            [
             0.7777777777777778,
             "#fb9f3a"
            ],
            [
             0.8888888888888888,
             "#fdca26"
            ],
            [
             1,
             "#f0f921"
            ]
           ]
          },
          "colorway": [
           "#636efa",
           "#EF553B",
           "#00cc96",
           "#ab63fa",
           "#FFA15A",
           "#19d3f3",
           "#FF6692",
           "#B6E880",
           "#FF97FF",
           "#FECB52"
          ],
          "font": {
           "color": "#2a3f5f"
          },
          "geo": {
           "bgcolor": "white",
           "lakecolor": "white",
           "landcolor": "#E5ECF6",
           "showlakes": true,
           "showland": true,
           "subunitcolor": "white"
          },
          "hoverlabel": {
           "align": "left"
          },
          "hovermode": "closest",
          "mapbox": {
           "style": "light"
          },
          "paper_bgcolor": "white",
          "plot_bgcolor": "#E5ECF6",
          "polar": {
           "angularaxis": {
            "gridcolor": "white",
            "linecolor": "white",
            "ticks": ""
           },
           "bgcolor": "#E5ECF6",
           "radialaxis": {
            "gridcolor": "white",
            "linecolor": "white",
            "ticks": ""
           }
          },
          "scene": {
           "xaxis": {
            "backgroundcolor": "#E5ECF6",
            "gridcolor": "white",
            "gridwidth": 2,
            "linecolor": "white",
            "showbackground": true,
            "ticks": "",
            "zerolinecolor": "white"
           },
           "yaxis": {
            "backgroundcolor": "#E5ECF6",
            "gridcolor": "white",
            "gridwidth": 2,
            "linecolor": "white",
            "showbackground": true,
            "ticks": "",
            "zerolinecolor": "white"
           },
           "zaxis": {
            "backgroundcolor": "#E5ECF6",
            "gridcolor": "white",
            "gridwidth": 2,
            "linecolor": "white",
            "showbackground": true,
            "ticks": "",
            "zerolinecolor": "white"
           }
          },
          "shapedefaults": {
           "line": {
            "color": "#2a3f5f"
           }
          },
          "ternary": {
           "aaxis": {
            "gridcolor": "white",
            "linecolor": "white",
            "ticks": ""
           },
           "baxis": {
            "gridcolor": "white",
            "linecolor": "white",
            "ticks": ""
           },
           "bgcolor": "#E5ECF6",
           "caxis": {
            "gridcolor": "white",
            "linecolor": "white",
            "ticks": ""
           }
          },
          "title": {
           "x": 0.05
          },
          "xaxis": {
           "automargin": true,
           "gridcolor": "white",
           "linecolor": "white",
           "ticks": "",
           "title": {
            "standoff": 15
           },
           "zerolinecolor": "white",
           "zerolinewidth": 2
          },
          "yaxis": {
           "automargin": true,
           "gridcolor": "white",
           "linecolor": "white",
           "ticks": "",
           "title": {
            "standoff": 15
           },
           "zerolinecolor": "white",
           "zerolinewidth": 2
          }
         }
        },
        "title": {
         "text": "Caplet Price Sensitivity to Volatility"
        },
        "width": 800,
        "xaxis": {
         "title": {
          "text": "Volatility (basis points)"
         }
        },
        "yaxis": {
         "title": {
          "text": "Caplet Price"
         }
        }
       }
      }
     },
     "metadata": {},
     "output_type": "display_data"
    }
   ],
   "source": [
    "# Analyze sensitivity to volatility\n",
    "volatilities = np.linspace(0.001, 0.01, 20)  # 10 to 100 basis points\n",
    "prices_analytical = []\n",
    "\n",
    "for vol in volatilities:\n",
    "    prices_analytical.append(caplet_price_analytical(\n",
    "        F, K, vol, T1, tau, discount_factor, notional\n",
    "    ))\n",
    "\n",
    "# Create plot\n",
    "fig = go.Figure()\n",
    "fig.add_trace(go.Scatter(\n",
    "    x=volatilities * 10000,  # Convert to basis points\n",
    "    y=prices_analytical,\n",
    "    mode='lines',\n",
    "    name='Analytical',\n",
    "    line=dict(color='purple', width=2)\n",
    "))\n",
    "\n",
    "fig.update_layout(\n",
    "    title=\"Caplet Price Sensitivity to Volatility\",\n",
    "    xaxis_title=\"Volatility (basis points)\",\n",
    "    yaxis_title=\"Caplet Price\",\n",
    "    width=800,\n",
    "    height=500\n",
    ")\n",
    "\n",
    "fig.show()"
   ]
  },
  {
   "cell_type": "code",
   "execution_count": 10,
   "id": "523ca22b",
   "metadata": {},
   "outputs": [
    {
     "data": {
      "application/vnd.plotly.v1+json": {
       "config": {
        "plotlyServerURL": "https://plot.ly"
       },
       "data": [
        {
         "line": {
          "color": "green",
          "width": 2
         },
         "mode": "lines",
         "name": "Analytical",
         "type": "scatter",
         "x": [
          0.1,
          0.2,
          0.3,
          0.4,
          0.5,
          0.6,
          0.7,
          0.7999999999999999,
          0.8999999999999999,
          0.9999999999999999,
          1.0999999999999999,
          1.2,
          1.3,
          1.4,
          1.5,
          1.5999999999999999,
          1.7,
          1.8,
          1.9,
          2,
          2.0999999999999996,
          2.1999999999999997,
          2.3,
          2.4,
          2.5,
          2.6,
          2.6999999999999997,
          2.8,
          2.9,
          3
         ],
         "y": [
          4.998286271498316e-55,
          1.9443127706485134e-27,
          3.942988813959544e-18,
          2.0061943010227625e-13,
          1.436902645674667e-10,
          1.2056247314213683e-8,
          2.9493472046407784e-7,
          0.0000033247895317408914,
          0.000022294982031936205,
          0.00010371561135636194,
          0.0003692689895815465,
          0.0010746279450157882,
          0.002675681930130806,
          0.005889798371215924,
          0.011741662699254734,
          0.02158771580156091,
          0.03711791955467856,
          0.06033716053386465,
          0.09353065324638132,
          0.13921841883408054,
          0.2001037038920109,
          0.2790194750808183,
          0.37887619175479703,
          0.5026131235207162,
          0.6531546531323683,
          0.8333723335049035,
          1.04605295720371,
          1.293872532496704,
          1.579375817783718,
          1.904960919868804
         ]
        }
       ],
       "layout": {
        "height": 500,
        "template": {
         "data": {
          "bar": [
           {
            "error_x": {
             "color": "#2a3f5f"
            },
            "error_y": {
             "color": "#2a3f5f"
            },
            "marker": {
             "line": {
              "color": "#E5ECF6",
              "width": 0.5
             },
             "pattern": {
              "fillmode": "overlay",
              "size": 10,
              "solidity": 0.2
             }
            },
            "type": "bar"
           }
          ],
          "barpolar": [
           {
            "marker": {
             "line": {
              "color": "#E5ECF6",
              "width": 0.5
             },
             "pattern": {
              "fillmode": "overlay",
              "size": 10,
              "solidity": 0.2
             }
            },
            "type": "barpolar"
           }
          ],
          "carpet": [
           {
            "aaxis": {
             "endlinecolor": "#2a3f5f",
             "gridcolor": "white",
             "linecolor": "white",
             "minorgridcolor": "white",
             "startlinecolor": "#2a3f5f"
            },
            "baxis": {
             "endlinecolor": "#2a3f5f",
             "gridcolor": "white",
             "linecolor": "white",
             "minorgridcolor": "white",
             "startlinecolor": "#2a3f5f"
            },
            "type": "carpet"
           }
          ],
          "choropleth": [
           {
            "colorbar": {
             "outlinewidth": 0,
             "ticks": ""
            },
            "type": "choropleth"
           }
          ],
          "contour": [
           {
            "colorbar": {
             "outlinewidth": 0,
             "ticks": ""
            },
            "colorscale": [
             [
              0,
              "#0d0887"
             ],
             [
              0.1111111111111111,
              "#46039f"
             ],
             [
              0.2222222222222222,
              "#7201a8"
             ],
             [
              0.3333333333333333,
              "#9c179e"
             ],
             [
              0.4444444444444444,
              "#bd3786"
             ],
             [
              0.5555555555555556,
              "#d8576b"
             ],
             [
              0.6666666666666666,
              "#ed7953"
             ],
             [
              0.7777777777777778,
              "#fb9f3a"
             ],
             [
              0.8888888888888888,
              "#fdca26"
             ],
             [
              1,
              "#f0f921"
             ]
            ],
            "type": "contour"
           }
          ],
          "contourcarpet": [
           {
            "colorbar": {
             "outlinewidth": 0,
             "ticks": ""
            },
            "type": "contourcarpet"
           }
          ],
          "heatmap": [
           {
            "colorbar": {
             "outlinewidth": 0,
             "ticks": ""
            },
            "colorscale": [
             [
              0,
              "#0d0887"
             ],
             [
              0.1111111111111111,
              "#46039f"
             ],
             [
              0.2222222222222222,
              "#7201a8"
             ],
             [
              0.3333333333333333,
              "#9c179e"
             ],
             [
              0.4444444444444444,
              "#bd3786"
             ],
             [
              0.5555555555555556,
              "#d8576b"
             ],
             [
              0.6666666666666666,
              "#ed7953"
             ],
             [
              0.7777777777777778,
              "#fb9f3a"
             ],
             [
              0.8888888888888888,
              "#fdca26"
             ],
             [
              1,
              "#f0f921"
             ]
            ],
            "type": "heatmap"
           }
          ],
          "heatmapgl": [
           {
            "colorbar": {
             "outlinewidth": 0,
             "ticks": ""
            },
            "colorscale": [
             [
              0,
              "#0d0887"
             ],
             [
              0.1111111111111111,
              "#46039f"
             ],
             [
              0.2222222222222222,
              "#7201a8"
             ],
             [
              0.3333333333333333,
              "#9c179e"
             ],
             [
              0.4444444444444444,
              "#bd3786"
             ],
             [
              0.5555555555555556,
              "#d8576b"
             ],
             [
              0.6666666666666666,
              "#ed7953"
             ],
             [
              0.7777777777777778,
              "#fb9f3a"
             ],
             [
              0.8888888888888888,
              "#fdca26"
             ],
             [
              1,
              "#f0f921"
             ]
            ],
            "type": "heatmapgl"
           }
          ],
          "histogram": [
           {
            "marker": {
             "pattern": {
              "fillmode": "overlay",
              "size": 10,
              "solidity": 0.2
             }
            },
            "type": "histogram"
           }
          ],
          "histogram2d": [
           {
            "colorbar": {
             "outlinewidth": 0,
             "ticks": ""
            },
            "colorscale": [
             [
              0,
              "#0d0887"
             ],
             [
              0.1111111111111111,
              "#46039f"
             ],
             [
              0.2222222222222222,
              "#7201a8"
             ],
             [
              0.3333333333333333,
              "#9c179e"
             ],
             [
              0.4444444444444444,
              "#bd3786"
             ],
             [
              0.5555555555555556,
              "#d8576b"
             ],
             [
              0.6666666666666666,
              "#ed7953"
             ],
             [
              0.7777777777777778,
              "#fb9f3a"
             ],
             [
              0.8888888888888888,
              "#fdca26"
             ],
             [
              1,
              "#f0f921"
             ]
            ],
            "type": "histogram2d"
           }
          ],
          "histogram2dcontour": [
           {
            "colorbar": {
             "outlinewidth": 0,
             "ticks": ""
            },
            "colorscale": [
             [
              0,
              "#0d0887"
             ],
             [
              0.1111111111111111,
              "#46039f"
             ],
             [
              0.2222222222222222,
              "#7201a8"
             ],
             [
              0.3333333333333333,
              "#9c179e"
             ],
             [
              0.4444444444444444,
              "#bd3786"
             ],
             [
              0.5555555555555556,
              "#d8576b"
             ],
             [
              0.6666666666666666,
              "#ed7953"
             ],
             [
              0.7777777777777778,
              "#fb9f3a"
             ],
             [
              0.8888888888888888,
              "#fdca26"
             ],
             [
              1,
              "#f0f921"
             ]
            ],
            "type": "histogram2dcontour"
           }
          ],
          "mesh3d": [
           {
            "colorbar": {
             "outlinewidth": 0,
             "ticks": ""
            },
            "type": "mesh3d"
           }
          ],
          "parcoords": [
           {
            "line": {
             "colorbar": {
              "outlinewidth": 0,
              "ticks": ""
             }
            },
            "type": "parcoords"
           }
          ],
          "pie": [
           {
            "automargin": true,
            "type": "pie"
           }
          ],
          "scatter": [
           {
            "fillpattern": {
             "fillmode": "overlay",
             "size": 10,
             "solidity": 0.2
            },
            "type": "scatter"
           }
          ],
          "scatter3d": [
           {
            "line": {
             "colorbar": {
              "outlinewidth": 0,
              "ticks": ""
             }
            },
            "marker": {
             "colorbar": {
              "outlinewidth": 0,
              "ticks": ""
             }
            },
            "type": "scatter3d"
           }
          ],
          "scattercarpet": [
           {
            "marker": {
             "colorbar": {
              "outlinewidth": 0,
              "ticks": ""
             }
            },
            "type": "scattercarpet"
           }
          ],
          "scattergeo": [
           {
            "marker": {
             "colorbar": {
              "outlinewidth": 0,
              "ticks": ""
             }
            },
            "type": "scattergeo"
           }
          ],
          "scattergl": [
           {
            "marker": {
             "colorbar": {
              "outlinewidth": 0,
              "ticks": ""
             }
            },
            "type": "scattergl"
           }
          ],
          "scattermapbox": [
           {
            "marker": {
             "colorbar": {
              "outlinewidth": 0,
              "ticks": ""
             }
            },
            "type": "scattermapbox"
           }
          ],
          "scatterpolar": [
           {
            "marker": {
             "colorbar": {
              "outlinewidth": 0,
              "ticks": ""
             }
            },
            "type": "scatterpolar"
           }
          ],
          "scatterpolargl": [
           {
            "marker": {
             "colorbar": {
              "outlinewidth": 0,
              "ticks": ""
             }
            },
            "type": "scatterpolargl"
           }
          ],
          "scatterternary": [
           {
            "marker": {
             "colorbar": {
              "outlinewidth": 0,
              "ticks": ""
             }
            },
            "type": "scatterternary"
           }
          ],
          "surface": [
           {
            "colorbar": {
             "outlinewidth": 0,
             "ticks": ""
            },
            "colorscale": [
             [
              0,
              "#0d0887"
             ],
             [
              0.1111111111111111,
              "#46039f"
             ],
             [
              0.2222222222222222,
              "#7201a8"
             ],
             [
              0.3333333333333333,
              "#9c179e"
             ],
             [
              0.4444444444444444,
              "#bd3786"
             ],
             [
              0.5555555555555556,
              "#d8576b"
             ],
             [
              0.6666666666666666,
              "#ed7953"
             ],
             [
              0.7777777777777778,
              "#fb9f3a"
             ],
             [
              0.8888888888888888,
              "#fdca26"
             ],
             [
              1,
              "#f0f921"
             ]
            ],
            "type": "surface"
           }
          ],
          "table": [
           {
            "cells": {
             "fill": {
              "color": "#EBF0F8"
             },
             "line": {
              "color": "white"
             }
            },
            "header": {
             "fill": {
              "color": "#C8D4E3"
             },
             "line": {
              "color": "white"
             }
            },
            "type": "table"
           }
          ]
         },
         "layout": {
          "annotationdefaults": {
           "arrowcolor": "#2a3f5f",
           "arrowhead": 0,
           "arrowwidth": 1
          },
          "autotypenumbers": "strict",
          "coloraxis": {
           "colorbar": {
            "outlinewidth": 0,
            "ticks": ""
           }
          },
          "colorscale": {
           "diverging": [
            [
             0,
             "#8e0152"
            ],
            [
             0.1,
             "#c51b7d"
            ],
            [
             0.2,
             "#de77ae"
            ],
            [
             0.3,
             "#f1b6da"
            ],
            [
             0.4,
             "#fde0ef"
            ],
            [
             0.5,
             "#f7f7f7"
            ],
            [
             0.6,
             "#e6f5d0"
            ],
            [
             0.7,
             "#b8e186"
            ],
            [
             0.8,
             "#7fbc41"
            ],
            [
             0.9,
             "#4d9221"
            ],
            [
             1,
             "#276419"
            ]
           ],
           "sequential": [
            [
             0,
             "#0d0887"
            ],
            [
             0.1111111111111111,
             "#46039f"
            ],
            [
             0.2222222222222222,
             "#7201a8"
            ],
            [
             0.3333333333333333,
             "#9c179e"
            ],
            [
             0.4444444444444444,
             "#bd3786"
            ],
            [
             0.5555555555555556,
             "#d8576b"
            ],
            [
             0.6666666666666666,
             "#ed7953"
            ],
            [
             0.7777777777777778,
             "#fb9f3a"
            ],
            [
             0.8888888888888888,
             "#fdca26"
            ],
            [
             1,
             "#f0f921"
            ]
           ],
           "sequentialminus": [
            [
             0,
             "#0d0887"
            ],
            [
             0.1111111111111111,
             "#46039f"
            ],
            [
             0.2222222222222222,
             "#7201a8"
            ],
            [
             0.3333333333333333,
             "#9c179e"
            ],
            [
             0.4444444444444444,
             "#bd3786"
            ],
            [
             0.5555555555555556,
             "#d8576b"
            ],
            [
             0.6666666666666666,
             "#ed7953"
            ],
            [
             0.7777777777777778,
             "#fb9f3a"
            ],
            [
             0.8888888888888888,
             "#fdca26"
            ],
            [
             1,
             "#f0f921"
            ]
           ]
          },
          "colorway": [
           "#636efa",
           "#EF553B",
           "#00cc96",
           "#ab63fa",
           "#FFA15A",
           "#19d3f3",
           "#FF6692",
           "#B6E880",
           "#FF97FF",
           "#FECB52"
          ],
          "font": {
           "color": "#2a3f5f"
          },
          "geo": {
           "bgcolor": "white",
           "lakecolor": "white",
           "landcolor": "#E5ECF6",
           "showlakes": true,
           "showland": true,
           "subunitcolor": "white"
          },
          "hoverlabel": {
           "align": "left"
          },
          "hovermode": "closest",
          "mapbox": {
           "style": "light"
          },
          "paper_bgcolor": "white",
          "plot_bgcolor": "#E5ECF6",
          "polar": {
           "angularaxis": {
            "gridcolor": "white",
            "linecolor": "white",
            "ticks": ""
           },
           "bgcolor": "#E5ECF6",
           "radialaxis": {
            "gridcolor": "white",
            "linecolor": "white",
            "ticks": ""
           }
          },
          "scene": {
           "xaxis": {
            "backgroundcolor": "#E5ECF6",
            "gridcolor": "white",
            "gridwidth": 2,
            "linecolor": "white",
            "showbackground": true,
            "ticks": "",
            "zerolinecolor": "white"
           },
           "yaxis": {
            "backgroundcolor": "#E5ECF6",
            "gridcolor": "white",
            "gridwidth": 2,
            "linecolor": "white",
            "showbackground": true,
            "ticks": "",
            "zerolinecolor": "white"
           },
           "zaxis": {
            "backgroundcolor": "#E5ECF6",
            "gridcolor": "white",
            "gridwidth": 2,
            "linecolor": "white",
            "showbackground": true,
            "ticks": "",
            "zerolinecolor": "white"
           }
          },
          "shapedefaults": {
           "line": {
            "color": "#2a3f5f"
           }
          },
          "ternary": {
           "aaxis": {
            "gridcolor": "white",
            "linecolor": "white",
            "ticks": ""
           },
           "baxis": {
            "gridcolor": "white",
            "linecolor": "white",
            "ticks": ""
           },
           "bgcolor": "#E5ECF6",
           "caxis": {
            "gridcolor": "white",
            "linecolor": "white",
            "ticks": ""
           }
          },
          "title": {
           "x": 0.05
          },
          "xaxis": {
           "automargin": true,
           "gridcolor": "white",
           "linecolor": "white",
           "ticks": "",
           "title": {
            "standoff": 15
           },
           "zerolinecolor": "white",
           "zerolinewidth": 2
          },
          "yaxis": {
           "automargin": true,
           "gridcolor": "white",
           "linecolor": "white",
           "ticks": "",
           "title": {
            "standoff": 15
           },
           "zerolinecolor": "white",
           "zerolinewidth": 2
          }
         }
        },
        "title": {
         "text": "Caplet Price Sensitivity to Time to Rate Fixing"
        },
        "width": 800,
        "xaxis": {
         "title": {
          "text": "Time to Rate Fixing (years)"
         }
        },
        "yaxis": {
         "title": {
          "text": "Caplet Price"
         }
        }
       }
      }
     },
     "metadata": {},
     "output_type": "display_data"
    }
   ],
   "source": [
    "# Analyze sensitivity to time to rate fixing\n",
    "fixing_times = np.linspace(0.1, 3.0, 30)  # 0.1 to 3 years\n",
    "prices_analytical = []\n",
    "\n",
    "for t in fixing_times:\n",
    "    prices_analytical.append(caplet_price_analytical(\n",
    "        F, K, sigma, t, tau, discount_factor, notional\n",
    "    ))\n",
    "\n",
    "# Create plot\n",
    "fig = go.Figure()\n",
    "fig.add_trace(go.Scatter(\n",
    "    x=fixing_times,\n",
    "    y=prices_analytical,\n",
    "    mode='lines',\n",
    "    name='Analytical',\n",
    "    line=dict(color='green', width=2)\n",
    "))\n",
    "\n",
    "fig.update_layout(\n",
    "    title=\"Caplet Price Sensitivity to Time to Rate Fixing\",\n",
    "    xaxis_title=\"Time to Rate Fixing (years)\",\n",
    "    yaxis_title=\"Caplet Price\",\n",
    "    width=800,\n",
    "    height=500\n",
    ")\n",
    "\n",
    "fig.show()"
   ]
  },
  {
   "cell_type": "markdown",
   "id": "79b07512",
   "metadata": {},
   "source": [
    "## 7. Caplet Price Surface\n",
    "\n",
    "Let's visualize how the caplet price changes with respect to both strike rate and time to maturity."
   ]
  },
  {
   "cell_type": "code",
   "execution_count": 12,
   "id": "5bb93a7d",
   "metadata": {},
   "outputs": [
    {
     "data": {
      "application/vnd.plotly.v1+json": {
       "config": {
        "plotlyServerURL": "https://plot.ly"
       },
       "data": [
        {
         "colorbar": {
          "title": {
           "text": "Price"
          }
         },
         "colorscale": [
          [
           0,
           "#440154"
          ],
          [
           0.1111111111111111,
           "#482878"
          ],
          [
           0.2222222222222222,
           "#3e4989"
          ],
          [
           0.3333333333333333,
           "#31688e"
          ],
          [
           0.4444444444444444,
           "#26828e"
          ],
          [
           0.5555555555555556,
           "#1f9e89"
          ],
          [
           0.6666666666666666,
           "#35b779"
          ],
          [
           0.7777777777777778,
           "#6ece58"
          ],
          [
           0.8888888888888888,
           "#b5de2b"
          ],
          [
           1,
           "#fde725"
          ]
         ],
         "type": "surface",
         "x": [
          [
           1,
           1.1578947368421053,
           1.3157894736842104,
           1.4736842105263157,
           1.631578947368421,
           1.789473684210526,
           1.9473684210526316,
           2.1052631578947367,
           2.263157894736842,
           2.4210526315789473,
           2.578947368421053,
           2.7368421052631575,
           2.8947368421052633,
           3.0526315789473686,
           3.2105263157894735,
           3.3684210526315788,
           3.5263157894736845,
           3.684210526315789,
           3.8421052631578947,
           4
          ],
          [
           1,
           1.1578947368421053,
           1.3157894736842104,
           1.4736842105263157,
           1.631578947368421,
           1.789473684210526,
           1.9473684210526316,
           2.1052631578947367,
           2.263157894736842,
           2.4210526315789473,
           2.578947368421053,
           2.7368421052631575,
           2.8947368421052633,
           3.0526315789473686,
           3.2105263157894735,
           3.3684210526315788,
           3.5263157894736845,
           3.684210526315789,
           3.8421052631578947,
           4
          ],
          [
           1,
           1.1578947368421053,
           1.3157894736842104,
           1.4736842105263157,
           1.631578947368421,
           1.789473684210526,
           1.9473684210526316,
           2.1052631578947367,
           2.263157894736842,
           2.4210526315789473,
           2.578947368421053,
           2.7368421052631575,
           2.8947368421052633,
           3.0526315789473686,
           3.2105263157894735,
           3.3684210526315788,
           3.5263157894736845,
           3.684210526315789,
           3.8421052631578947,
           4
          ],
          [
           1,
           1.1578947368421053,
           1.3157894736842104,
           1.4736842105263157,
           1.631578947368421,
           1.789473684210526,
           1.9473684210526316,
           2.1052631578947367,
           2.263157894736842,
           2.4210526315789473,
           2.578947368421053,
           2.7368421052631575,
           2.8947368421052633,
           3.0526315789473686,
           3.2105263157894735,
           3.3684210526315788,
           3.5263157894736845,
           3.684210526315789,
           3.8421052631578947,
           4
          ],
          [
           1,
           1.1578947368421053,
           1.3157894736842104,
           1.4736842105263157,
           1.631578947368421,
           1.789473684210526,
           1.9473684210526316,
           2.1052631578947367,
           2.263157894736842,
           2.4210526315789473,
           2.578947368421053,
           2.7368421052631575,
           2.8947368421052633,
           3.0526315789473686,
           3.2105263157894735,
           3.3684210526315788,
           3.5263157894736845,
           3.684210526315789,
           3.8421052631578947,
           4
          ],
          [
           1,
           1.1578947368421053,
           1.3157894736842104,
           1.4736842105263157,
           1.631578947368421,
           1.789473684210526,
           1.9473684210526316,
           2.1052631578947367,
           2.263157894736842,
           2.4210526315789473,
           2.578947368421053,
           2.7368421052631575,
           2.8947368421052633,
           3.0526315789473686,
           3.2105263157894735,
           3.3684210526315788,
           3.5263157894736845,
           3.684210526315789,
           3.8421052631578947,
           4
          ],
          [
           1,
           1.1578947368421053,
           1.3157894736842104,
           1.4736842105263157,
           1.631578947368421,
           1.789473684210526,
           1.9473684210526316,
           2.1052631578947367,
           2.263157894736842,
           2.4210526315789473,
           2.578947368421053,
           2.7368421052631575,
           2.8947368421052633,
           3.0526315789473686,
           3.2105263157894735,
           3.3684210526315788,
           3.5263157894736845,
           3.684210526315789,
           3.8421052631578947,
           4
          ],
          [
           1,
           1.1578947368421053,
           1.3157894736842104,
           1.4736842105263157,
           1.631578947368421,
           1.789473684210526,
           1.9473684210526316,
           2.1052631578947367,
           2.263157894736842,
           2.4210526315789473,
           2.578947368421053,
           2.7368421052631575,
           2.8947368421052633,
           3.0526315789473686,
           3.2105263157894735,
           3.3684210526315788,
           3.5263157894736845,
           3.684210526315789,
           3.8421052631578947,
           4
          ],
          [
           1,
           1.1578947368421053,
           1.3157894736842104,
           1.4736842105263157,
           1.631578947368421,
           1.789473684210526,
           1.9473684210526316,
           2.1052631578947367,
           2.263157894736842,
           2.4210526315789473,
           2.578947368421053,
           2.7368421052631575,
           2.8947368421052633,
           3.0526315789473686,
           3.2105263157894735,
           3.3684210526315788,
           3.5263157894736845,
           3.684210526315789,
           3.8421052631578947,
           4
          ],
          [
           1,
           1.1578947368421053,
           1.3157894736842104,
           1.4736842105263157,
           1.631578947368421,
           1.789473684210526,
           1.9473684210526316,
           2.1052631578947367,
           2.263157894736842,
           2.4210526315789473,
           2.578947368421053,
           2.7368421052631575,
           2.8947368421052633,
           3.0526315789473686,
           3.2105263157894735,
           3.3684210526315788,
           3.5263157894736845,
           3.684210526315789,
           3.8421052631578947,
           4
          ],
          [
           1,
           1.1578947368421053,
           1.3157894736842104,
           1.4736842105263157,
           1.631578947368421,
           1.789473684210526,
           1.9473684210526316,
           2.1052631578947367,
           2.263157894736842,
           2.4210526315789473,
           2.578947368421053,
           2.7368421052631575,
           2.8947368421052633,
           3.0526315789473686,
           3.2105263157894735,
           3.3684210526315788,
           3.5263157894736845,
           3.684210526315789,
           3.8421052631578947,
           4
          ],
          [
           1,
           1.1578947368421053,
           1.3157894736842104,
           1.4736842105263157,
           1.631578947368421,
           1.789473684210526,
           1.9473684210526316,
           2.1052631578947367,
           2.263157894736842,
           2.4210526315789473,
           2.578947368421053,
           2.7368421052631575,
           2.8947368421052633,
           3.0526315789473686,
           3.2105263157894735,
           3.3684210526315788,
           3.5263157894736845,
           3.684210526315789,
           3.8421052631578947,
           4
          ],
          [
           1,
           1.1578947368421053,
           1.3157894736842104,
           1.4736842105263157,
           1.631578947368421,
           1.789473684210526,
           1.9473684210526316,
           2.1052631578947367,
           2.263157894736842,
           2.4210526315789473,
           2.578947368421053,
           2.7368421052631575,
           2.8947368421052633,
           3.0526315789473686,
           3.2105263157894735,
           3.3684210526315788,
           3.5263157894736845,
           3.684210526315789,
           3.8421052631578947,
           4
          ],
          [
           1,
           1.1578947368421053,
           1.3157894736842104,
           1.4736842105263157,
           1.631578947368421,
           1.789473684210526,
           1.9473684210526316,
           2.1052631578947367,
           2.263157894736842,
           2.4210526315789473,
           2.578947368421053,
           2.7368421052631575,
           2.8947368421052633,
           3.0526315789473686,
           3.2105263157894735,
           3.3684210526315788,
           3.5263157894736845,
           3.684210526315789,
           3.8421052631578947,
           4
          ],
          [
           1,
           1.1578947368421053,
           1.3157894736842104,
           1.4736842105263157,
           1.631578947368421,
           1.789473684210526,
           1.9473684210526316,
           2.1052631578947367,
           2.263157894736842,
           2.4210526315789473,
           2.578947368421053,
           2.7368421052631575,
           2.8947368421052633,
           3.0526315789473686,
           3.2105263157894735,
           3.3684210526315788,
           3.5263157894736845,
           3.684210526315789,
           3.8421052631578947,
           4
          ],
          [
           1,
           1.1578947368421053,
           1.3157894736842104,
           1.4736842105263157,
           1.631578947368421,
           1.789473684210526,
           1.9473684210526316,
           2.1052631578947367,
           2.263157894736842,
           2.4210526315789473,
           2.578947368421053,
           2.7368421052631575,
           2.8947368421052633,
           3.0526315789473686,
           3.2105263157894735,
           3.3684210526315788,
           3.5263157894736845,
           3.684210526315789,
           3.8421052631578947,
           4
          ],
          [
           1,
           1.1578947368421053,
           1.3157894736842104,
           1.4736842105263157,
           1.631578947368421,
           1.789473684210526,
           1.9473684210526316,
           2.1052631578947367,
           2.263157894736842,
           2.4210526315789473,
           2.578947368421053,
           2.7368421052631575,
           2.8947368421052633,
           3.0526315789473686,
           3.2105263157894735,
           3.3684210526315788,
           3.5263157894736845,
           3.684210526315789,
           3.8421052631578947,
           4
          ],
          [
           1,
           1.1578947368421053,
           1.3157894736842104,
           1.4736842105263157,
           1.631578947368421,
           1.789473684210526,
           1.9473684210526316,
           2.1052631578947367,
           2.263157894736842,
           2.4210526315789473,
           2.578947368421053,
           2.7368421052631575,
           2.8947368421052633,
           3.0526315789473686,
           3.2105263157894735,
           3.3684210526315788,
           3.5263157894736845,
           3.684210526315789,
           3.8421052631578947,
           4
          ],
          [
           1,
           1.1578947368421053,
           1.3157894736842104,
           1.4736842105263157,
           1.631578947368421,
           1.789473684210526,
           1.9473684210526316,
           2.1052631578947367,
           2.263157894736842,
           2.4210526315789473,
           2.578947368421053,
           2.7368421052631575,
           2.8947368421052633,
           3.0526315789473686,
           3.2105263157894735,
           3.3684210526315788,
           3.5263157894736845,
           3.684210526315789,
           3.8421052631578947,
           4
          ],
          [
           1,
           1.1578947368421053,
           1.3157894736842104,
           1.4736842105263157,
           1.631578947368421,
           1.789473684210526,
           1.9473684210526316,
           2.1052631578947367,
           2.263157894736842,
           2.4210526315789473,
           2.578947368421053,
           2.7368421052631575,
           2.8947368421052633,
           3.0526315789473686,
           3.2105263157894735,
           3.3684210526315788,
           3.5263157894736845,
           3.684210526315789,
           3.8421052631578947,
           4
          ]
         ],
         "y": [
          [
           0.1,
           0.1,
           0.1,
           0.1,
           0.1,
           0.1,
           0.1,
           0.1,
           0.1,
           0.1,
           0.1,
           0.1,
           0.1,
           0.1,
           0.1,
           0.1,
           0.1,
           0.1,
           0.1,
           0.1
          ],
          [
           0.25263157894736843,
           0.25263157894736843,
           0.25263157894736843,
           0.25263157894736843,
           0.25263157894736843,
           0.25263157894736843,
           0.25263157894736843,
           0.25263157894736843,
           0.25263157894736843,
           0.25263157894736843,
           0.25263157894736843,
           0.25263157894736843,
           0.25263157894736843,
           0.25263157894736843,
           0.25263157894736843,
           0.25263157894736843,
           0.25263157894736843,
           0.25263157894736843,
           0.25263157894736843,
           0.25263157894736843
          ],
          [
           0.4052631578947369,
           0.4052631578947369,
           0.4052631578947369,
           0.4052631578947369,
           0.4052631578947369,
           0.4052631578947369,
           0.4052631578947369,
           0.4052631578947369,
           0.4052631578947369,
           0.4052631578947369,
           0.4052631578947369,
           0.4052631578947369,
           0.4052631578947369,
           0.4052631578947369,
           0.4052631578947369,
           0.4052631578947369,
           0.4052631578947369,
           0.4052631578947369,
           0.4052631578947369,
           0.4052631578947369
          ],
          [
           0.5578947368421052,
           0.5578947368421052,
           0.5578947368421052,
           0.5578947368421052,
           0.5578947368421052,
           0.5578947368421052,
           0.5578947368421052,
           0.5578947368421052,
           0.5578947368421052,
           0.5578947368421052,
           0.5578947368421052,
           0.5578947368421052,
           0.5578947368421052,
           0.5578947368421052,
           0.5578947368421052,
           0.5578947368421052,
           0.5578947368421052,
           0.5578947368421052,
           0.5578947368421052,
           0.5578947368421052
          ],
          [
           0.7105263157894737,
           0.7105263157894737,
           0.7105263157894737,
           0.7105263157894737,
           0.7105263157894737,
           0.7105263157894737,
           0.7105263157894737,
           0.7105263157894737,
           0.7105263157894737,
           0.7105263157894737,
           0.7105263157894737,
           0.7105263157894737,
           0.7105263157894737,
           0.7105263157894737,
           0.7105263157894737,
           0.7105263157894737,
           0.7105263157894737,
           0.7105263157894737,
           0.7105263157894737,
           0.7105263157894737
          ],
          [
           0.8631578947368421,
           0.8631578947368421,
           0.8631578947368421,
           0.8631578947368421,
           0.8631578947368421,
           0.8631578947368421,
           0.8631578947368421,
           0.8631578947368421,
           0.8631578947368421,
           0.8631578947368421,
           0.8631578947368421,
           0.8631578947368421,
           0.8631578947368421,
           0.8631578947368421,
           0.8631578947368421,
           0.8631578947368421,
           0.8631578947368421,
           0.8631578947368421,
           0.8631578947368421,
           0.8631578947368421
          ],
          [
           1.0157894736842106,
           1.0157894736842106,
           1.0157894736842106,
           1.0157894736842106,
           1.0157894736842106,
           1.0157894736842106,
           1.0157894736842106,
           1.0157894736842106,
           1.0157894736842106,
           1.0157894736842106,
           1.0157894736842106,
           1.0157894736842106,
           1.0157894736842106,
           1.0157894736842106,
           1.0157894736842106,
           1.0157894736842106,
           1.0157894736842106,
           1.0157894736842106,
           1.0157894736842106,
           1.0157894736842106
          ],
          [
           1.168421052631579,
           1.168421052631579,
           1.168421052631579,
           1.168421052631579,
           1.168421052631579,
           1.168421052631579,
           1.168421052631579,
           1.168421052631579,
           1.168421052631579,
           1.168421052631579,
           1.168421052631579,
           1.168421052631579,
           1.168421052631579,
           1.168421052631579,
           1.168421052631579,
           1.168421052631579,
           1.168421052631579,
           1.168421052631579,
           1.168421052631579,
           1.168421052631579
          ],
          [
           1.3210526315789475,
           1.3210526315789475,
           1.3210526315789475,
           1.3210526315789475,
           1.3210526315789475,
           1.3210526315789475,
           1.3210526315789475,
           1.3210526315789475,
           1.3210526315789475,
           1.3210526315789475,
           1.3210526315789475,
           1.3210526315789475,
           1.3210526315789475,
           1.3210526315789475,
           1.3210526315789475,
           1.3210526315789475,
           1.3210526315789475,
           1.3210526315789475,
           1.3210526315789475,
           1.3210526315789475
          ],
          [
           1.473684210526316,
           1.473684210526316,
           1.473684210526316,
           1.473684210526316,
           1.473684210526316,
           1.473684210526316,
           1.473684210526316,
           1.473684210526316,
           1.473684210526316,
           1.473684210526316,
           1.473684210526316,
           1.473684210526316,
           1.473684210526316,
           1.473684210526316,
           1.473684210526316,
           1.473684210526316,
           1.473684210526316,
           1.473684210526316,
           1.473684210526316,
           1.473684210526316
          ],
          [
           1.6263157894736844,
           1.6263157894736844,
           1.6263157894736844,
           1.6263157894736844,
           1.6263157894736844,
           1.6263157894736844,
           1.6263157894736844,
           1.6263157894736844,
           1.6263157894736844,
           1.6263157894736844,
           1.6263157894736844,
           1.6263157894736844,
           1.6263157894736844,
           1.6263157894736844,
           1.6263157894736844,
           1.6263157894736844,
           1.6263157894736844,
           1.6263157894736844,
           1.6263157894736844,
           1.6263157894736844
          ],
          [
           1.7789473684210528,
           1.7789473684210528,
           1.7789473684210528,
           1.7789473684210528,
           1.7789473684210528,
           1.7789473684210528,
           1.7789473684210528,
           1.7789473684210528,
           1.7789473684210528,
           1.7789473684210528,
           1.7789473684210528,
           1.7789473684210528,
           1.7789473684210528,
           1.7789473684210528,
           1.7789473684210528,
           1.7789473684210528,
           1.7789473684210528,
           1.7789473684210528,
           1.7789473684210528,
           1.7789473684210528
          ],
          [
           1.931578947368421,
           1.931578947368421,
           1.931578947368421,
           1.931578947368421,
           1.931578947368421,
           1.931578947368421,
           1.931578947368421,
           1.931578947368421,
           1.931578947368421,
           1.931578947368421,
           1.931578947368421,
           1.931578947368421,
           1.931578947368421,
           1.931578947368421,
           1.931578947368421,
           1.931578947368421,
           1.931578947368421,
           1.931578947368421,
           1.931578947368421,
           1.931578947368421
          ],
          [
           2.0842105263157893,
           2.0842105263157893,
           2.0842105263157893,
           2.0842105263157893,
           2.0842105263157893,
           2.0842105263157893,
           2.0842105263157893,
           2.0842105263157893,
           2.0842105263157893,
           2.0842105263157893,
           2.0842105263157893,
           2.0842105263157893,
           2.0842105263157893,
           2.0842105263157893,
           2.0842105263157893,
           2.0842105263157893,
           2.0842105263157893,
           2.0842105263157893,
           2.0842105263157893,
           2.0842105263157893
          ],
          [
           2.236842105263158,
           2.236842105263158,
           2.236842105263158,
           2.236842105263158,
           2.236842105263158,
           2.236842105263158,
           2.236842105263158,
           2.236842105263158,
           2.236842105263158,
           2.236842105263158,
           2.236842105263158,
           2.236842105263158,
           2.236842105263158,
           2.236842105263158,
           2.236842105263158,
           2.236842105263158,
           2.236842105263158,
           2.236842105263158,
           2.236842105263158,
           2.236842105263158
          ],
          [
           2.3894736842105266,
           2.3894736842105266,
           2.3894736842105266,
           2.3894736842105266,
           2.3894736842105266,
           2.3894736842105266,
           2.3894736842105266,
           2.3894736842105266,
           2.3894736842105266,
           2.3894736842105266,
           2.3894736842105266,
           2.3894736842105266,
           2.3894736842105266,
           2.3894736842105266,
           2.3894736842105266,
           2.3894736842105266,
           2.3894736842105266,
           2.3894736842105266,
           2.3894736842105266,
           2.3894736842105266
          ],
          [
           2.542105263157895,
           2.542105263157895,
           2.542105263157895,
           2.542105263157895,
           2.542105263157895,
           2.542105263157895,
           2.542105263157895,
           2.542105263157895,
           2.542105263157895,
           2.542105263157895,
           2.542105263157895,
           2.542105263157895,
           2.542105263157895,
           2.542105263157895,
           2.542105263157895,
           2.542105263157895,
           2.542105263157895,
           2.542105263157895,
           2.542105263157895,
           2.542105263157895
          ],
          [
           2.694736842105263,
           2.694736842105263,
           2.694736842105263,
           2.694736842105263,
           2.694736842105263,
           2.694736842105263,
           2.694736842105263,
           2.694736842105263,
           2.694736842105263,
           2.694736842105263,
           2.694736842105263,
           2.694736842105263,
           2.694736842105263,
           2.694736842105263,
           2.694736842105263,
           2.694736842105263,
           2.694736842105263,
           2.694736842105263,
           2.694736842105263,
           2.694736842105263
          ],
          [
           2.8473684210526318,
           2.8473684210526318,
           2.8473684210526318,
           2.8473684210526318,
           2.8473684210526318,
           2.8473684210526318,
           2.8473684210526318,
           2.8473684210526318,
           2.8473684210526318,
           2.8473684210526318,
           2.8473684210526318,
           2.8473684210526318,
           2.8473684210526318,
           2.8473684210526318,
           2.8473684210526318,
           2.8473684210526318,
           2.8473684210526318,
           2.8473684210526318,
           2.8473684210526318,
           2.8473684210526318
          ],
          [
           3,
           3,
           3,
           3,
           3,
           3,
           3,
           3,
           3,
           3,
           3,
           3,
           3,
           3,
           3,
           3,
           3,
           3,
           3,
           3
          ]
         ],
         "z": [
          [
           4850,
           4084.210526317021,
           3318.421056010785,
           2552.6337018976833,
           1787.1602496619523,
           1033.2837503986304,
           393.2612550309581,
           69.65397587744826,
           4.187726390985701,
           0.06998398167324091,
           0.00029138634057100703,
           2.847526303529789e-7,
           6.311588136093096e-11,
           3.1076970356972877e-15,
           3.353868812584442e-20,
           7.861919899111287e-26,
           3.9775996827015954e-32,
           4.323267722608049e-39,
           1.0059970676180179e-46,
           4.998286271498316e-55
          ],
          [
           4850.000059944367,
           4084.213498211019,
           3318.5045124752455,
           2553.9800011405455,
           1799.6637957737148,
           1095.258939619215,
           529.8907662714921,
           185.87447421747382,
           43.558758693886965,
           6.4077278664189885,
           0.5664881599712084,
           0.029223017762832315,
           0.0008622469652085793,
           0.000014352979520933393,
           1.3349220519040897e-7,
           6.888815432710553e-10,
           1.96232952707521e-12,
           3.0736226941778945e-15,
           2.6392540168798993e-18,
           1.2394971069558914e-21
          ],
          [
           4850.012161086703,
           4084.363561448087,
           3319.7872342405,
           2561.38092296418,
           1827.6558693700272,
           1162.6360876800663,
           630.815897606303,
           278.9414757051291,
           96.50721598820728,
           25.272984480120478,
           4.884446814475632,
           0.6837556148628474,
           0.06838342488625114,
           0.004837084832776608,
           0.00024018575357521492,
           0.00000832519404140197,
           2.0056534547242487e-7,
           3.3472046985066578e-9,
           3.859515049491209e-11,
           3.0682947715135093e-13
          ],
          [
           4850.154075866911,
           4085.2465214238155,
           3323.8827421228016,
           2575.402244908188,
           1862.7648746578857,
           1226.4657057427803,
           714.6581444423158,
           358.3290835251926,
           150.71852754554047,
           52.055554054109834,
           14.512541961786827,
           3.222552235729988,
           0.5641307837166387,
           0.0772441041144814,
           0.008222910438222732,
           0.0006773593749067584,
           0.00004301763797222512,
           0.0000021001037669262677,
           7.862974537127344e-8,
           2.253529001979256e-9
          ],
          [
           4850.704674739039,
           4087.512689846101,
           3331.2539090112773,
           2594.2766823463567,
           1900.6868887737553,
           1286.102190583697,
           787.9454656856706,
           428.65546643641756,
           203.42271695177973,
           82.93444525285882,
           28.683538200061328,
           8.33059767106183,
           2.015373719669585,
           0.4035494885849292,
           0.06654352937260125,
           0.008999951639418753,
           0.0009951916612020006,
           0.00008973934332623256,
           0.000006585007611112122,
           3.9253547571752006e-7
          ],
          [
           4851.9684698664105,
           4091.497426790203,
           3341.6049068176517,
           2616.391057331297,
           1939.4901643701482,
           1341.9630186727234,
           853.8771870577252,
           492.43685804288134,
           253.9974062764851,
           115.81973827002206,
           46.23244412634606,
           16.025196772077305,
           4.791676543526251,
           1.2293695558345015,
           0.269474341075566,
           0.050289651971953446,
           0.007967754340263668,
           0.0010692612923183646,
           0.00012130956115874369,
           0.00001161673126430588
          ],
          [
           4854.162061673912,
           4097.2530535952155,
           3354.424819644883,
           2640.610137864561,
           1978.2702604074766,
           1394.566477184963,
           914.303777677084,
           551.2106696060189,
           302.4029251086719,
           149.58375318483547,
           66.18661177233962,
           26.022522679347457,
           9.041113207299695,
           2.7631928201934515,
           0.7401065156512393,
           0.17319591073477272,
           0.03532181376877103,
           0.00626471942065179,
           0.0009646235729228053,
           0.00012875963279425763
          ],
          [
           4857.395100701665,
           4104.674813380174,
           3369.2126757334718,
           2666.1723654816983,
           2016.5899357946641,
           1444.3690432077165,
           970.4096992771916,
           605.9950177082678,
           348.7692173108779,
           183.60083597085122,
           87.82548876350279,
           37.961097379093545,
           14.75629312567487,
           5.138325043714084,
           1.5975121044036324,
           0.4422392069358577,
           0.10876044756026768,
           0.023716903247196924,
           0.004578506018452563,
           0.0007814169299415922
          ],
          [
           4861.6937430206235,
           4113.591533434595,
           3385.542349985021,
           2692.5675825328794,
           2054.238645764215,
           1491.7473286846034,
           1023.007284016422,
           657.5046005686643,
           393.26822475550557,
           217.51512385747586,
           110.63105589407614,
           51.49447231198827,
           21.845293458917492,
           8.417080324541187,
           2.9369846566726747,
           0.9257857623590218,
           0.26308070483756424,
           0.0672789080914394,
           0.015461040465778265,
           0.0031887711553241567
          ],
          [
           4867.029936919388,
           4123.8152119103825,
           3403.0696094094,
           2719.4503738316544,
           2091.12165801655,
           1537.008343995233,
           1072.682347127926,
           706.2636578887839,
           436.07155986951807,
           251.1216974683214,
           134.23204602316025,
           66.32124817640234,
           30.179051568329633,
           12.608833646787303,
           4.824149076857801,
           1.6864563376307333,
           0.5376705712251553,
           0.15607936616555745,
           0.04119715735126417,
           0.009875801506291344
          ],
          [
           4873.344604015924,
           4135.164753901222,
           3421.521770397111,
           2746.583869935949,
           2127.2055227718665,
           1580.4032622264003,
           1119.8738340916686,
           752.6701249248092,
           477.3368771773502,
           284.3032094226045,
           158.36078281206625,
           82.18968732742096,
           39.618343616272234,
           17.688148323992966,
           7.29699232517959,
           2.775861213829761,
           0.9720494574410233,
           0.31287346165870894,
           0.09244507914569668,
           0.025047027201781435
          ],
          [
           4880.563365127245,
           4147.475823510644,
           3440.684128285524,
           2773.80378889161,
           2162.489811952225,
           1622.1393584578689,
           1164.9207171664955,
           797.0344650514287,
           517.2045501429074,
           316.994636737879,
           182.8226098755553,
           98.89324986022535,
           50.027727202791404,
           23.608865850935675,
           10.370979262912527,
           4.232862915971049,
           1.6025819108863972,
           0.5620515934248184,
           0.1823823642991476,
           0.05470049276182395
          ],
          [
           4888.606392420436,
           4160.603774575652,
           3460.387603059339,
           2800.995222028059,
           2196.9918600415585,
           1662.3894097275243,
           1208.091234683345,
           839.6044008523331,
           555.7980820712338,
           349.162921866296,
           207.47473748923863,
           116.26367571972692,
           61.28200702669692,
           30.313929675631236,
           14.044631058379473,
           6.084005651065451,
           2.46054904382988,
           0.9278460453498277,
           0.32586223183799173,
           0.1064836458533233
          ],
          [
           4897.394233395941,
           4174.4233461467265,
           3480.4986412423436,
           2828.077403971166,
           2230.73826849486,
           1701.2988951056293,
           1249.601976377548,
           880.5813312240805,
           593.2257617366258,
           380.7948275974462,
           232.2116211997754,
           134.16411870495725,
           73.26864785096369,
           37.74182289415831,
           18.304453805619264,
           8.345013716899668,
           3.5713291005565306,
           1.4329766895109932,
           0.5385129726537071,
           0.189365403800703
          ],
          [
           4906.851044212014,
           4188.826991621203,
           3500.911302926426,
           2854.9935399239366,
           2263.7600752790577,
           1738.991486322209,
           1289.6308181041618,
           920.1316114940472,
           629.5825985519422,
           411.8894935056861,
           256.95477734932285,
           152.48315541733967,
           85.88809307010797,
           45.83059411173277,
           23.128893349019513,
           11.022660979999856,
           4.954337950181059,
           2.0977710121189803,
           0.8359319936615593,
           0.31321661600315637
          ],
          [
           4916.906218365286,
           4203.722758694426,
           3521.5411649210623,
           2881.703889562578,
           2296.0899774975514,
           1775.5732542530068,
           1328.3259678192262,
           958.3945326905277,
           664.9521721767559,
           442.4537715524115,
           281.64560970429807,
           171.12983006848316,
           99.0530692075802,
           54.520255768942775,
           28.491340035380787,
           14.116628750106882,
           6.623423977367666,
           2.9396920313409973,
           1.2330460924242541,
           0.48837634056804535
          ],
          [
           4927.495050024421,
           4219.0321510070435,
           3542.320647810903,
           2908.1809861470133,
           2327.760734884845,
           1811.135918671271,
           1365.8124628666867,
           995.4881080951792,
           699.4082746044108,
           472.49925091118473,
           306.24029465329176,
           190.02965564989375,
           112.68745766398976,
           63.75411930327069,
           34.362330894390745,
           17.62117190166807,
           8.587494186402246,
           3.9731750816351386,
           1.7436536558533153,
           0.7252556039890109
          ],
          [
           4938.558834491003,
           4234.688157889876,
           3563.195432261815,
           2934.4062808108783,
           2358.804266419152,
           1845.7593835600724,
           1402.1969448534753,
           1031.5133609815148,
           733.0163212233339,
           502.04033446829516,
           330.70608910819715,
           209.1214223192179,
           126.72503801239026,
           73.4794524552414,
           40.71111956562257,
           21.526529092871776,
           10.851225131674658,
           5.209677435041291,
           2.3801331203455813,
           1.0340060808264393
          ],
          [
           4950.0446545627665,
           4250.633518125378,
           3584.1217006615784,
           2960.3677543976773,
           2389.251159635472,
           1879.5137351999626,
           1437.5712393270771,
           1066.557562109001,
           765.834545335008,
           531.0929836661415,
           355.01863367040414,
           228.3546601367484,
           141.10825539832362,
           83.64771442892787,
           47.506767515120984,
           25.820073312299296,
           13.415770726152916,
           6.6578617822497845,
           3.1532884608725005,
           1.424263098044598
          ],
          [
           4961.905004302217,
           4266.8192263248,
           3605.0640028998146,
           2986.058196639665,
           2419.130427665498,
           1912.4608326479988,
           1472.0150867503962,
           1100.6967151042709,
           797.9150030549616,
           559.6738955543412,
           379.15996072720685,
           247.68762208710757,
           155.78708250373515,
           94.21453568938638,
           54.718881770611326,
           30.487226836740927,
           16.279419061519864,
           8.323854423194623,
           4.0722996270542815,
           1.904960919868804
          ]
         ]
        }
       ],
       "layout": {
        "height": 700,
        "scene": {
         "camera": {
          "eye": {
           "x": 1.5,
           "y": -1.5,
           "z": 1
          }
         },
         "xaxis": {
          "title": {
           "text": "Strike Rate (%)"
          }
         },
         "yaxis": {
          "title": {
           "text": "Time to Rate Fixing (years)"
          }
         },
         "zaxis": {
          "title": {
           "text": "Caplet Price"
          }
         }
        },
        "template": {
         "data": {
          "bar": [
           {
            "error_x": {
             "color": "#2a3f5f"
            },
            "error_y": {
             "color": "#2a3f5f"
            },
            "marker": {
             "line": {
              "color": "#E5ECF6",
              "width": 0.5
             },
             "pattern": {
              "fillmode": "overlay",
              "size": 10,
              "solidity": 0.2
             }
            },
            "type": "bar"
           }
          ],
          "barpolar": [
           {
            "marker": {
             "line": {
              "color": "#E5ECF6",
              "width": 0.5
             },
             "pattern": {
              "fillmode": "overlay",
              "size": 10,
              "solidity": 0.2
             }
            },
            "type": "barpolar"
           }
          ],
          "carpet": [
           {
            "aaxis": {
             "endlinecolor": "#2a3f5f",
             "gridcolor": "white",
             "linecolor": "white",
             "minorgridcolor": "white",
             "startlinecolor": "#2a3f5f"
            },
            "baxis": {
             "endlinecolor": "#2a3f5f",
             "gridcolor": "white",
             "linecolor": "white",
             "minorgridcolor": "white",
             "startlinecolor": "#2a3f5f"
            },
            "type": "carpet"
           }
          ],
          "choropleth": [
           {
            "colorbar": {
             "outlinewidth": 0,
             "ticks": ""
            },
            "type": "choropleth"
           }
          ],
          "contour": [
           {
            "colorbar": {
             "outlinewidth": 0,
             "ticks": ""
            },
            "colorscale": [
             [
              0,
              "#0d0887"
             ],
             [
              0.1111111111111111,
              "#46039f"
             ],
             [
              0.2222222222222222,
              "#7201a8"
             ],
             [
              0.3333333333333333,
              "#9c179e"
             ],
             [
              0.4444444444444444,
              "#bd3786"
             ],
             [
              0.5555555555555556,
              "#d8576b"
             ],
             [
              0.6666666666666666,
              "#ed7953"
             ],
             [
              0.7777777777777778,
              "#fb9f3a"
             ],
             [
              0.8888888888888888,
              "#fdca26"
             ],
             [
              1,
              "#f0f921"
             ]
            ],
            "type": "contour"
           }
          ],
          "contourcarpet": [
           {
            "colorbar": {
             "outlinewidth": 0,
             "ticks": ""
            },
            "type": "contourcarpet"
           }
          ],
          "heatmap": [
           {
            "colorbar": {
             "outlinewidth": 0,
             "ticks": ""
            },
            "colorscale": [
             [
              0,
              "#0d0887"
             ],
             [
              0.1111111111111111,
              "#46039f"
             ],
             [
              0.2222222222222222,
              "#7201a8"
             ],
             [
              0.3333333333333333,
              "#9c179e"
             ],
             [
              0.4444444444444444,
              "#bd3786"
             ],
             [
              0.5555555555555556,
              "#d8576b"
             ],
             [
              0.6666666666666666,
              "#ed7953"
             ],
             [
              0.7777777777777778,
              "#fb9f3a"
             ],
             [
              0.8888888888888888,
              "#fdca26"
             ],
             [
              1,
              "#f0f921"
             ]
            ],
            "type": "heatmap"
           }
          ],
          "heatmapgl": [
           {
            "colorbar": {
             "outlinewidth": 0,
             "ticks": ""
            },
            "colorscale": [
             [
              0,
              "#0d0887"
             ],
             [
              0.1111111111111111,
              "#46039f"
             ],
             [
              0.2222222222222222,
              "#7201a8"
             ],
             [
              0.3333333333333333,
              "#9c179e"
             ],
             [
              0.4444444444444444,
              "#bd3786"
             ],
             [
              0.5555555555555556,
              "#d8576b"
             ],
             [
              0.6666666666666666,
              "#ed7953"
             ],
             [
              0.7777777777777778,
              "#fb9f3a"
             ],
             [
              0.8888888888888888,
              "#fdca26"
             ],
             [
              1,
              "#f0f921"
             ]
            ],
            "type": "heatmapgl"
           }
          ],
          "histogram": [
           {
            "marker": {
             "pattern": {
              "fillmode": "overlay",
              "size": 10,
              "solidity": 0.2
             }
            },
            "type": "histogram"
           }
          ],
          "histogram2d": [
           {
            "colorbar": {
             "outlinewidth": 0,
             "ticks": ""
            },
            "colorscale": [
             [
              0,
              "#0d0887"
             ],
             [
              0.1111111111111111,
              "#46039f"
             ],
             [
              0.2222222222222222,
              "#7201a8"
             ],
             [
              0.3333333333333333,
              "#9c179e"
             ],
             [
              0.4444444444444444,
              "#bd3786"
             ],
             [
              0.5555555555555556,
              "#d8576b"
             ],
             [
              0.6666666666666666,
              "#ed7953"
             ],
             [
              0.7777777777777778,
              "#fb9f3a"
             ],
             [
              0.8888888888888888,
              "#fdca26"
             ],
             [
              1,
              "#f0f921"
             ]
            ],
            "type": "histogram2d"
           }
          ],
          "histogram2dcontour": [
           {
            "colorbar": {
             "outlinewidth": 0,
             "ticks": ""
            },
            "colorscale": [
             [
              0,
              "#0d0887"
             ],
             [
              0.1111111111111111,
              "#46039f"
             ],
             [
              0.2222222222222222,
              "#7201a8"
             ],
             [
              0.3333333333333333,
              "#9c179e"
             ],
             [
              0.4444444444444444,
              "#bd3786"
             ],
             [
              0.5555555555555556,
              "#d8576b"
             ],
             [
              0.6666666666666666,
              "#ed7953"
             ],
             [
              0.7777777777777778,
              "#fb9f3a"
             ],
             [
              0.8888888888888888,
              "#fdca26"
             ],
             [
              1,
              "#f0f921"
             ]
            ],
            "type": "histogram2dcontour"
           }
          ],
          "mesh3d": [
           {
            "colorbar": {
             "outlinewidth": 0,
             "ticks": ""
            },
            "type": "mesh3d"
           }
          ],
          "parcoords": [
           {
            "line": {
             "colorbar": {
              "outlinewidth": 0,
              "ticks": ""
             }
            },
            "type": "parcoords"
           }
          ],
          "pie": [
           {
            "automargin": true,
            "type": "pie"
           }
          ],
          "scatter": [
           {
            "fillpattern": {
             "fillmode": "overlay",
             "size": 10,
             "solidity": 0.2
            },
            "type": "scatter"
           }
          ],
          "scatter3d": [
           {
            "line": {
             "colorbar": {
              "outlinewidth": 0,
              "ticks": ""
             }
            },
            "marker": {
             "colorbar": {
              "outlinewidth": 0,
              "ticks": ""
             }
            },
            "type": "scatter3d"
           }
          ],
          "scattercarpet": [
           {
            "marker": {
             "colorbar": {
              "outlinewidth": 0,
              "ticks": ""
             }
            },
            "type": "scattercarpet"
           }
          ],
          "scattergeo": [
           {
            "marker": {
             "colorbar": {
              "outlinewidth": 0,
              "ticks": ""
             }
            },
            "type": "scattergeo"
           }
          ],
          "scattergl": [
           {
            "marker": {
             "colorbar": {
              "outlinewidth": 0,
              "ticks": ""
             }
            },
            "type": "scattergl"
           }
          ],
          "scattermapbox": [
           {
            "marker": {
             "colorbar": {
              "outlinewidth": 0,
              "ticks": ""
             }
            },
            "type": "scattermapbox"
           }
          ],
          "scatterpolar": [
           {
            "marker": {
             "colorbar": {
              "outlinewidth": 0,
              "ticks": ""
             }
            },
            "type": "scatterpolar"
           }
          ],
          "scatterpolargl": [
           {
            "marker": {
             "colorbar": {
              "outlinewidth": 0,
              "ticks": ""
             }
            },
            "type": "scatterpolargl"
           }
          ],
          "scatterternary": [
           {
            "marker": {
             "colorbar": {
              "outlinewidth": 0,
              "ticks": ""
             }
            },
            "type": "scatterternary"
           }
          ],
          "surface": [
           {
            "colorbar": {
             "outlinewidth": 0,
             "ticks": ""
            },
            "colorscale": [
             [
              0,
              "#0d0887"
             ],
             [
              0.1111111111111111,
              "#46039f"
             ],
             [
              0.2222222222222222,
              "#7201a8"
             ],
             [
              0.3333333333333333,
              "#9c179e"
             ],
             [
              0.4444444444444444,
              "#bd3786"
             ],
             [
              0.5555555555555556,
              "#d8576b"
             ],
             [
              0.6666666666666666,
              "#ed7953"
             ],
             [
              0.7777777777777778,
              "#fb9f3a"
             ],
             [
              0.8888888888888888,
              "#fdca26"
             ],
             [
              1,
              "#f0f921"
             ]
            ],
            "type": "surface"
           }
          ],
          "table": [
           {
            "cells": {
             "fill": {
              "color": "#EBF0F8"
             },
             "line": {
              "color": "white"
             }
            },
            "header": {
             "fill": {
              "color": "#C8D4E3"
             },
             "line": {
              "color": "white"
             }
            },
            "type": "table"
           }
          ]
         },
         "layout": {
          "annotationdefaults": {
           "arrowcolor": "#2a3f5f",
           "arrowhead": 0,
           "arrowwidth": 1
          },
          "autotypenumbers": "strict",
          "coloraxis": {
           "colorbar": {
            "outlinewidth": 0,
            "ticks": ""
           }
          },
          "colorscale": {
           "diverging": [
            [
             0,
             "#8e0152"
            ],
            [
             0.1,
             "#c51b7d"
            ],
            [
             0.2,
             "#de77ae"
            ],
            [
             0.3,
             "#f1b6da"
            ],
            [
             0.4,
             "#fde0ef"
            ],
            [
             0.5,
             "#f7f7f7"
            ],
            [
             0.6,
             "#e6f5d0"
            ],
            [
             0.7,
             "#b8e186"
            ],
            [
             0.8,
             "#7fbc41"
            ],
            [
             0.9,
             "#4d9221"
            ],
            [
             1,
             "#276419"
            ]
           ],
           "sequential": [
            [
             0,
             "#0d0887"
            ],
            [
             0.1111111111111111,
             "#46039f"
            ],
            [
             0.2222222222222222,
             "#7201a8"
            ],
            [
             0.3333333333333333,
             "#9c179e"
            ],
            [
             0.4444444444444444,
             "#bd3786"
            ],
            [
             0.5555555555555556,
             "#d8576b"
            ],
            [
             0.6666666666666666,
             "#ed7953"
            ],
            [
             0.7777777777777778,
             "#fb9f3a"
            ],
            [
             0.8888888888888888,
             "#fdca26"
            ],
            [
             1,
             "#f0f921"
            ]
           ],
           "sequentialminus": [
            [
             0,
             "#0d0887"
            ],
            [
             0.1111111111111111,
             "#46039f"
            ],
            [
             0.2222222222222222,
             "#7201a8"
            ],
            [
             0.3333333333333333,
             "#9c179e"
            ],
            [
             0.4444444444444444,
             "#bd3786"
            ],
            [
             0.5555555555555556,
             "#d8576b"
            ],
            [
             0.6666666666666666,
             "#ed7953"
            ],
            [
             0.7777777777777778,
             "#fb9f3a"
            ],
            [
             0.8888888888888888,
             "#fdca26"
            ],
            [
             1,
             "#f0f921"
            ]
           ]
          },
          "colorway": [
           "#636efa",
           "#EF553B",
           "#00cc96",
           "#ab63fa",
           "#FFA15A",
           "#19d3f3",
           "#FF6692",
           "#B6E880",
           "#FF97FF",
           "#FECB52"
          ],
          "font": {
           "color": "#2a3f5f"
          },
          "geo": {
           "bgcolor": "white",
           "lakecolor": "white",
           "landcolor": "#E5ECF6",
           "showlakes": true,
           "showland": true,
           "subunitcolor": "white"
          },
          "hoverlabel": {
           "align": "left"
          },
          "hovermode": "closest",
          "mapbox": {
           "style": "light"
          },
          "paper_bgcolor": "white",
          "plot_bgcolor": "#E5ECF6",
          "polar": {
           "angularaxis": {
            "gridcolor": "white",
            "linecolor": "white",
            "ticks": ""
           },
           "bgcolor": "#E5ECF6",
           "radialaxis": {
            "gridcolor": "white",
            "linecolor": "white",
            "ticks": ""
           }
          },
          "scene": {
           "xaxis": {
            "backgroundcolor": "#E5ECF6",
            "gridcolor": "white",
            "gridwidth": 2,
            "linecolor": "white",
            "showbackground": true,
            "ticks": "",
            "zerolinecolor": "white"
           },
           "yaxis": {
            "backgroundcolor": "#E5ECF6",
            "gridcolor": "white",
            "gridwidth": 2,
            "linecolor": "white",
            "showbackground": true,
            "ticks": "",
            "zerolinecolor": "white"
           },
           "zaxis": {
            "backgroundcolor": "#E5ECF6",
            "gridcolor": "white",
            "gridwidth": 2,
            "linecolor": "white",
            "showbackground": true,
            "ticks": "",
            "zerolinecolor": "white"
           }
          },
          "shapedefaults": {
           "line": {
            "color": "#2a3f5f"
           }
          },
          "ternary": {
           "aaxis": {
            "gridcolor": "white",
            "linecolor": "white",
            "ticks": ""
           },
           "baxis": {
            "gridcolor": "white",
            "linecolor": "white",
            "ticks": ""
           },
           "bgcolor": "#E5ECF6",
           "caxis": {
            "gridcolor": "white",
            "linecolor": "white",
            "ticks": ""
           }
          },
          "title": {
           "x": 0.05
          },
          "xaxis": {
           "automargin": true,
           "gridcolor": "white",
           "linecolor": "white",
           "ticks": "",
           "title": {
            "standoff": 15
           },
           "zerolinecolor": "white",
           "zerolinewidth": 2
          },
          "yaxis": {
           "automargin": true,
           "gridcolor": "white",
           "linecolor": "white",
           "ticks": "",
           "title": {
            "standoff": 15
           },
           "zerolinecolor": "white",
           "zerolinewidth": 2
          }
         }
        },
        "title": {
         "text": "Caplet Price Surface"
        },
        "width": 900
       }
      }
     },
     "metadata": {},
     "output_type": "display_data"
    }
   ],
   "source": [
    "# Create a grid of strike rates and maturities\n",
    "strike_rates = np.linspace(0.01, 0.04, 20)  # 1% to 4%\n",
    "maturities = np.linspace(0.1, 3.0, 20)      # 0.1 to 3 years\n",
    "\n",
    "# Create meshgrid\n",
    "K_grid, T_grid = np.meshgrid(strike_rates, maturities)\n",
    "\n",
    "# Initialize price grid\n",
    "price_grid = np.zeros_like(K_grid)\n",
    "\n",
    "# Calculate prices for each combination\n",
    "for i in range(len(maturities)):\n",
    "    for j in range(len(strike_rates)):\n",
    "        price_grid[i, j] = caplet_price_analytical(\n",
    "            F, K_grid[i, j], sigma, T_grid[i, j], tau, discount_factor, notional\n",
    "        )\n",
    "\n",
    "# Create 3D surface plot\n",
    "fig = go.Figure(data=[go.Surface(\n",
    "    z=price_grid,\n",
    "    x=K_grid * 100,  # Convert to percentage\n",
    "    y=T_grid,\n",
    "    colorscale='Viridis',\n",
    "    colorbar=dict(title=\"Price\")\n",
    ")])\n",
    "\n",
    "fig.update_layout(\n",
    "    title=\"Caplet Price Surface\",\n",
    "    scene=dict(\n",
    "        xaxis_title=\"Strike Rate (%)\",\n",
    "        yaxis_title=\"Time to Rate Fixing (years)\",\n",
    "        zaxis_title=\"Caplet Price\",\n",
    "        camera=dict(\n",
    "            eye=dict(x=1.5, y=-1.5, z=1)\n",
    "        )\n",
    "    ),\n",
    "    width=900,\n",
    "    height=700\n",
    ")\n",
    "\n",
    "fig.show()"
   ]
  },
  {
   "cell_type": "markdown",
   "id": "8cc0f85c",
   "metadata": {},
   "source": [
    "## 8. Conclusion\n",
    "\n",
    "In this notebook, we've implemented and compared different methods for pricing caplets under the Bachelier model:\n",
    "\n",
    "1. **Analytical Formula**: Provides an exact solution using the properties of the normal distribution\n",
    "2. **Gaussian Quadrature**: Approximates the price through numerical integration, with accuracy improving as we increase the number of quadrature points\n",
    "\n",
    "### Key Findings:\n",
    "\n",
    "1. The Gaussian quadrature method converges quickly to the analytical solution, typically requiring only 15-20 points for high accuracy\n",
    "2. Caplet prices behave as expected with respect to key input parameters:\n",
    "   - Decreasing with increasing strike rates\n",
    "   - Increasing with volatility\n",
    "   - Increasing with time to rate fixing (for out-of-the-money caplets)\n",
    "\n",
    "### Extensions:\n",
    "\n",
    "This approach can be extended to more complex pricing problems where closed-form solutions aren't available, such as:\n",
    "\n",
    "1. Pricing under different interest rate models (Hull-White, CIR, etc.)\n",
    "2. Path-dependent derivatives like barrier options and autocallables\n",
    "3. Multi-factor models with correlation structures"
   ]
  }
 ],
 "metadata": {
  "kernelspec": {
   "display_name": "base",
   "language": "python",
   "name": "python3"
  },
  "language_info": {
   "codemirror_mode": {
    "name": "ipython",
    "version": 3
   },
   "file_extension": ".py",
   "mimetype": "text/x-python",
   "name": "python",
   "nbconvert_exporter": "python",
   "pygments_lexer": "ipython3",
   "version": "3.11.9"
  }
 },
 "nbformat": 4,
 "nbformat_minor": 5
}
