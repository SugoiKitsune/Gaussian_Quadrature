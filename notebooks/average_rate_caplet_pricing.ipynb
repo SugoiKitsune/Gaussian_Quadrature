{
 "cells": [
  {
   "cell_type": "markdown",
   "id": "e479e50b",
   "metadata": {},
   "source": [
    "# Average Rate Caplet Pricing Using Gauss-Laguerre Quadrature\n",
    "\n",
    "This notebook implements average rate caplet pricing under the Bachelier model using Gauss-Laguerre quadrature methods, following the approach outlined in the research paper."
   ]
  },
  {
   "cell_type": "code",
   "execution_count": null,
   "id": "58e5e505",
   "metadata": {},
   "outputs": [
    {
     "name": "stdout",
     "output_type": "stream",
     "text": [
      "Modules reloaded successfully!\n"
     ]
    }
   ],
   "source": [
    "# Module imports and setup\n",
    "import sys\n",
    "import os\n",
    "import importlib\n",
    "import numpy as np\n",
    "import matplotlib.pyplot as plt\n",
    "import jax\n",
    "import jax.numpy as jnp\n",
    "import plotly.express as px\n",
    "import plotly.graph_objects as go\n",
    "\n",
    "from scipy.stats import norm\n",
    "\n",
    "# Add project root to Python path to ensure imports work correctly\n",
    "project_root = os.path.abspath(os.path.join(os.getcwd(), \"..\"))\n",
    "if project_root not in sys.path:\n",
    "    sys.path.append(project_root)\n",
    "\n",
    "# Direct imports from module paths\n",
    "from src.gaussian_quadrature.utils import quadrature as quad\n",
    "from src.gaussian_quadrature.models import bachelier as bach\n",
    "from src.gaussian_quadrature.pricing import pricer\n",
    "from src.gaussian_quadrature.utils import transforms\n",
    "from src.gaussian_quadrature.utils import stats\n",
    "\n",
    "# Function to reload modules\n",
    "def reload_modules():\n",
    "    importlib.reload(quad)\n",
    "    importlib.reload(bach)\n",
    "    importlib.reload(pricer)\n",
    "    importlib.reload(transforms)\n",
    "    importlib.reload(stats)\n",
    "    print(\"Modules reloaded successfully!\")\n",
    "\n",
    "# Run this when you need to refresh the modules\n",
    "reload_modules()"
   ]
  },
  {
   "cell_type": "markdown",
   "id": "5c8d6250",
   "metadata": {},
   "source": [
    "## 1. Introduction to Average Rate Caplets\n",
    "\n",
    "In this notebook, we'll implement pricing methods for average rate caplets under the Bachelier model. Unlike standard caplets that are based on a spot interest rate at a single time point, average rate caplets depend on the arithmetic average of interest rates over a period.\n",
    "\n",
    "### Mathematical Definition\n",
    "\n",
    "An average rate caplet with strike rate $K$, notional amount $N$, and covering the period from time $T_1$ to $T_2$ has a payoff at time $T_2$ of:\n",
    "\n",
    "$$\\text{Payoff}_{T_2} = N \\cdot \\tau \\cdot \\max\\left(\\frac{1}{\\tau}\\int_{T_1}^{T_2} r(t) dt - K, 0\\right)$$\n",
    "\n",
    "Where:\n",
    "- $r(t)$ is the interest rate process\n",
    "- $\\tau = T_2 - T_1$ is the year fraction\n",
    "- $N$ is the notional amount\n",
    "- $K$ is the strike rate"
   ]
  },
  {
   "cell_type": "markdown",
   "id": "93eda94d",
   "metadata": {},
   "source": [
    "## 2. The Bachelier Model for Average Rate Derivatives\n",
    "\n",
    "Under the Bachelier model, interest rates follow an arithmetic Brownian motion:\n",
    "\n",
    "$$dr(t) = \\sigma dW_t$$\n",
    "\n",
    "where:\n",
    "- $\\sigma$ is the volatility parameter\n",
    "- $W_t$ is a standard Brownian motion\n",
    "\n",
    "The key challenge in pricing average rate options is that the average of normally distributed variables over time is not normally distributed. We need to transform the problem into a tractable form for numerical integration."
   ]
  },
  {
   "cell_type": "markdown",
   "id": "62aa7ded",
   "metadata": {},
   "source": [
    "## 3. Mathematical Formulation for Average Rate Caplet Pricing\n",
    "\n",
    "The price of an average rate caplet can be expressed as:\n",
    "\n",
    "$$V_{\\text{avg-caplet}} = P(0, T_2) \\cdot \\mathbb{E}_{T_2}\\left[N \\cdot \\tau \\cdot \\max\\left(\\frac{1}{\\tau}\\int_{T_1}^{T_2} r(t) dt - K, 0\\right)\\right]$$\n",
    "\n",
    "where $P(0, T_2)$ is the discount factor from time 0 to $T_2$, and $\\mathbb{E}_{T_2}$ represents the expectation under the $T_2$-forward measure.\n",
    "\n",
    "Under the Bachelier model:\n",
    "\n",
    "1. The expectation of the average rate is the forward rate: $\\mathbb{E}\\left[\\frac{1}{\\tau}\\int_{T_1}^{T_2} r(t) dt\\right] = F(0, T_1, T_2)$\n",
    "\n",
    "2. The variance of the average rate is reduced compared to the spot rate, given by:\n",
    "   $\\text{Var}\\left[\\frac{1}{\\tau}\\int_{T_1}^{T_2} r(t) dt\\right] = \\frac{\\sigma^2 T_1}{3} \\cdot (1 + \\frac{T_2-T_1}{2T_1})$\n",
    "\n",
    "We'll implement both analytical approximations and numerical quadrature approaches for pricing."
   ]
  },
  {
   "cell_type": "code",
   "execution_count": 2,
   "id": "a3fe66b4",
   "metadata": {},
   "outputs": [],
   "source": [
    "def average_rate_caplet_price_analytical(F, K, sigma, T1, T2, discount_factor, notional=1.0):\n",
    "    \"\"\"Calculate the average rate caplet price using analytical approximation under Bachelier model.\n",
    "    \n",
    "    Args:\n",
    "        F: Forward rate at time 0 for the period [T1, T2]\n",
    "        K: Strike rate\n",
    "        sigma: Volatility of the interest rate\n",
    "        T1: Start of the averaging period\n",
    "        T2: End of the averaging period\n",
    "        discount_factor: Discount factor P(0, T2)\n",
    "        notional: Notional amount (default=1.0)\n",
    "    \n",
    "    Returns:\n",
    "        Average rate caplet price\n",
    "    \"\"\"\n",
    "    tau = T2 - T1\n",
    "    \n",
    "    # Variance of the average rate under Bachelier model\n",
    "    var_avg = (sigma**2 * T1 / 3) * (1 + (T2-T1)/(2*T1))\n",
    "    sigma_avg = np.sqrt(var_avg)\n",
    "    \n",
    "    # Standardized moneyness\n",
    "    d = (F - K) / sigma_avg if sigma_avg > 0 else float('inf')\n",
    "    \n",
    "    # Calculate price using the Bachelier formula with adjusted volatility\n",
    "    normal_cdf = norm.cdf(d)\n",
    "    normal_pdf = norm.pdf(d)\n",
    "    \n",
    "    price = discount_factor * notional * tau * (\n",
    "        (F - K) * normal_cdf + sigma_avg * normal_pdf\n",
    "    )\n",
    "    \n",
    "    return price"
   ]
  },
  {
   "cell_type": "code",
   "execution_count": 3,
   "id": "548e3212",
   "metadata": {},
   "outputs": [],
   "source": [
    "def average_rate_caplet_integrand(y, F, K, sigma, T1, T2, d):\n",
    "    \"\"\"Integrand function for average rate caplet pricing using Gauss-Laguerre quadrature.\n",
    "    \n",
    "    Args:\n",
    "        y: Integration variable\n",
    "        F: Forward rate at time 0\n",
    "        K: Strike rate\n",
    "        sigma: Volatility\n",
    "        T1: Start of averaging period\n",
    "        T2: End of averaging period\n",
    "        d: Standardized moneyness parameter\n",
    "        \n",
    "    Returns:\n",
    "        Value of the integrand at point y\n",
    "    \"\"\"\n",
    "    tau = T2 - T1\n",
    "    \n",
    "    # Variance of the average rate under Bachelier model\n",
    "    var_avg = (sigma**2 * T1 / 3) * (1 + tau/(2*T1))\n",
    "    sigma_avg = np.sqrt(var_avg)\n",
    "    \n",
    "    # Transform back to original variable using y = (x-d)²\n",
    "    # So x = √y + d and dx = dy/(2√y)\n",
    "    x = np.sqrt(y) + d\n",
    "    \n",
    "    # Calculate the average rate at the transformed point\n",
    "    avg_rate = F + sigma_avg * x\n",
    "    \n",
    "    # Calculate the payoff\n",
    "    payoff = np.maximum(avg_rate - K, 0)\n",
    "    \n",
    "    # Calculate PDF value\n",
    "    normal_pdf = np.exp(-x**2/2) / np.sqrt(2*np.pi)\n",
    "    \n",
    "    # Include Jacobian of transformation\n",
    "    return payoff * normal_pdf / (2 * np.sqrt(y))"
   ]
  },
  {
   "cell_type": "code",
   "execution_count": 4,
   "id": "da2e4268",
   "metadata": {},
   "outputs": [],
   "source": [
    "def average_rate_caplet_price_laguerre(F, K, sigma, T1, T2, discount_factor, notional=1.0, n_points=20):\n",
    "    \"\"\"Calculate the average rate caplet price using Gauss-Laguerre quadrature.\n",
    "    \n",
    "    Args:\n",
    "        F: Forward rate at time 0\n",
    "        K: Strike rate\n",
    "        sigma: Volatility\n",
    "        T1: Start of averaging period\n",
    "        T2: End of averaging period\n",
    "        discount_factor: Discount factor P(0, T2)\n",
    "        notional: Notional amount\n",
    "        n_points: Number of quadrature points\n",
    "        \n",
    "    Returns:\n",
    "        Average rate caplet price and error estimate\n",
    "    \"\"\"\n",
    "    tau = T2 - T1\n",
    "    \n",
    "    # Special case for zero volatility or immediate exercise\n",
    "    if sigma == 0 or T1 == 0:\n",
    "        return discount_factor * notional * tau * max(F - K, 0), 0.0\n",
    "    \n",
    "    # Variance of the average rate under Bachelier model\n",
    "    var_avg = (sigma**2 * T1 / 3) * (1 + tau/(2*T1))\n",
    "    sigma_avg = np.sqrt(var_avg)\n",
    "    \n",
    "    # Calculate standardized moneyness\n",
    "    d = (K - F) / sigma_avg if sigma_avg > 0 else float('inf')\n",
    "    \n",
    "    # If d is too large (deep OTM), return 0\n",
    "    if d > 10:  # Arbitrary cutoff for numerical stability\n",
    "        return 0.0, 0.0\n",
    "    \n",
    "    # Use partial functions to fix parameters except y\n",
    "    from functools import partial\n",
    "    integrand = partial(average_rate_caplet_integrand, F=F, K=K, sigma=sigma, \n",
    "                        T1=T1, T2=T2, d=d)\n",
    "    \n",
    "    # Use the project's Gauss-Laguerre quadrature implementation\n",
    "    integral, error = quad.gauss_laguerre_quadrature_eigenvalue(integrand, n_points, alpha=0.0)\n",
    "    \n",
    "    # Calculate the final price and error estimate\n",
    "    price = discount_factor * notional * tau * integral\n",
    "    price_error = discount_factor * notional * tau * error\n",
    "    \n",
    "    return price, price_error"
   ]
  },
  {
   "cell_type": "markdown",
   "id": "a1341e0f",
   "metadata": {},
   "source": [
    "## 4. Comparing Analytical and Quadrature Methods\n",
    "\n",
    "Let's compare the results of the analytical approximation with the Gauss-Laguerre quadrature method for different parameter sets."
   ]
  },
  {
   "cell_type": "code",
   "execution_count": 6,
   "id": "cf689c75",
   "metadata": {},
   "outputs": [
    {
     "name": "stdout",
     "output_type": "stream",
     "text": [
      "Average Rate Caplet Price (Analytical): 12.58\n",
      "\n",
      "Quadrature Implementation Results:\n",
      "n=5: 7.25, Difference: -5.335686, Error Estimate: 0.256473\n",
      "n=10: 7.68, Difference: -4.905957, Error Estimate: 0.040762\n",
      "n=15: 7.79, Difference: -4.797039, Error Estimate: 0.014221\n",
      "n=20: 7.83, Difference: -4.751256, Error Estimate: 0.006791\n",
      "n=30: 7.87, Difference: -4.712512, Error Estimate: 0.002417\n",
      "n=50: 7.90, Difference: -4.687697, Error Estimate: 0.000663\n"
     ]
    },
    {
     "data": {
      "application/vnd.plotly.v1+json": {
       "config": {
        "plotlyServerURL": "https://plot.ly"
       },
       "data": [
        {
         "line": {
          "color": "blue",
          "width": 2
         },
         "mode": "lines+markers",
         "name": "Absolute Error",
         "type": "scatter",
         "x": [
          5,
          10,
          15,
          20,
          30,
          50
         ],
         "y": [
          5.335685729980469,
          4.905957221984863,
          4.797038555145264,
          4.751256465911865,
          4.712512493133545,
          4.687697410583496
         ]
        },
        {
         "line": {
          "color": "red",
          "dash": "dash",
          "width": 2
         },
         "mode": "lines+markers",
         "name": "Estimated Error",
         "type": "scatter",
         "x": [
          5,
          10,
          15,
          20,
          30,
          50
         ],
         "y": [
          0.2564733922481537,
          0.04076162353157997,
          0.014221223071217537,
          0.006791251711547375,
          0.0024172549601644278,
          0.0006634218152612448
         ]
        }
       ],
       "layout": {
        "height": 500,
        "template": {
         "data": {
          "bar": [
           {
            "error_x": {
             "color": "#2a3f5f"
            },
            "error_y": {
             "color": "#2a3f5f"
            },
            "marker": {
             "line": {
              "color": "#E5ECF6",
              "width": 0.5
             },
             "pattern": {
              "fillmode": "overlay",
              "size": 10,
              "solidity": 0.2
             }
            },
            "type": "bar"
           }
          ],
          "barpolar": [
           {
            "marker": {
             "line": {
              "color": "#E5ECF6",
              "width": 0.5
             },
             "pattern": {
              "fillmode": "overlay",
              "size": 10,
              "solidity": 0.2
             }
            },
            "type": "barpolar"
           }
          ],
          "carpet": [
           {
            "aaxis": {
             "endlinecolor": "#2a3f5f",
             "gridcolor": "white",
             "linecolor": "white",
             "minorgridcolor": "white",
             "startlinecolor": "#2a3f5f"
            },
            "baxis": {
             "endlinecolor": "#2a3f5f",
             "gridcolor": "white",
             "linecolor": "white",
             "minorgridcolor": "white",
             "startlinecolor": "#2a3f5f"
            },
            "type": "carpet"
           }
          ],
          "choropleth": [
           {
            "colorbar": {
             "outlinewidth": 0,
             "ticks": ""
            },
            "type": "choropleth"
           }
          ],
          "contour": [
           {
            "colorbar": {
             "outlinewidth": 0,
             "ticks": ""
            },
            "colorscale": [
             [
              0,
              "#0d0887"
             ],
             [
              0.1111111111111111,
              "#46039f"
             ],
             [
              0.2222222222222222,
              "#7201a8"
             ],
             [
              0.3333333333333333,
              "#9c179e"
             ],
             [
              0.4444444444444444,
              "#bd3786"
             ],
             [
              0.5555555555555556,
              "#d8576b"
             ],
             [
              0.6666666666666666,
              "#ed7953"
             ],
             [
              0.7777777777777778,
              "#fb9f3a"
             ],
             [
              0.8888888888888888,
              "#fdca26"
             ],
             [
              1,
              "#f0f921"
             ]
            ],
            "type": "contour"
           }
          ],
          "contourcarpet": [
           {
            "colorbar": {
             "outlinewidth": 0,
             "ticks": ""
            },
            "type": "contourcarpet"
           }
          ],
          "heatmap": [
           {
            "colorbar": {
             "outlinewidth": 0,
             "ticks": ""
            },
            "colorscale": [
             [
              0,
              "#0d0887"
             ],
             [
              0.1111111111111111,
              "#46039f"
             ],
             [
              0.2222222222222222,
              "#7201a8"
             ],
             [
              0.3333333333333333,
              "#9c179e"
             ],
             [
              0.4444444444444444,
              "#bd3786"
             ],
             [
              0.5555555555555556,
              "#d8576b"
             ],
             [
              0.6666666666666666,
              "#ed7953"
             ],
             [
              0.7777777777777778,
              "#fb9f3a"
             ],
             [
              0.8888888888888888,
              "#fdca26"
             ],
             [
              1,
              "#f0f921"
             ]
            ],
            "type": "heatmap"
           }
          ],
          "heatmapgl": [
           {
            "colorbar": {
             "outlinewidth": 0,
             "ticks": ""
            },
            "colorscale": [
             [
              0,
              "#0d0887"
             ],
             [
              0.1111111111111111,
              "#46039f"
             ],
             [
              0.2222222222222222,
              "#7201a8"
             ],
             [
              0.3333333333333333,
              "#9c179e"
             ],
             [
              0.4444444444444444,
              "#bd3786"
             ],
             [
              0.5555555555555556,
              "#d8576b"
             ],
             [
              0.6666666666666666,
              "#ed7953"
             ],
             [
              0.7777777777777778,
              "#fb9f3a"
             ],
             [
              0.8888888888888888,
              "#fdca26"
             ],
             [
              1,
              "#f0f921"
             ]
            ],
            "type": "heatmapgl"
           }
          ],
          "histogram": [
           {
            "marker": {
             "pattern": {
              "fillmode": "overlay",
              "size": 10,
              "solidity": 0.2
             }
            },
            "type": "histogram"
           }
          ],
          "histogram2d": [
           {
            "colorbar": {
             "outlinewidth": 0,
             "ticks": ""
            },
            "colorscale": [
             [
              0,
              "#0d0887"
             ],
             [
              0.1111111111111111,
              "#46039f"
             ],
             [
              0.2222222222222222,
              "#7201a8"
             ],
             [
              0.3333333333333333,
              "#9c179e"
             ],
             [
              0.4444444444444444,
              "#bd3786"
             ],
             [
              0.5555555555555556,
              "#d8576b"
             ],
             [
              0.6666666666666666,
              "#ed7953"
             ],
             [
              0.7777777777777778,
              "#fb9f3a"
             ],
             [
              0.8888888888888888,
              "#fdca26"
             ],
             [
              1,
              "#f0f921"
             ]
            ],
            "type": "histogram2d"
           }
          ],
          "histogram2dcontour": [
           {
            "colorbar": {
             "outlinewidth": 0,
             "ticks": ""
            },
            "colorscale": [
             [
              0,
              "#0d0887"
             ],
             [
              0.1111111111111111,
              "#46039f"
             ],
             [
              0.2222222222222222,
              "#7201a8"
             ],
             [
              0.3333333333333333,
              "#9c179e"
             ],
             [
              0.4444444444444444,
              "#bd3786"
             ],
             [
              0.5555555555555556,
              "#d8576b"
             ],
             [
              0.6666666666666666,
              "#ed7953"
             ],
             [
              0.7777777777777778,
              "#fb9f3a"
             ],
             [
              0.8888888888888888,
              "#fdca26"
             ],
             [
              1,
              "#f0f921"
             ]
            ],
            "type": "histogram2dcontour"
           }
          ],
          "mesh3d": [
           {
            "colorbar": {
             "outlinewidth": 0,
             "ticks": ""
            },
            "type": "mesh3d"
           }
          ],
          "parcoords": [
           {
            "line": {
             "colorbar": {
              "outlinewidth": 0,
              "ticks": ""
             }
            },
            "type": "parcoords"
           }
          ],
          "pie": [
           {
            "automargin": true,
            "type": "pie"
           }
          ],
          "scatter": [
           {
            "fillpattern": {
             "fillmode": "overlay",
             "size": 10,
             "solidity": 0.2
            },
            "type": "scatter"
           }
          ],
          "scatter3d": [
           {
            "line": {
             "colorbar": {
              "outlinewidth": 0,
              "ticks": ""
             }
            },
            "marker": {
             "colorbar": {
              "outlinewidth": 0,
              "ticks": ""
             }
            },
            "type": "scatter3d"
           }
          ],
          "scattercarpet": [
           {
            "marker": {
             "colorbar": {
              "outlinewidth": 0,
              "ticks": ""
             }
            },
            "type": "scattercarpet"
           }
          ],
          "scattergeo": [
           {
            "marker": {
             "colorbar": {
              "outlinewidth": 0,
              "ticks": ""
             }
            },
            "type": "scattergeo"
           }
          ],
          "scattergl": [
           {
            "marker": {
             "colorbar": {
              "outlinewidth": 0,
              "ticks": ""
             }
            },
            "type": "scattergl"
           }
          ],
          "scattermapbox": [
           {
            "marker": {
             "colorbar": {
              "outlinewidth": 0,
              "ticks": ""
             }
            },
            "type": "scattermapbox"
           }
          ],
          "scatterpolar": [
           {
            "marker": {
             "colorbar": {
              "outlinewidth": 0,
              "ticks": ""
             }
            },
            "type": "scatterpolar"
           }
          ],
          "scatterpolargl": [
           {
            "marker": {
             "colorbar": {
              "outlinewidth": 0,
              "ticks": ""
             }
            },
            "type": "scatterpolargl"
           }
          ],
          "scatterternary": [
           {
            "marker": {
             "colorbar": {
              "outlinewidth": 0,
              "ticks": ""
             }
            },
            "type": "scatterternary"
           }
          ],
          "surface": [
           {
            "colorbar": {
             "outlinewidth": 0,
             "ticks": ""
            },
            "colorscale": [
             [
              0,
              "#0d0887"
             ],
             [
              0.1111111111111111,
              "#46039f"
             ],
             [
              0.2222222222222222,
              "#7201a8"
             ],
             [
              0.3333333333333333,
              "#9c179e"
             ],
             [
              0.4444444444444444,
              "#bd3786"
             ],
             [
              0.5555555555555556,
              "#d8576b"
             ],
             [
              0.6666666666666666,
              "#ed7953"
             ],
             [
              0.7777777777777778,
              "#fb9f3a"
             ],
             [
              0.8888888888888888,
              "#fdca26"
             ],
             [
              1,
              "#f0f921"
             ]
            ],
            "type": "surface"
           }
          ],
          "table": [
           {
            "cells": {
             "fill": {
              "color": "#EBF0F8"
             },
             "line": {
              "color": "white"
             }
            },
            "header": {
             "fill": {
              "color": "#C8D4E3"
             },
             "line": {
              "color": "white"
             }
            },
            "type": "table"
           }
          ]
         },
         "layout": {
          "annotationdefaults": {
           "arrowcolor": "#2a3f5f",
           "arrowhead": 0,
           "arrowwidth": 1
          },
          "autotypenumbers": "strict",
          "coloraxis": {
           "colorbar": {
            "outlinewidth": 0,
            "ticks": ""
           }
          },
          "colorscale": {
           "diverging": [
            [
             0,
             "#8e0152"
            ],
            [
             0.1,
             "#c51b7d"
            ],
            [
             0.2,
             "#de77ae"
            ],
            [
             0.3,
             "#f1b6da"
            ],
            [
             0.4,
             "#fde0ef"
            ],
            [
             0.5,
             "#f7f7f7"
            ],
            [
             0.6,
             "#e6f5d0"
            ],
            [
             0.7,
             "#b8e186"
            ],
            [
             0.8,
             "#7fbc41"
            ],
            [
             0.9,
             "#4d9221"
            ],
            [
             1,
             "#276419"
            ]
           ],
           "sequential": [
            [
             0,
             "#0d0887"
            ],
            [
             0.1111111111111111,
             "#46039f"
            ],
            [
             0.2222222222222222,
             "#7201a8"
            ],
            [
             0.3333333333333333,
             "#9c179e"
            ],
            [
             0.4444444444444444,
             "#bd3786"
            ],
            [
             0.5555555555555556,
             "#d8576b"
            ],
            [
             0.6666666666666666,
             "#ed7953"
            ],
            [
             0.7777777777777778,
             "#fb9f3a"
            ],
            [
             0.8888888888888888,
             "#fdca26"
            ],
            [
             1,
             "#f0f921"
            ]
           ],
           "sequentialminus": [
            [
             0,
             "#0d0887"
            ],
            [
             0.1111111111111111,
             "#46039f"
            ],
            [
             0.2222222222222222,
             "#7201a8"
            ],
            [
             0.3333333333333333,
             "#9c179e"
            ],
            [
             0.4444444444444444,
             "#bd3786"
            ],
            [
             0.5555555555555556,
             "#d8576b"
            ],
            [
             0.6666666666666666,
             "#ed7953"
            ],
            [
             0.7777777777777778,
             "#fb9f3a"
            ],
            [
             0.8888888888888888,
             "#fdca26"
            ],
            [
             1,
             "#f0f921"
            ]
           ]
          },
          "colorway": [
           "#636efa",
           "#EF553B",
           "#00cc96",
           "#ab63fa",
           "#FFA15A",
           "#19d3f3",
           "#FF6692",
           "#B6E880",
           "#FF97FF",
           "#FECB52"
          ],
          "font": {
           "color": "#2a3f5f"
          },
          "geo": {
           "bgcolor": "white",
           "lakecolor": "white",
           "landcolor": "#E5ECF6",
           "showlakes": true,
           "showland": true,
           "subunitcolor": "white"
          },
          "hoverlabel": {
           "align": "left"
          },
          "hovermode": "closest",
          "mapbox": {
           "style": "light"
          },
          "paper_bgcolor": "white",
          "plot_bgcolor": "#E5ECF6",
          "polar": {
           "angularaxis": {
            "gridcolor": "white",
            "linecolor": "white",
            "ticks": ""
           },
           "bgcolor": "#E5ECF6",
           "radialaxis": {
            "gridcolor": "white",
            "linecolor": "white",
            "ticks": ""
           }
          },
          "scene": {
           "xaxis": {
            "backgroundcolor": "#E5ECF6",
            "gridcolor": "white",
            "gridwidth": 2,
            "linecolor": "white",
            "showbackground": true,
            "ticks": "",
            "zerolinecolor": "white"
           },
           "yaxis": {
            "backgroundcolor": "#E5ECF6",
            "gridcolor": "white",
            "gridwidth": 2,
            "linecolor": "white",
            "showbackground": true,
            "ticks": "",
            "zerolinecolor": "white"
           },
           "zaxis": {
            "backgroundcolor": "#E5ECF6",
            "gridcolor": "white",
            "gridwidth": 2,
            "linecolor": "white",
            "showbackground": true,
            "ticks": "",
            "zerolinecolor": "white"
           }
          },
          "shapedefaults": {
           "line": {
            "color": "#2a3f5f"
           }
          },
          "ternary": {
           "aaxis": {
            "gridcolor": "white",
            "linecolor": "white",
            "ticks": ""
           },
           "baxis": {
            "gridcolor": "white",
            "linecolor": "white",
            "ticks": ""
           },
           "bgcolor": "#E5ECF6",
           "caxis": {
            "gridcolor": "white",
            "linecolor": "white",
            "ticks": ""
           }
          },
          "title": {
           "x": 0.05
          },
          "xaxis": {
           "automargin": true,
           "gridcolor": "white",
           "linecolor": "white",
           "ticks": "",
           "title": {
            "standoff": 15
           },
           "zerolinecolor": "white",
           "zerolinewidth": 2
          },
          "yaxis": {
           "automargin": true,
           "gridcolor": "white",
           "linecolor": "white",
           "ticks": "",
           "title": {
            "standoff": 15
           },
           "zerolinecolor": "white",
           "zerolinewidth": 2
          }
         }
        },
        "title": {
         "text": "Convergence of Gaussian-Laguerre Quadrature Method for Average Rate Caplets"
        },
        "width": 800,
        "xaxis": {
         "title": {
          "text": "Number of Quadrature Points"
         }
        },
        "yaxis": {
         "title": {
          "text": "Error"
         },
         "type": "log"
        }
       }
      }
     },
     "metadata": {},
     "output_type": "display_data"
    }
   ],
   "source": [
    "# Set up parameter values\n",
    "F = 0.02       # Initial forward rate (2%)\n",
    "K = 0.025      # Strike rate (2.5%)\n",
    "sigma = 0.004  # Volatility (40 basis points)\n",
    "T1 = 1.0       # Start of averaging period (1 year)\n",
    "T2 = 1.5       # End of averaging period (1.5 years)\n",
    "tau = T2 - T1  # Year fraction (0.5 years)\n",
    "discount_factor = 0.97  # Discount factor P(0, T2)\n",
    "notional = 1000000  # Notional amount (1 million)\n",
    "\n",
    "# Calculate price using both methods\n",
    "price_analytical = average_rate_caplet_price_analytical(\n",
    "    F, K, sigma, T1, T2, discount_factor, notional\n",
    ")\n",
    "\n",
    "# Try different numbers of quadrature points\n",
    "quad_points = [5, 10, 15, 20, 30, 50]\n",
    "prices_quadrature = []\n",
    "errors_quadrature = []\n",
    "\n",
    "for n in quad_points:\n",
    "    price_quad, error_quad = average_rate_caplet_price_laguerre(\n",
    "        F, K, sigma, T1, T2, discount_factor, notional, n_points=n\n",
    "    )\n",
    "    prices_quadrature.append(price_quad)\n",
    "    errors_quadrature.append(error_quad)\n",
    "\n",
    "# Display results\n",
    "print(f\"Average Rate Caplet Price (Analytical): {price_analytical:.2f}\")\n",
    "\n",
    "print(\"\\nQuadrature Implementation Results:\")\n",
    "for i, n in enumerate(quad_points):\n",
    "    print(f\"n={n}: {prices_quadrature[i]:.2f}, Difference: {prices_quadrature[i] - price_analytical:.6f}, Error Estimate: {errors_quadrature[i]:.6f}\")\n",
    "\n",
    "# Visualize convergence\n",
    "fig = go.Figure()\n",
    "fig.add_trace(go.Scatter(\n",
    "    x=quad_points,\n",
    "    y=[abs(price - price_analytical) for price in prices_quadrature],\n",
    "    mode='lines+markers',\n",
    "    name='Absolute Error',\n",
    "    line=dict(color='blue', width=2)\n",
    "))\n",
    "\n",
    "fig.add_trace(go.Scatter(\n",
    "    x=quad_points,\n",
    "    y=errors_quadrature,\n",
    "    mode='lines+markers',\n",
    "    name='Estimated Error',\n",
    "    line=dict(color='red', width=2, dash='dash')\n",
    "))\n",
    "\n",
    "fig.update_layout(\n",
    "    title=\"Convergence of Gaussian-Laguerre Quadrature Method for Average Rate Caplets\",\n",
    "    xaxis_title=\"Number of Quadrature Points\",\n",
    "    yaxis_title=\"Error\",\n",
    "    yaxis_type=\"log\",  # Log scale for better visualization of error\n",
    "    width=800,\n",
    "    height=500\n",
    ")\n",
    "\n",
    "fig.show()"
   ]
  },
  {
   "cell_type": "markdown",
   "id": "997cc410",
   "metadata": {},
   "source": [
    "## 5. Sensitivity Analysis\n",
    "\n",
    "Let's analyze how the average rate caplet price changes with respect to different input parameters, such as strike rate, volatility, and the averaging period."
   ]
  },
  {
   "cell_type": "code",
   "execution_count": 7,
   "id": "1b4dfe23",
   "metadata": {},
   "outputs": [
    {
     "data": {
      "application/vnd.plotly.v1+json": {
       "config": {
        "plotlyServerURL": "https://plot.ly"
       },
       "data": [
        {
         "line": {
          "color": "blue",
          "width": 2
         },
         "mode": "lines",
         "name": "Analytical",
         "type": "scatter",
         "x": [
          1,
          1.103448275862069,
          1.206896551724138,
          1.3103448275862069,
          1.413793103448276,
          1.5172413793103448,
          1.6206896551724137,
          1.7241379310344827,
          1.8275862068965518,
          1.9310344827586208,
          2.03448275862069,
          2.137931034482759,
          2.241379310344828,
          2.344827586206897,
          2.4482758620689657,
          2.5517241379310343,
          2.655172413793103,
          2.7586206896551726,
          2.8620689655172415,
          2.9655172413793105,
          3.0689655172413794,
          3.1724137931034484,
          3.2758620689655173,
          3.3793103448275867,
          3.4827586206896557,
          3.5862068965517238,
          3.689655172413793,
          3.793103448275862,
          3.896551724137931,
          4
         ],
         "y": [
          4850.015596005789,
          4348.357588483602,
          3846.9224001387624,
          3346.286548562252,
          2848.1025717595912,
          2356.3497234889624,
          1879.022087258961,
          1429.3654815013906,
          1025.1045662451663,
          684.5384544920743,
          420.4092449484905,
          234.7343921014185,
          117.93217630434432,
          52.84159785071137,
          20.95832492379322,
          7.312760115071214,
          2.2332622057533347,
          0.5944621138234306,
          0.13745382769314682,
          0.027531276174344917,
          0.004765797915180935,
          0.0007116387615516322,
          0.00009151903130460077,
          0.000010123150828811342,
          9.620272953388304e-7,
          7.847203611201374e-8,
          5.489679022559457e-9,
          3.2914083114677413e-10,
          1.6902803485195348e-11,
          7.431073772112378e-13
         ]
        },
        {
         "marker": {
          "color": "red",
          "size": 8,
          "symbol": "circle"
         },
         "mode": "markers",
         "name": "Quadrature (n=20)",
         "type": "scatter",
         "x": [
          1,
          1.103448275862069,
          1.206896551724138,
          1.3103448275862069,
          1.413793103448276,
          1.5172413793103448,
          1.6206896551724137,
          1.7241379310344827,
          1.8275862068965518,
          1.9310344827586208,
          2.03448275862069,
          2.137931034482759,
          2.241379310344828,
          2.344827586206897,
          2.4482758620689657,
          2.5517241379310343,
          2.655172413793103,
          2.7586206896551726,
          2.8620689655172415,
          2.9655172413793105,
          3.0689655172413794,
          3.1724137931034484,
          3.2758620689655173,
          3.3793103448275867,
          3.4827586206896557,
          3.5862068965517238,
          3.689655172413793,
          3.793103448275862,
          3.896551724137931,
          4
         ],
         "y": [
          6.302053928375244,
          15.103322982788086,
          32.16089630126953,
          60.73890686035156,
          101.53494262695312,
          149.90660095214844,
          195.01394653320312,
          222.99278259277344,
          223.5712890625,
          196.0485076904297,
          149.9955291748047,
          99.89532470703125,
          57.783329010009766,
          28.970197677612305,
          12.564957618713379,
          4.706204891204834,
          1.5198140144348145,
          0.4225688874721527,
          0.10102616995573044,
          0.020744431763887405,
          0.003654749132692814,
          0.000551962701138109,
          0.00007140213710954413,
          0.000007905987331469078,
          7.488162054869463e-7,
          6.063618940288507e-8,
          4.195833902542745e-9,
          2.4800034248428915e-10,
          1.2516245852245422e-11,
          5.391926597049512e-13
         ]
        }
       ],
       "layout": {
        "annotations": [
         {
          "arrowhead": 1,
          "ax": 40,
          "ay": 0,
          "showarrow": true,
          "text": "Forward Rate: 2.0%",
          "x": 2,
          "y": 3880.0124768046317
         }
        ],
        "height": 500,
        "legend": {
         "x": 0.7,
         "y": 0.9
        },
        "shapes": [
         {
          "line": {
           "color": "green",
           "dash": "dash",
           "width": 2
          },
          "type": "line",
          "x0": 2,
          "x1": 2,
          "y0": 0,
          "y1": 5335.017155606369
         }
        ],
        "template": {
         "data": {
          "bar": [
           {
            "error_x": {
             "color": "#2a3f5f"
            },
            "error_y": {
             "color": "#2a3f5f"
            },
            "marker": {
             "line": {
              "color": "#E5ECF6",
              "width": 0.5
             },
             "pattern": {
              "fillmode": "overlay",
              "size": 10,
              "solidity": 0.2
             }
            },
            "type": "bar"
           }
          ],
          "barpolar": [
           {
            "marker": {
             "line": {
              "color": "#E5ECF6",
              "width": 0.5
             },
             "pattern": {
              "fillmode": "overlay",
              "size": 10,
              "solidity": 0.2
             }
            },
            "type": "barpolar"
           }
          ],
          "carpet": [
           {
            "aaxis": {
             "endlinecolor": "#2a3f5f",
             "gridcolor": "white",
             "linecolor": "white",
             "minorgridcolor": "white",
             "startlinecolor": "#2a3f5f"
            },
            "baxis": {
             "endlinecolor": "#2a3f5f",
             "gridcolor": "white",
             "linecolor": "white",
             "minorgridcolor": "white",
             "startlinecolor": "#2a3f5f"
            },
            "type": "carpet"
           }
          ],
          "choropleth": [
           {
            "colorbar": {
             "outlinewidth": 0,
             "ticks": ""
            },
            "type": "choropleth"
           }
          ],
          "contour": [
           {
            "colorbar": {
             "outlinewidth": 0,
             "ticks": ""
            },
            "colorscale": [
             [
              0,
              "#0d0887"
             ],
             [
              0.1111111111111111,
              "#46039f"
             ],
             [
              0.2222222222222222,
              "#7201a8"
             ],
             [
              0.3333333333333333,
              "#9c179e"
             ],
             [
              0.4444444444444444,
              "#bd3786"
             ],
             [
              0.5555555555555556,
              "#d8576b"
             ],
             [
              0.6666666666666666,
              "#ed7953"
             ],
             [
              0.7777777777777778,
              "#fb9f3a"
             ],
             [
              0.8888888888888888,
              "#fdca26"
             ],
             [
              1,
              "#f0f921"
             ]
            ],
            "type": "contour"
           }
          ],
          "contourcarpet": [
           {
            "colorbar": {
             "outlinewidth": 0,
             "ticks": ""
            },
            "type": "contourcarpet"
           }
          ],
          "heatmap": [
           {
            "colorbar": {
             "outlinewidth": 0,
             "ticks": ""
            },
            "colorscale": [
             [
              0,
              "#0d0887"
             ],
             [
              0.1111111111111111,
              "#46039f"
             ],
             [
              0.2222222222222222,
              "#7201a8"
             ],
             [
              0.3333333333333333,
              "#9c179e"
             ],
             [
              0.4444444444444444,
              "#bd3786"
             ],
             [
              0.5555555555555556,
              "#d8576b"
             ],
             [
              0.6666666666666666,
              "#ed7953"
             ],
             [
              0.7777777777777778,
              "#fb9f3a"
             ],
             [
              0.8888888888888888,
              "#fdca26"
             ],
             [
              1,
              "#f0f921"
             ]
            ],
            "type": "heatmap"
           }
          ],
          "heatmapgl": [
           {
            "colorbar": {
             "outlinewidth": 0,
             "ticks": ""
            },
            "colorscale": [
             [
              0,
              "#0d0887"
             ],
             [
              0.1111111111111111,
              "#46039f"
             ],
             [
              0.2222222222222222,
              "#7201a8"
             ],
             [
              0.3333333333333333,
              "#9c179e"
             ],
             [
              0.4444444444444444,
              "#bd3786"
             ],
             [
              0.5555555555555556,
              "#d8576b"
             ],
             [
              0.6666666666666666,
              "#ed7953"
             ],
             [
              0.7777777777777778,
              "#fb9f3a"
             ],
             [
              0.8888888888888888,
              "#fdca26"
             ],
             [
              1,
              "#f0f921"
             ]
            ],
            "type": "heatmapgl"
           }
          ],
          "histogram": [
           {
            "marker": {
             "pattern": {
              "fillmode": "overlay",
              "size": 10,
              "solidity": 0.2
             }
            },
            "type": "histogram"
           }
          ],
          "histogram2d": [
           {
            "colorbar": {
             "outlinewidth": 0,
             "ticks": ""
            },
            "colorscale": [
             [
              0,
              "#0d0887"
             ],
             [
              0.1111111111111111,
              "#46039f"
             ],
             [
              0.2222222222222222,
              "#7201a8"
             ],
             [
              0.3333333333333333,
              "#9c179e"
             ],
             [
              0.4444444444444444,
              "#bd3786"
             ],
             [
              0.5555555555555556,
              "#d8576b"
             ],
             [
              0.6666666666666666,
              "#ed7953"
             ],
             [
              0.7777777777777778,
              "#fb9f3a"
             ],
             [
              0.8888888888888888,
              "#fdca26"
             ],
             [
              1,
              "#f0f921"
             ]
            ],
            "type": "histogram2d"
           }
          ],
          "histogram2dcontour": [
           {
            "colorbar": {
             "outlinewidth": 0,
             "ticks": ""
            },
            "colorscale": [
             [
              0,
              "#0d0887"
             ],
             [
              0.1111111111111111,
              "#46039f"
             ],
             [
              0.2222222222222222,
              "#7201a8"
             ],
             [
              0.3333333333333333,
              "#9c179e"
             ],
             [
              0.4444444444444444,
              "#bd3786"
             ],
             [
              0.5555555555555556,
              "#d8576b"
             ],
             [
              0.6666666666666666,
              "#ed7953"
             ],
             [
              0.7777777777777778,
              "#fb9f3a"
             ],
             [
              0.8888888888888888,
              "#fdca26"
             ],
             [
              1,
              "#f0f921"
             ]
            ],
            "type": "histogram2dcontour"
           }
          ],
          "mesh3d": [
           {
            "colorbar": {
             "outlinewidth": 0,
             "ticks": ""
            },
            "type": "mesh3d"
           }
          ],
          "parcoords": [
           {
            "line": {
             "colorbar": {
              "outlinewidth": 0,
              "ticks": ""
             }
            },
            "type": "parcoords"
           }
          ],
          "pie": [
           {
            "automargin": true,
            "type": "pie"
           }
          ],
          "scatter": [
           {
            "fillpattern": {
             "fillmode": "overlay",
             "size": 10,
             "solidity": 0.2
            },
            "type": "scatter"
           }
          ],
          "scatter3d": [
           {
            "line": {
             "colorbar": {
              "outlinewidth": 0,
              "ticks": ""
             }
            },
            "marker": {
             "colorbar": {
              "outlinewidth": 0,
              "ticks": ""
             }
            },
            "type": "scatter3d"
           }
          ],
          "scattercarpet": [
           {
            "marker": {
             "colorbar": {
              "outlinewidth": 0,
              "ticks": ""
             }
            },
            "type": "scattercarpet"
           }
          ],
          "scattergeo": [
           {
            "marker": {
             "colorbar": {
              "outlinewidth": 0,
              "ticks": ""
             }
            },
            "type": "scattergeo"
           }
          ],
          "scattergl": [
           {
            "marker": {
             "colorbar": {
              "outlinewidth": 0,
              "ticks": ""
             }
            },
            "type": "scattergl"
           }
          ],
          "scattermapbox": [
           {
            "marker": {
             "colorbar": {
              "outlinewidth": 0,
              "ticks": ""
             }
            },
            "type": "scattermapbox"
           }
          ],
          "scatterpolar": [
           {
            "marker": {
             "colorbar": {
              "outlinewidth": 0,
              "ticks": ""
             }
            },
            "type": "scatterpolar"
           }
          ],
          "scatterpolargl": [
           {
            "marker": {
             "colorbar": {
              "outlinewidth": 0,
              "ticks": ""
             }
            },
            "type": "scatterpolargl"
           }
          ],
          "scatterternary": [
           {
            "marker": {
             "colorbar": {
              "outlinewidth": 0,
              "ticks": ""
             }
            },
            "type": "scatterternary"
           }
          ],
          "surface": [
           {
            "colorbar": {
             "outlinewidth": 0,
             "ticks": ""
            },
            "colorscale": [
             [
              0,
              "#0d0887"
             ],
             [
              0.1111111111111111,
              "#46039f"
             ],
             [
              0.2222222222222222,
              "#7201a8"
             ],
             [
              0.3333333333333333,
              "#9c179e"
             ],
             [
              0.4444444444444444,
              "#bd3786"
             ],
             [
              0.5555555555555556,
              "#d8576b"
             ],
             [
              0.6666666666666666,
              "#ed7953"
             ],
             [
              0.7777777777777778,
              "#fb9f3a"
             ],
             [
              0.8888888888888888,
              "#fdca26"
             ],
             [
              1,
              "#f0f921"
             ]
            ],
            "type": "surface"
           }
          ],
          "table": [
           {
            "cells": {
             "fill": {
              "color": "#EBF0F8"
             },
             "line": {
              "color": "white"
             }
            },
            "header": {
             "fill": {
              "color": "#C8D4E3"
             },
             "line": {
              "color": "white"
             }
            },
            "type": "table"
           }
          ]
         },
         "layout": {
          "annotationdefaults": {
           "arrowcolor": "#2a3f5f",
           "arrowhead": 0,
           "arrowwidth": 1
          },
          "autotypenumbers": "strict",
          "coloraxis": {
           "colorbar": {
            "outlinewidth": 0,
            "ticks": ""
           }
          },
          "colorscale": {
           "diverging": [
            [
             0,
             "#8e0152"
            ],
            [
             0.1,
             "#c51b7d"
            ],
            [
             0.2,
             "#de77ae"
            ],
            [
             0.3,
             "#f1b6da"
            ],
            [
             0.4,
             "#fde0ef"
            ],
            [
             0.5,
             "#f7f7f7"
            ],
            [
             0.6,
             "#e6f5d0"
            ],
            [
             0.7,
             "#b8e186"
            ],
            [
             0.8,
             "#7fbc41"
            ],
            [
             0.9,
             "#4d9221"
            ],
            [
             1,
             "#276419"
            ]
           ],
           "sequential": [
            [
             0,
             "#0d0887"
            ],
            [
             0.1111111111111111,
             "#46039f"
            ],
            [
             0.2222222222222222,
             "#7201a8"
            ],
            [
             0.3333333333333333,
             "#9c179e"
            ],
            [
             0.4444444444444444,
             "#bd3786"
            ],
            [
             0.5555555555555556,
             "#d8576b"
            ],
            [
             0.6666666666666666,
             "#ed7953"
            ],
            [
             0.7777777777777778,
             "#fb9f3a"
            ],
            [
             0.8888888888888888,
             "#fdca26"
            ],
            [
             1,
             "#f0f921"
            ]
           ],
           "sequentialminus": [
            [
             0,
             "#0d0887"
            ],
            [
             0.1111111111111111,
             "#46039f"
            ],
            [
             0.2222222222222222,
             "#7201a8"
            ],
            [
             0.3333333333333333,
             "#9c179e"
            ],
            [
             0.4444444444444444,
             "#bd3786"
            ],
            [
             0.5555555555555556,
             "#d8576b"
            ],
            [
             0.6666666666666666,
             "#ed7953"
            ],
            [
             0.7777777777777778,
             "#fb9f3a"
            ],
            [
             0.8888888888888888,
             "#fdca26"
            ],
            [
             1,
             "#f0f921"
            ]
           ]
          },
          "colorway": [
           "#636efa",
           "#EF553B",
           "#00cc96",
           "#ab63fa",
           "#FFA15A",
           "#19d3f3",
           "#FF6692",
           "#B6E880",
           "#FF97FF",
           "#FECB52"
          ],
          "font": {
           "color": "#2a3f5f"
          },
          "geo": {
           "bgcolor": "white",
           "lakecolor": "white",
           "landcolor": "#E5ECF6",
           "showlakes": true,
           "showland": true,
           "subunitcolor": "white"
          },
          "hoverlabel": {
           "align": "left"
          },
          "hovermode": "closest",
          "mapbox": {
           "style": "light"
          },
          "paper_bgcolor": "white",
          "plot_bgcolor": "#E5ECF6",
          "polar": {
           "angularaxis": {
            "gridcolor": "white",
            "linecolor": "white",
            "ticks": ""
           },
           "bgcolor": "#E5ECF6",
           "radialaxis": {
            "gridcolor": "white",
            "linecolor": "white",
            "ticks": ""
           }
          },
          "scene": {
           "xaxis": {
            "backgroundcolor": "#E5ECF6",
            "gridcolor": "white",
            "gridwidth": 2,
            "linecolor": "white",
            "showbackground": true,
            "ticks": "",
            "zerolinecolor": "white"
           },
           "yaxis": {
            "backgroundcolor": "#E5ECF6",
            "gridcolor": "white",
            "gridwidth": 2,
            "linecolor": "white",
            "showbackground": true,
            "ticks": "",
            "zerolinecolor": "white"
           },
           "zaxis": {
            "backgroundcolor": "#E5ECF6",
            "gridcolor": "white",
            "gridwidth": 2,
            "linecolor": "white",
            "showbackground": true,
            "ticks": "",
            "zerolinecolor": "white"
           }
          },
          "shapedefaults": {
           "line": {
            "color": "#2a3f5f"
           }
          },
          "ternary": {
           "aaxis": {
            "gridcolor": "white",
            "linecolor": "white",
            "ticks": ""
           },
           "baxis": {
            "gridcolor": "white",
            "linecolor": "white",
            "ticks": ""
           },
           "bgcolor": "#E5ECF6",
           "caxis": {
            "gridcolor": "white",
            "linecolor": "white",
            "ticks": ""
           }
          },
          "title": {
           "x": 0.05
          },
          "xaxis": {
           "automargin": true,
           "gridcolor": "white",
           "linecolor": "white",
           "ticks": "",
           "title": {
            "standoff": 15
           },
           "zerolinecolor": "white",
           "zerolinewidth": 2
          },
          "yaxis": {
           "automargin": true,
           "gridcolor": "white",
           "linecolor": "white",
           "ticks": "",
           "title": {
            "standoff": 15
           },
           "zerolinecolor": "white",
           "zerolinewidth": 2
          }
         }
        },
        "title": {
         "text": "Average Rate Caplet Price Sensitivity to Strike Rate"
        },
        "width": 800,
        "xaxis": {
         "title": {
          "text": "Strike Rate (%)"
         }
        },
        "yaxis": {
         "title": {
          "text": "Caplet Price"
         }
        }
       }
      }
     },
     "metadata": {},
     "output_type": "display_data"
    }
   ],
   "source": [
    "# Analyze sensitivity to strike rate\n",
    "strike_rates = np.linspace(0.01, 0.04, 30)  # 1% to 4%\n",
    "prices_analytical = []\n",
    "prices_quad = []\n",
    "\n",
    "for K in strike_rates:\n",
    "    prices_analytical.append(average_rate_caplet_price_analytical(\n",
    "        F, K, sigma, T1, T2, discount_factor, notional\n",
    "    ))\n",
    "    price_quad, _ = average_rate_caplet_price_laguerre(\n",
    "        F, K, sigma, T1, T2, discount_factor, notional, n_points=20\n",
    "    )\n",
    "    prices_quad.append(price_quad)\n",
    "\n",
    "# Create plot\n",
    "fig = go.Figure()\n",
    "fig.add_trace(go.Scatter(\n",
    "    x=strike_rates * 100,  # Convert to percentage\n",
    "    y=prices_analytical,\n",
    "    mode='lines',\n",
    "    name='Analytical',\n",
    "    line=dict(color='blue', width=2)\n",
    "))\n",
    "\n",
    "fig.add_trace(go.Scatter(\n",
    "    x=strike_rates * 100,  # Convert to percentage\n",
    "    y=prices_quad,\n",
    "    mode='markers',\n",
    "    name='Quadrature (n=20)',\n",
    "    marker=dict(color='red', size=8, symbol='circle')\n",
    "))\n",
    "\n",
    "fig.update_layout(\n",
    "    title=\"Average Rate Caplet Price Sensitivity to Strike Rate\",\n",
    "    xaxis_title=\"Strike Rate (%)\",\n",
    "    yaxis_title=\"Caplet Price\",\n",
    "    width=800,\n",
    "    height=500,\n",
    "    legend=dict(x=0.7, y=0.9)\n",
    ")\n",
    "\n",
    "# Add vertical line at forward rate\n",
    "fig.add_shape(\n",
    "    type=\"line\",\n",
    "    x0=F*100, y0=0,\n",
    "    x1=F*100, y1=max(prices_analytical)*1.1,\n",
    "    line=dict(color=\"green\", width=2, dash=\"dash\"),\n",
    ")\n",
    "\n",
    "fig.add_annotation(\n",
    "    x=F*100, y=max(prices_analytical)*0.8,\n",
    "    text=f\"Forward Rate: {F*100:.1f}%\",\n",
    "    showarrow=True,\n",
    "    arrowhead=1,\n",
    "    ax=40,\n",
    "    ay=0\n",
    ")\n",
    "\n",
    "fig.show()"
   ]
  },
  {
   "cell_type": "code",
   "execution_count": null,
   "id": "c736eda5",
   "metadata": {},
   "outputs": [],
   "source": [
    "# Analyze sensitivity to volatility\n",
    "volatilities = np.linspace(0.001, 0.01, 20)  # 10 to 100 basis points\n",
    "prices_analytical = []\n",
    "prices_quad = []\n",
    "\n",
    "for vol in volatilities:\n",
    "    prices_analytical.append(average_rate_caplet_price_analytical(\n",
    "        F, K, vol, T1, T2, discount_factor, notional\n",
    "    ))\n",
    "    price_quad, _ = average_rate_caplet_price_laguerre(\n",
    "        F, K, vol, T1, T2, discount_factor, notional, n_points=20\n",
    "    )\n",
    "    prices_quad.append(price_quad)\n",
    "\n",
    "# Create plot\n",
    "fig = go.Figure()\n",
    "fig.add_trace(go.Scatter(\n",
    "    x=volatilities * 10000,  # Convert to basis points\n",
    "    y=prices_analytical,\n",
    "    mode='lines',\n",
    "    name='Analytical',\n",
    "    line=dict(color='blue', width=2)\n",
    "))\n",
    "\n",
    "fig.add_trace(go.Scatter(\n",
    "    x=volatilities * 10000,  # Convert to basis points\n",
    "    y=prices_quad,\n",
    "    mode='markers',\n",
    "    name='Quadrature (n=20)',\n",
    "    marker=dict(color='red', size=8, symbol='circle')\n",
    "))\n",
    "\n",
    "fig.update_layout(\n",
    "    title=\"Average Rate Caplet Price Sensitivity to Volatility\",\n",
    "    xaxis_title=\"Volatility (basis points)\",\n",
    "    yaxis_title=\"Caplet Price\",\n",
    "    width=800,\n",
    "    height=500\n",
    ")\n",
    "\n",
    "fig.show()"
   ]
  },
  {
   "cell_type": "code",
   "execution_count": null,
   "id": "ce099d9a",
   "metadata": {},
   "outputs": [],
   "source": [
    "# Analyze sensitivity to the averaging period length\n",
    "tau_values = np.linspace(0.25, 2.0, 20)  # 3 months to 2 years\n",
    "prices_analytical = []\n",
    "prices_quad = []\n",
    "\n",
    "# Fixed T1 at 1.0, vary T2\n",
    "for tau_val in tau_values:\n",
    "    T2_val = T1 + tau_val\n",
    "    prices_analytical.append(average_rate_caplet_price_analytical(\n",
    "        F, K, sigma, T1, T2_val, discount_factor, notional\n",
    "    ))\n",
    "    price_quad, _ = average_rate_caplet_price_laguerre(\n",
    "        F, K, sigma, T1, T2_val, discount_factor, notional, n_points=20\n",
    "    )\n",
    "    prices_quad.append(price_quad)\n",
    "\n",
    "# Create plot\n",
    "fig = go.Figure()\n",
    "fig.add_trace(go.Scatter(\n",
    "    x=tau_values,\n",
    "    y=prices_analytical,\n",
    "    mode='lines',\n",
    "    name='Analytical',\n",
    "    line=dict(color='blue', width=2)\n",
    "))\n",
    "\n",
    "fig.add_trace(go.Scatter(\n",
    "    x=tau_values,\n",
    "    y=prices_quad,\n",
    "    mode='markers',\n",
    "    name='Quadrature (n=20)',\n",
    "    marker=dict(color='red', size=8, symbol='circle')\n",
    "))\n",
    "\n",
    "fig.update_layout(\n",
    "    title=\"Average Rate Caplet Price Sensitivity to Averaging Period Length\",\n",
    "    xaxis_title=\"Averaging Period Length (years)\",\n",
    "    yaxis_title=\"Caplet Price\",\n",
    "    width=800,\n",
    "    height=500\n",
    ")\n",
    "\n",
    "fig.show()"
   ]
  },
  {
   "cell_type": "markdown",
   "id": "45682906",
   "metadata": {},
   "source": [
    "## 6. Comparison with Standard Caplets\n",
    "\n",
    "Let's compare the pricing of average rate caplets with standard (spot rate) caplets to understand the impact of using an average rate instead of a spot rate."
   ]
  },
  {
   "cell_type": "code",
   "execution_count": 8,
   "id": "fa1a674b",
   "metadata": {},
   "outputs": [
    {
     "data": {
      "application/vnd.plotly.v1+json": {
       "config": {
        "plotlyServerURL": "https://plot.ly"
       },
       "data": [
        {
         "line": {
          "color": "blue",
          "width": 2
         },
         "mode": "lines",
         "name": "Standard Caplet",
         "type": "scatter",
         "x": [
          1,
          1.103448275862069,
          1.206896551724138,
          1.3103448275862069,
          1.413793103448276,
          1.5172413793103448,
          1.6206896551724137,
          1.7241379310344827,
          1.8275862068965518,
          1.9310344827586208,
          2.03448275862069,
          2.137931034482759,
          2.241379310344828,
          2.344827586206897,
          2.4482758620689657,
          2.5517241379310343,
          2.655172413793103,
          2.7586206896551726,
          2.8620689655172415,
          2.9655172413793105,
          3.0689655172413794,
          3.1724137931034484,
          3.2758620689655173,
          3.3793103448275867,
          3.4827586206896557,
          3.5862068965517238,
          3.689655172413793,
          3.793103448275862,
          3.896551724137931,
          4
         ],
         "y": [
          4853.888026127509,
          4356.697710118531,
          3863.8003881520044,
          3378.271437763718,
          2904.5797776912345,
          2448.6874460895265,
          2017.8461873996948,
          1620.0054772969834,
          1262.8548605170538,
          952.6643806467116,
          693.2014019219419,
          485.0282455491163,
          325.39428248358576,
          208.75625767904225,
          127.76626544282779,
          74.44037428400266,
          41.20864443357481,
          21.638303524222092,
          10.761382702382267,
          5.062394196906646,
          2.2500341266715878,
          0.9439099919572463,
          0.3734191714190974,
          0.13920334433627407,
          0.048864383641459085,
          0.016142188457595203,
          0.00501565226299291,
          0.0014651479670823476,
          0.00040219945865575314,
          0.00010371561135636276
         ]
        },
        {
         "line": {
          "color": "red",
          "width": 2
         },
         "mode": "lines",
         "name": "Average Rate Caplet",
         "type": "scatter",
         "x": [
          1,
          1.103448275862069,
          1.206896551724138,
          1.3103448275862069,
          1.413793103448276,
          1.5172413793103448,
          1.6206896551724137,
          1.7241379310344827,
          1.8275862068965518,
          1.9310344827586208,
          2.03448275862069,
          2.137931034482759,
          2.241379310344828,
          2.344827586206897,
          2.4482758620689657,
          2.5517241379310343,
          2.655172413793103,
          2.7586206896551726,
          2.8620689655172415,
          2.9655172413793105,
          3.0689655172413794,
          3.1724137931034484,
          3.2758620689655173,
          3.3793103448275867,
          3.4827586206896557,
          3.5862068965517238,
          3.689655172413793,
          3.793103448275862,
          3.896551724137931,
          4
         ],
         "y": [
          4850.015596005789,
          4348.357588483602,
          3846.9224001387624,
          3346.286548562252,
          2848.1025717595912,
          2356.3497234889624,
          1879.022087258961,
          1429.3654815013906,
          1025.1045662451663,
          684.5384544920743,
          420.4092449484905,
          234.7343921014185,
          117.93217630434432,
          52.84159785071137,
          20.95832492379322,
          7.312760115071214,
          2.2332622057533347,
          0.5944621138234306,
          0.13745382769314682,
          0.027531276174344917,
          0.004765797915180935,
          0.0007116387615516322,
          0.00009151903130460077,
          0.000010123150828811342,
          9.620272953388304e-7,
          7.847203611201374e-8,
          5.489679022559457e-9,
          3.2914083114677413e-10,
          1.6902803485195348e-11,
          7.431073772112378e-13
         ]
        }
       ],
       "layout": {
        "height": 500,
        "legend": {
         "x": 0.7,
         "y": 0.9
        },
        "template": {
         "data": {
          "bar": [
           {
            "error_x": {
             "color": "#2a3f5f"
            },
            "error_y": {
             "color": "#2a3f5f"
            },
            "marker": {
             "line": {
              "color": "#E5ECF6",
              "width": 0.5
             },
             "pattern": {
              "fillmode": "overlay",
              "size": 10,
              "solidity": 0.2
             }
            },
            "type": "bar"
           }
          ],
          "barpolar": [
           {
            "marker": {
             "line": {
              "color": "#E5ECF6",
              "width": 0.5
             },
             "pattern": {
              "fillmode": "overlay",
              "size": 10,
              "solidity": 0.2
             }
            },
            "type": "barpolar"
           }
          ],
          "carpet": [
           {
            "aaxis": {
             "endlinecolor": "#2a3f5f",
             "gridcolor": "white",
             "linecolor": "white",
             "minorgridcolor": "white",
             "startlinecolor": "#2a3f5f"
            },
            "baxis": {
             "endlinecolor": "#2a3f5f",
             "gridcolor": "white",
             "linecolor": "white",
             "minorgridcolor": "white",
             "startlinecolor": "#2a3f5f"
            },
            "type": "carpet"
           }
          ],
          "choropleth": [
           {
            "colorbar": {
             "outlinewidth": 0,
             "ticks": ""
            },
            "type": "choropleth"
           }
          ],
          "contour": [
           {
            "colorbar": {
             "outlinewidth": 0,
             "ticks": ""
            },
            "colorscale": [
             [
              0,
              "#0d0887"
             ],
             [
              0.1111111111111111,
              "#46039f"
             ],
             [
              0.2222222222222222,
              "#7201a8"
             ],
             [
              0.3333333333333333,
              "#9c179e"
             ],
             [
              0.4444444444444444,
              "#bd3786"
             ],
             [
              0.5555555555555556,
              "#d8576b"
             ],
             [
              0.6666666666666666,
              "#ed7953"
             ],
             [
              0.7777777777777778,
              "#fb9f3a"
             ],
             [
              0.8888888888888888,
              "#fdca26"
             ],
             [
              1,
              "#f0f921"
             ]
            ],
            "type": "contour"
           }
          ],
          "contourcarpet": [
           {
            "colorbar": {
             "outlinewidth": 0,
             "ticks": ""
            },
            "type": "contourcarpet"
           }
          ],
          "heatmap": [
           {
            "colorbar": {
             "outlinewidth": 0,
             "ticks": ""
            },
            "colorscale": [
             [
              0,
              "#0d0887"
             ],
             [
              0.1111111111111111,
              "#46039f"
             ],
             [
              0.2222222222222222,
              "#7201a8"
             ],
             [
              0.3333333333333333,
              "#9c179e"
             ],
             [
              0.4444444444444444,
              "#bd3786"
             ],
             [
              0.5555555555555556,
              "#d8576b"
             ],
             [
              0.6666666666666666,
              "#ed7953"
             ],
             [
              0.7777777777777778,
              "#fb9f3a"
             ],
             [
              0.8888888888888888,
              "#fdca26"
             ],
             [
              1,
              "#f0f921"
             ]
            ],
            "type": "heatmap"
           }
          ],
          "heatmapgl": [
           {
            "colorbar": {
             "outlinewidth": 0,
             "ticks": ""
            },
            "colorscale": [
             [
              0,
              "#0d0887"
             ],
             [
              0.1111111111111111,
              "#46039f"
             ],
             [
              0.2222222222222222,
              "#7201a8"
             ],
             [
              0.3333333333333333,
              "#9c179e"
             ],
             [
              0.4444444444444444,
              "#bd3786"
             ],
             [
              0.5555555555555556,
              "#d8576b"
             ],
             [
              0.6666666666666666,
              "#ed7953"
             ],
             [
              0.7777777777777778,
              "#fb9f3a"
             ],
             [
              0.8888888888888888,
              "#fdca26"
             ],
             [
              1,
              "#f0f921"
             ]
            ],
            "type": "heatmapgl"
           }
          ],
          "histogram": [
           {
            "marker": {
             "pattern": {
              "fillmode": "overlay",
              "size": 10,
              "solidity": 0.2
             }
            },
            "type": "histogram"
           }
          ],
          "histogram2d": [
           {
            "colorbar": {
             "outlinewidth": 0,
             "ticks": ""
            },
            "colorscale": [
             [
              0,
              "#0d0887"
             ],
             [
              0.1111111111111111,
              "#46039f"
             ],
             [
              0.2222222222222222,
              "#7201a8"
             ],
             [
              0.3333333333333333,
              "#9c179e"
             ],
             [
              0.4444444444444444,
              "#bd3786"
             ],
             [
              0.5555555555555556,
              "#d8576b"
             ],
             [
              0.6666666666666666,
              "#ed7953"
             ],
             [
              0.7777777777777778,
              "#fb9f3a"
             ],
             [
              0.8888888888888888,
              "#fdca26"
             ],
             [
              1,
              "#f0f921"
             ]
            ],
            "type": "histogram2d"
           }
          ],
          "histogram2dcontour": [
           {
            "colorbar": {
             "outlinewidth": 0,
             "ticks": ""
            },
            "colorscale": [
             [
              0,
              "#0d0887"
             ],
             [
              0.1111111111111111,
              "#46039f"
             ],
             [
              0.2222222222222222,
              "#7201a8"
             ],
             [
              0.3333333333333333,
              "#9c179e"
             ],
             [
              0.4444444444444444,
              "#bd3786"
             ],
             [
              0.5555555555555556,
              "#d8576b"
             ],
             [
              0.6666666666666666,
              "#ed7953"
             ],
             [
              0.7777777777777778,
              "#fb9f3a"
             ],
             [
              0.8888888888888888,
              "#fdca26"
             ],
             [
              1,
              "#f0f921"
             ]
            ],
            "type": "histogram2dcontour"
           }
          ],
          "mesh3d": [
           {
            "colorbar": {
             "outlinewidth": 0,
             "ticks": ""
            },
            "type": "mesh3d"
           }
          ],
          "parcoords": [
           {
            "line": {
             "colorbar": {
              "outlinewidth": 0,
              "ticks": ""
             }
            },
            "type": "parcoords"
           }
          ],
          "pie": [
           {
            "automargin": true,
            "type": "pie"
           }
          ],
          "scatter": [
           {
            "fillpattern": {
             "fillmode": "overlay",
             "size": 10,
             "solidity": 0.2
            },
            "type": "scatter"
           }
          ],
          "scatter3d": [
           {
            "line": {
             "colorbar": {
              "outlinewidth": 0,
              "ticks": ""
             }
            },
            "marker": {
             "colorbar": {
              "outlinewidth": 0,
              "ticks": ""
             }
            },
            "type": "scatter3d"
           }
          ],
          "scattercarpet": [
           {
            "marker": {
             "colorbar": {
              "outlinewidth": 0,
              "ticks": ""
             }
            },
            "type": "scattercarpet"
           }
          ],
          "scattergeo": [
           {
            "marker": {
             "colorbar": {
              "outlinewidth": 0,
              "ticks": ""
             }
            },
            "type": "scattergeo"
           }
          ],
          "scattergl": [
           {
            "marker": {
             "colorbar": {
              "outlinewidth": 0,
              "ticks": ""
             }
            },
            "type": "scattergl"
           }
          ],
          "scattermapbox": [
           {
            "marker": {
             "colorbar": {
              "outlinewidth": 0,
              "ticks": ""
             }
            },
            "type": "scattermapbox"
           }
          ],
          "scatterpolar": [
           {
            "marker": {
             "colorbar": {
              "outlinewidth": 0,
              "ticks": ""
             }
            },
            "type": "scatterpolar"
           }
          ],
          "scatterpolargl": [
           {
            "marker": {
             "colorbar": {
              "outlinewidth": 0,
              "ticks": ""
             }
            },
            "type": "scatterpolargl"
           }
          ],
          "scatterternary": [
           {
            "marker": {
             "colorbar": {
              "outlinewidth": 0,
              "ticks": ""
             }
            },
            "type": "scatterternary"
           }
          ],
          "surface": [
           {
            "colorbar": {
             "outlinewidth": 0,
             "ticks": ""
            },
            "colorscale": [
             [
              0,
              "#0d0887"
             ],
             [
              0.1111111111111111,
              "#46039f"
             ],
             [
              0.2222222222222222,
              "#7201a8"
             ],
             [
              0.3333333333333333,
              "#9c179e"
             ],
             [
              0.4444444444444444,
              "#bd3786"
             ],
             [
              0.5555555555555556,
              "#d8576b"
             ],
             [
              0.6666666666666666,
              "#ed7953"
             ],
             [
              0.7777777777777778,
              "#fb9f3a"
             ],
             [
              0.8888888888888888,
              "#fdca26"
             ],
             [
              1,
              "#f0f921"
             ]
            ],
            "type": "surface"
           }
          ],
          "table": [
           {
            "cells": {
             "fill": {
              "color": "#EBF0F8"
             },
             "line": {
              "color": "white"
             }
            },
            "header": {
             "fill": {
              "color": "#C8D4E3"
             },
             "line": {
              "color": "white"
             }
            },
            "type": "table"
           }
          ]
         },
         "layout": {
          "annotationdefaults": {
           "arrowcolor": "#2a3f5f",
           "arrowhead": 0,
           "arrowwidth": 1
          },
          "autotypenumbers": "strict",
          "coloraxis": {
           "colorbar": {
            "outlinewidth": 0,
            "ticks": ""
           }
          },
          "colorscale": {
           "diverging": [
            [
             0,
             "#8e0152"
            ],
            [
             0.1,
             "#c51b7d"
            ],
            [
             0.2,
             "#de77ae"
            ],
            [
             0.3,
             "#f1b6da"
            ],
            [
             0.4,
             "#fde0ef"
            ],
            [
             0.5,
             "#f7f7f7"
            ],
            [
             0.6,
             "#e6f5d0"
            ],
            [
             0.7,
             "#b8e186"
            ],
            [
             0.8,
             "#7fbc41"
            ],
            [
             0.9,
             "#4d9221"
            ],
            [
             1,
             "#276419"
            ]
           ],
           "sequential": [
            [
             0,
             "#0d0887"
            ],
            [
             0.1111111111111111,
             "#46039f"
            ],
            [
             0.2222222222222222,
             "#7201a8"
            ],
            [
             0.3333333333333333,
             "#9c179e"
            ],
            [
             0.4444444444444444,
             "#bd3786"
            ],
            [
             0.5555555555555556,
             "#d8576b"
            ],
            [
             0.6666666666666666,
             "#ed7953"
            ],
            [
             0.7777777777777778,
             "#fb9f3a"
            ],
            [
             0.8888888888888888,
             "#fdca26"
            ],
            [
             1,
             "#f0f921"
            ]
           ],
           "sequentialminus": [
            [
             0,
             "#0d0887"
            ],
            [
             0.1111111111111111,
             "#46039f"
            ],
            [
             0.2222222222222222,
             "#7201a8"
            ],
            [
             0.3333333333333333,
             "#9c179e"
            ],
            [
             0.4444444444444444,
             "#bd3786"
            ],
            [
             0.5555555555555556,
             "#d8576b"
            ],
            [
             0.6666666666666666,
             "#ed7953"
            ],
            [
             0.7777777777777778,
             "#fb9f3a"
            ],
            [
             0.8888888888888888,
             "#fdca26"
            ],
            [
             1,
             "#f0f921"
            ]
           ]
          },
          "colorway": [
           "#636efa",
           "#EF553B",
           "#00cc96",
           "#ab63fa",
           "#FFA15A",
           "#19d3f3",
           "#FF6692",
           "#B6E880",
           "#FF97FF",
           "#FECB52"
          ],
          "font": {
           "color": "#2a3f5f"
          },
          "geo": {
           "bgcolor": "white",
           "lakecolor": "white",
           "landcolor": "#E5ECF6",
           "showlakes": true,
           "showland": true,
           "subunitcolor": "white"
          },
          "hoverlabel": {
           "align": "left"
          },
          "hovermode": "closest",
          "mapbox": {
           "style": "light"
          },
          "paper_bgcolor": "white",
          "plot_bgcolor": "#E5ECF6",
          "polar": {
           "angularaxis": {
            "gridcolor": "white",
            "linecolor": "white",
            "ticks": ""
           },
           "bgcolor": "#E5ECF6",
           "radialaxis": {
            "gridcolor": "white",
            "linecolor": "white",
            "ticks": ""
           }
          },
          "scene": {
           "xaxis": {
            "backgroundcolor": "#E5ECF6",
            "gridcolor": "white",
            "gridwidth": 2,
            "linecolor": "white",
            "showbackground": true,
            "ticks": "",
            "zerolinecolor": "white"
           },
           "yaxis": {
            "backgroundcolor": "#E5ECF6",
            "gridcolor": "white",
            "gridwidth": 2,
            "linecolor": "white",
            "showbackground": true,
            "ticks": "",
            "zerolinecolor": "white"
           },
           "zaxis": {
            "backgroundcolor": "#E5ECF6",
            "gridcolor": "white",
            "gridwidth": 2,
            "linecolor": "white",
            "showbackground": true,
            "ticks": "",
            "zerolinecolor": "white"
           }
          },
          "shapedefaults": {
           "line": {
            "color": "#2a3f5f"
           }
          },
          "ternary": {
           "aaxis": {
            "gridcolor": "white",
            "linecolor": "white",
            "ticks": ""
           },
           "baxis": {
            "gridcolor": "white",
            "linecolor": "white",
            "ticks": ""
           },
           "bgcolor": "#E5ECF6",
           "caxis": {
            "gridcolor": "white",
            "linecolor": "white",
            "ticks": ""
           }
          },
          "title": {
           "x": 0.05
          },
          "xaxis": {
           "automargin": true,
           "gridcolor": "white",
           "linecolor": "white",
           "ticks": "",
           "title": {
            "standoff": 15
           },
           "zerolinecolor": "white",
           "zerolinewidth": 2
          },
          "yaxis": {
           "automargin": true,
           "gridcolor": "white",
           "linecolor": "white",
           "ticks": "",
           "title": {
            "standoff": 15
           },
           "zerolinecolor": "white",
           "zerolinewidth": 2
          }
         }
        },
        "title": {
         "text": "Standard vs. Average Rate Caplet Prices"
        },
        "width": 800,
        "xaxis": {
         "title": {
          "text": "Strike Rate (%)"
         }
        },
        "yaxis": {
         "title": {
          "text": "Caplet Price"
         }
        }
       }
      }
     },
     "metadata": {},
     "output_type": "display_data"
    },
    {
     "data": {
      "application/vnd.plotly.v1+json": {
       "config": {
        "plotlyServerURL": "https://plot.ly"
       },
       "data": [
        {
         "line": {
          "color": "green",
          "width": 2
         },
         "mode": "lines",
         "type": "scatter",
         "x": [
          1,
          1.103448275862069,
          1.206896551724138,
          1.3103448275862069,
          1.413793103448276,
          1.5172413793103448,
          1.6206896551724137,
          1.7241379310344827,
          1.8275862068965518,
          1.9310344827586208,
          2.03448275862069,
          2.137931034482759,
          2.241379310344828,
          2.344827586206897,
          2.4482758620689657,
          2.5517241379310343,
          2.655172413793103,
          2.7586206896551726,
          2.8620689655172415,
          2.9655172413793105,
          3.0689655172413794,
          3.1724137931034484,
          3.2758620689655173,
          3.3793103448275867,
          3.4827586206896557,
          3.5862068965517238,
          3.689655172413793,
          3.793103448275862,
          3.896551724137931,
          4
         ],
         "y": [
          0.9992022003596137,
          0.9980856781466478,
          0.9956317650194879,
          0.9905321730977784,
          0.9805558083253835,
          0.9622909315159742,
          0.9312018423368383,
          0.882321388126613,
          0.8117358520720704,
          0.7185515365100338,
          0.6064748913993553,
          0.48396025232647644,
          0.36242854485402126,
          0.25312581494900177,
          0.1640364524325206,
          0.09823647698454327,
          0.05419402255158339,
          0.02747267655054311,
          0.012772877937211397,
          0.00543839043414829,
          0.002118100280652563,
          0.000753926505297409,
          0.0002450839118859453,
          0.00007272203751338622,
          0.00001968769937625073,
          0.0000048613009517362666,
          0.0000010945094944209087,
          2.2464681966710535e-7,
          4.202592301264791e-8,
          7.164855584353161e-9
         ]
        }
       ],
       "layout": {
        "height": 500,
        "template": {
         "data": {
          "bar": [
           {
            "error_x": {
             "color": "#2a3f5f"
            },
            "error_y": {
             "color": "#2a3f5f"
            },
            "marker": {
             "line": {
              "color": "#E5ECF6",
              "width": 0.5
             },
             "pattern": {
              "fillmode": "overlay",
              "size": 10,
              "solidity": 0.2
             }
            },
            "type": "bar"
           }
          ],
          "barpolar": [
           {
            "marker": {
             "line": {
              "color": "#E5ECF6",
              "width": 0.5
             },
             "pattern": {
              "fillmode": "overlay",
              "size": 10,
              "solidity": 0.2
             }
            },
            "type": "barpolar"
           }
          ],
          "carpet": [
           {
            "aaxis": {
             "endlinecolor": "#2a3f5f",
             "gridcolor": "white",
             "linecolor": "white",
             "minorgridcolor": "white",
             "startlinecolor": "#2a3f5f"
            },
            "baxis": {
             "endlinecolor": "#2a3f5f",
             "gridcolor": "white",
             "linecolor": "white",
             "minorgridcolor": "white",
             "startlinecolor": "#2a3f5f"
            },
            "type": "carpet"
           }
          ],
          "choropleth": [
           {
            "colorbar": {
             "outlinewidth": 0,
             "ticks": ""
            },
            "type": "choropleth"
           }
          ],
          "contour": [
           {
            "colorbar": {
             "outlinewidth": 0,
             "ticks": ""
            },
            "colorscale": [
             [
              0,
              "#0d0887"
             ],
             [
              0.1111111111111111,
              "#46039f"
             ],
             [
              0.2222222222222222,
              "#7201a8"
             ],
             [
              0.3333333333333333,
              "#9c179e"
             ],
             [
              0.4444444444444444,
              "#bd3786"
             ],
             [
              0.5555555555555556,
              "#d8576b"
             ],
             [
              0.6666666666666666,
              "#ed7953"
             ],
             [
              0.7777777777777778,
              "#fb9f3a"
             ],
             [
              0.8888888888888888,
              "#fdca26"
             ],
             [
              1,
              "#f0f921"
             ]
            ],
            "type": "contour"
           }
          ],
          "contourcarpet": [
           {
            "colorbar": {
             "outlinewidth": 0,
             "ticks": ""
            },
            "type": "contourcarpet"
           }
          ],
          "heatmap": [
           {
            "colorbar": {
             "outlinewidth": 0,
             "ticks": ""
            },
            "colorscale": [
             [
              0,
              "#0d0887"
             ],
             [
              0.1111111111111111,
              "#46039f"
             ],
             [
              0.2222222222222222,
              "#7201a8"
             ],
             [
              0.3333333333333333,
              "#9c179e"
             ],
             [
              0.4444444444444444,
              "#bd3786"
             ],
             [
              0.5555555555555556,
              "#d8576b"
             ],
             [
              0.6666666666666666,
              "#ed7953"
             ],
             [
              0.7777777777777778,
              "#fb9f3a"
             ],
             [
              0.8888888888888888,
              "#fdca26"
             ],
             [
              1,
              "#f0f921"
             ]
            ],
            "type": "heatmap"
           }
          ],
          "heatmapgl": [
           {
            "colorbar": {
             "outlinewidth": 0,
             "ticks": ""
            },
            "colorscale": [
             [
              0,
              "#0d0887"
             ],
             [
              0.1111111111111111,
              "#46039f"
             ],
             [
              0.2222222222222222,
              "#7201a8"
             ],
             [
              0.3333333333333333,
              "#9c179e"
             ],
             [
              0.4444444444444444,
              "#bd3786"
             ],
             [
              0.5555555555555556,
              "#d8576b"
             ],
             [
              0.6666666666666666,
              "#ed7953"
             ],
             [
              0.7777777777777778,
              "#fb9f3a"
             ],
             [
              0.8888888888888888,
              "#fdca26"
             ],
             [
              1,
              "#f0f921"
             ]
            ],
            "type": "heatmapgl"
           }
          ],
          "histogram": [
           {
            "marker": {
             "pattern": {
              "fillmode": "overlay",
              "size": 10,
              "solidity": 0.2
             }
            },
            "type": "histogram"
           }
          ],
          "histogram2d": [
           {
            "colorbar": {
             "outlinewidth": 0,
             "ticks": ""
            },
            "colorscale": [
             [
              0,
              "#0d0887"
             ],
             [
              0.1111111111111111,
              "#46039f"
             ],
             [
              0.2222222222222222,
              "#7201a8"
             ],
             [
              0.3333333333333333,
              "#9c179e"
             ],
             [
              0.4444444444444444,
              "#bd3786"
             ],
             [
              0.5555555555555556,
              "#d8576b"
             ],
             [
              0.6666666666666666,
              "#ed7953"
             ],
             [
              0.7777777777777778,
              "#fb9f3a"
             ],
             [
              0.8888888888888888,
              "#fdca26"
             ],
             [
              1,
              "#f0f921"
             ]
            ],
            "type": "histogram2d"
           }
          ],
          "histogram2dcontour": [
           {
            "colorbar": {
             "outlinewidth": 0,
             "ticks": ""
            },
            "colorscale": [
             [
              0,
              "#0d0887"
             ],
             [
              0.1111111111111111,
              "#46039f"
             ],
             [
              0.2222222222222222,
              "#7201a8"
             ],
             [
              0.3333333333333333,
              "#9c179e"
             ],
             [
              0.4444444444444444,
              "#bd3786"
             ],
             [
              0.5555555555555556,
              "#d8576b"
             ],
             [
              0.6666666666666666,
              "#ed7953"
             ],
             [
              0.7777777777777778,
              "#fb9f3a"
             ],
             [
              0.8888888888888888,
              "#fdca26"
             ],
             [
              1,
              "#f0f921"
             ]
            ],
            "type": "histogram2dcontour"
           }
          ],
          "mesh3d": [
           {
            "colorbar": {
             "outlinewidth": 0,
             "ticks": ""
            },
            "type": "mesh3d"
           }
          ],
          "parcoords": [
           {
            "line": {
             "colorbar": {
              "outlinewidth": 0,
              "ticks": ""
             }
            },
            "type": "parcoords"
           }
          ],
          "pie": [
           {
            "automargin": true,
            "type": "pie"
           }
          ],
          "scatter": [
           {
            "fillpattern": {
             "fillmode": "overlay",
             "size": 10,
             "solidity": 0.2
            },
            "type": "scatter"
           }
          ],
          "scatter3d": [
           {
            "line": {
             "colorbar": {
              "outlinewidth": 0,
              "ticks": ""
             }
            },
            "marker": {
             "colorbar": {
              "outlinewidth": 0,
              "ticks": ""
             }
            },
            "type": "scatter3d"
           }
          ],
          "scattercarpet": [
           {
            "marker": {
             "colorbar": {
              "outlinewidth": 0,
              "ticks": ""
             }
            },
            "type": "scattercarpet"
           }
          ],
          "scattergeo": [
           {
            "marker": {
             "colorbar": {
              "outlinewidth": 0,
              "ticks": ""
             }
            },
            "type": "scattergeo"
           }
          ],
          "scattergl": [
           {
            "marker": {
             "colorbar": {
              "outlinewidth": 0,
              "ticks": ""
             }
            },
            "type": "scattergl"
           }
          ],
          "scattermapbox": [
           {
            "marker": {
             "colorbar": {
              "outlinewidth": 0,
              "ticks": ""
             }
            },
            "type": "scattermapbox"
           }
          ],
          "scatterpolar": [
           {
            "marker": {
             "colorbar": {
              "outlinewidth": 0,
              "ticks": ""
             }
            },
            "type": "scatterpolar"
           }
          ],
          "scatterpolargl": [
           {
            "marker": {
             "colorbar": {
              "outlinewidth": 0,
              "ticks": ""
             }
            },
            "type": "scatterpolargl"
           }
          ],
          "scatterternary": [
           {
            "marker": {
             "colorbar": {
              "outlinewidth": 0,
              "ticks": ""
             }
            },
            "type": "scatterternary"
           }
          ],
          "surface": [
           {
            "colorbar": {
             "outlinewidth": 0,
             "ticks": ""
            },
            "colorscale": [
             [
              0,
              "#0d0887"
             ],
             [
              0.1111111111111111,
              "#46039f"
             ],
             [
              0.2222222222222222,
              "#7201a8"
             ],
             [
              0.3333333333333333,
              "#9c179e"
             ],
             [
              0.4444444444444444,
              "#bd3786"
             ],
             [
              0.5555555555555556,
              "#d8576b"
             ],
             [
              0.6666666666666666,
              "#ed7953"
             ],
             [
              0.7777777777777778,
              "#fb9f3a"
             ],
             [
              0.8888888888888888,
              "#fdca26"
             ],
             [
              1,
              "#f0f921"
             ]
            ],
            "type": "surface"
           }
          ],
          "table": [
           {
            "cells": {
             "fill": {
              "color": "#EBF0F8"
             },
             "line": {
              "color": "white"
             }
            },
            "header": {
             "fill": {
              "color": "#C8D4E3"
             },
             "line": {
              "color": "white"
             }
            },
            "type": "table"
           }
          ]
         },
         "layout": {
          "annotationdefaults": {
           "arrowcolor": "#2a3f5f",
           "arrowhead": 0,
           "arrowwidth": 1
          },
          "autotypenumbers": "strict",
          "coloraxis": {
           "colorbar": {
            "outlinewidth": 0,
            "ticks": ""
           }
          },
          "colorscale": {
           "diverging": [
            [
             0,
             "#8e0152"
            ],
            [
             0.1,
             "#c51b7d"
            ],
            [
             0.2,
             "#de77ae"
            ],
            [
             0.3,
             "#f1b6da"
            ],
            [
             0.4,
             "#fde0ef"
            ],
            [
             0.5,
             "#f7f7f7"
            ],
            [
             0.6,
             "#e6f5d0"
            ],
            [
             0.7,
             "#b8e186"
            ],
            [
             0.8,
             "#7fbc41"
            ],
            [
             0.9,
             "#4d9221"
            ],
            [
             1,
             "#276419"
            ]
           ],
           "sequential": [
            [
             0,
             "#0d0887"
            ],
            [
             0.1111111111111111,
             "#46039f"
            ],
            [
             0.2222222222222222,
             "#7201a8"
            ],
            [
             0.3333333333333333,
             "#9c179e"
            ],
            [
             0.4444444444444444,
             "#bd3786"
            ],
            [
             0.5555555555555556,
             "#d8576b"
            ],
            [
             0.6666666666666666,
             "#ed7953"
            ],
            [
             0.7777777777777778,
             "#fb9f3a"
            ],
            [
             0.8888888888888888,
             "#fdca26"
            ],
            [
             1,
             "#f0f921"
            ]
           ],
           "sequentialminus": [
            [
             0,
             "#0d0887"
            ],
            [
             0.1111111111111111,
             "#46039f"
            ],
            [
             0.2222222222222222,
             "#7201a8"
            ],
            [
             0.3333333333333333,
             "#9c179e"
            ],
            [
             0.4444444444444444,
             "#bd3786"
            ],
            [
             0.5555555555555556,
             "#d8576b"
            ],
            [
             0.6666666666666666,
             "#ed7953"
            ],
            [
             0.7777777777777778,
             "#fb9f3a"
            ],
            [
             0.8888888888888888,
             "#fdca26"
            ],
            [
             1,
             "#f0f921"
            ]
           ]
          },
          "colorway": [
           "#636efa",
           "#EF553B",
           "#00cc96",
           "#ab63fa",
           "#FFA15A",
           "#19d3f3",
           "#FF6692",
           "#B6E880",
           "#FF97FF",
           "#FECB52"
          ],
          "font": {
           "color": "#2a3f5f"
          },
          "geo": {
           "bgcolor": "white",
           "lakecolor": "white",
           "landcolor": "#E5ECF6",
           "showlakes": true,
           "showland": true,
           "subunitcolor": "white"
          },
          "hoverlabel": {
           "align": "left"
          },
          "hovermode": "closest",
          "mapbox": {
           "style": "light"
          },
          "paper_bgcolor": "white",
          "plot_bgcolor": "#E5ECF6",
          "polar": {
           "angularaxis": {
            "gridcolor": "white",
            "linecolor": "white",
            "ticks": ""
           },
           "bgcolor": "#E5ECF6",
           "radialaxis": {
            "gridcolor": "white",
            "linecolor": "white",
            "ticks": ""
           }
          },
          "scene": {
           "xaxis": {
            "backgroundcolor": "#E5ECF6",
            "gridcolor": "white",
            "gridwidth": 2,
            "linecolor": "white",
            "showbackground": true,
            "ticks": "",
            "zerolinecolor": "white"
           },
           "yaxis": {
            "backgroundcolor": "#E5ECF6",
            "gridcolor": "white",
            "gridwidth": 2,
            "linecolor": "white",
            "showbackground": true,
            "ticks": "",
            "zerolinecolor": "white"
           },
           "zaxis": {
            "backgroundcolor": "#E5ECF6",
            "gridcolor": "white",
            "gridwidth": 2,
            "linecolor": "white",
            "showbackground": true,
            "ticks": "",
            "zerolinecolor": "white"
           }
          },
          "shapedefaults": {
           "line": {
            "color": "#2a3f5f"
           }
          },
          "ternary": {
           "aaxis": {
            "gridcolor": "white",
            "linecolor": "white",
            "ticks": ""
           },
           "baxis": {
            "gridcolor": "white",
            "linecolor": "white",
            "ticks": ""
           },
           "bgcolor": "#E5ECF6",
           "caxis": {
            "gridcolor": "white",
            "linecolor": "white",
            "ticks": ""
           }
          },
          "title": {
           "x": 0.05
          },
          "xaxis": {
           "automargin": true,
           "gridcolor": "white",
           "linecolor": "white",
           "ticks": "",
           "title": {
            "standoff": 15
           },
           "zerolinecolor": "white",
           "zerolinewidth": 2
          },
          "yaxis": {
           "automargin": true,
           "gridcolor": "white",
           "linecolor": "white",
           "ticks": "",
           "title": {
            "standoff": 15
           },
           "zerolinecolor": "white",
           "zerolinewidth": 2
          }
         }
        },
        "title": {
         "text": "Ratio of Average Rate to Standard Caplet Price"
        },
        "width": 800,
        "xaxis": {
         "title": {
          "text": "Strike Rate (%)"
         }
        },
        "yaxis": {
         "title": {
          "text": "Price Ratio"
         }
        }
       }
      }
     },
     "metadata": {},
     "output_type": "display_data"
    }
   ],
   "source": [
    "def standard_caplet_price_analytical(F, K, sigma, T1, tau, discount_factor, notional=1.0):\n",
    "    \"\"\"Calculate the standard caplet price using the Bachelier analytical formula.\n",
    "    \n",
    "    Args:\n",
    "        F: Forward rate at time 0 for the period [T1, T2]\n",
    "        K: Strike rate\n",
    "        sigma: Volatility\n",
    "        T1: Time to rate fixing\n",
    "        tau: Year fraction between T1 and T2 (typically T2 - T1)\n",
    "        discount_factor: Discount factor P(0, T2)\n",
    "        notional: Notional amount (default=1.0)\n",
    "    \n",
    "    Returns:\n",
    "        Caplet price\n",
    "    \"\"\"\n",
    "    # For standard caplet, variance is just sigma^2 * T1\n",
    "    sigma_spot = sigma * np.sqrt(T1)\n",
    "    \n",
    "    d = (F - K) / sigma_spot if sigma_spot > 0 else float('inf')\n",
    "    \n",
    "    normal_cdf = norm.cdf(d)\n",
    "    normal_pdf = norm.pdf(d)\n",
    "    \n",
    "    # Bachelier formula\n",
    "    price = discount_factor * notional * tau * (\n",
    "        (F - K) * normal_cdf + sigma_spot * normal_pdf\n",
    "    )\n",
    "    \n",
    "    return price\n",
    "\n",
    "# Compare standard and average rate caplets across different strike rates\n",
    "strike_rates = np.linspace(0.01, 0.04, 30)  # 1% to 4%\n",
    "prices_standard = []\n",
    "prices_avg_rate = []\n",
    "\n",
    "for K in strike_rates:\n",
    "    prices_standard.append(standard_caplet_price_analytical(\n",
    "        F, K, sigma, T1, tau, discount_factor, notional\n",
    "    ))\n",
    "    prices_avg_rate.append(average_rate_caplet_price_analytical(\n",
    "        F, K, sigma, T1, T2, discount_factor, notional\n",
    "    ))\n",
    "\n",
    "# Create plot\n",
    "fig = go.Figure()\n",
    "fig.add_trace(go.Scatter(\n",
    "    x=strike_rates * 100,  # Convert to percentage\n",
    "    y=prices_standard,\n",
    "    mode='lines',\n",
    "    name='Standard Caplet',\n",
    "    line=dict(color='blue', width=2)\n",
    "))\n",
    "\n",
    "fig.add_trace(go.Scatter(\n",
    "    x=strike_rates * 100,  # Convert to percentage\n",
    "    y=prices_avg_rate,\n",
    "    mode='lines',\n",
    "    name='Average Rate Caplet',\n",
    "    line=dict(color='red', width=2)\n",
    "))\n",
    "\n",
    "fig.update_layout(\n",
    "    title=\"Standard vs. Average Rate Caplet Prices\",\n",
    "    xaxis_title=\"Strike Rate (%)\",\n",
    "    yaxis_title=\"Caplet Price\",\n",
    "    width=800,\n",
    "    height=500,\n",
    "    legend=dict(x=0.7, y=0.9)\n",
    ")\n",
    "\n",
    "fig.show()\n",
    "\n",
    "# Calculate and display price ratio\n",
    "price_ratio = np.array(prices_avg_rate) / np.array(prices_standard)\n",
    "\n",
    "fig = go.Figure()\n",
    "fig.add_trace(go.Scatter(\n",
    "    x=strike_rates * 100,\n",
    "    y=price_ratio,\n",
    "    mode='lines',\n",
    "    line=dict(color='green', width=2)\n",
    "))\n",
    "\n",
    "fig.update_layout(\n",
    "    title=\"Ratio of Average Rate to Standard Caplet Price\",\n",
    "    xaxis_title=\"Strike Rate (%)\",\n",
    "    yaxis_title=\"Price Ratio\",\n",
    "    width=800,\n",
    "    height=500\n",
    ")\n",
    "\n",
    "fig.show()"
   ]
  },
  {
   "cell_type": "markdown",
   "id": "667ab05f",
   "metadata": {},
   "source": [
    "## 7. Using Project's Bachelier Model Implementation\n",
    "\n",
    "Now let's leverage the project's existing Bachelier model implementation with Gauss-Laguerre quadrature for average rate caplet pricing."
   ]
  },
  {
   "cell_type": "code",
   "execution_count": 9,
   "id": "482a933f",
   "metadata": {},
   "outputs": [
    {
     "ename": "TracerBoolConversionError",
     "evalue": "Attempted boolean conversion of traced array with shape bool[].\nThe error occurred while tracing the function bachelier_caplet_price_laguerre at d:\\Personal\\Education\\MSc - PHDs\\MIPT\\Final paper\\Code\\Gaussian_Quadrature\\src\\gaussian_quadrature\\models\\bachelier.py:39 for jit. This concrete value was not available in Python because it depends on the value of the argument n_points.\nSee https://jax.readthedocs.io/en/latest/errors.html#jax.errors.TracerBoolConversionError",
     "output_type": "error",
     "traceback": [
      "\u001b[1;31m---------------------------------------------------------------------------\u001b[0m",
      "\u001b[1;31mTracerBoolConversionError\u001b[0m                 Traceback (most recent call last)",
      "Cell \u001b[1;32mIn[9], line 27\u001b[0m\n\u001b[0;32m     24\u001b[0m     \u001b[38;5;28;01mreturn\u001b[39;00m bach\u001b[38;5;241m.\u001b[39mbachelier_caplet_price_laguerre(tau, K, Rt, sigma_avg, PtT, n_points)\n\u001b[0;32m     26\u001b[0m \u001b[38;5;66;03m# Test with our parameters\u001b[39;00m\n\u001b[1;32m---> 27\u001b[0m price_project \u001b[38;5;241m=\u001b[39m average_rate_caplet_price_project(\n\u001b[0;32m     28\u001b[0m     tau, K, F, sigma, discount_factor, T1, T2, n_points\u001b[38;5;241m=\u001b[39m\u001b[38;5;241m20\u001b[39m\n\u001b[0;32m     29\u001b[0m )\n\u001b[0;32m     31\u001b[0m \u001b[38;5;28mprint\u001b[39m(\u001b[38;5;124mf\u001b[39m\u001b[38;5;124m\"\u001b[39m\u001b[38;5;124mAverage Rate Caplet Price (Project Implementation): \u001b[39m\u001b[38;5;132;01m{\u001b[39;00mprice_project\u001b[38;5;132;01m}\u001b[39;00m\u001b[38;5;124m\"\u001b[39m)\n\u001b[0;32m     32\u001b[0m \u001b[38;5;28mprint\u001b[39m(\u001b[38;5;124mf\u001b[39m\u001b[38;5;124m\"\u001b[39m\u001b[38;5;124mAverage Rate Caplet Price (Our Implementation): \u001b[39m\u001b[38;5;132;01m{\u001b[39;00mprices_avg_rate[\u001b[38;5;241m15\u001b[39m]\u001b[38;5;132;01m:\u001b[39;00m\u001b[38;5;124m.2f\u001b[39m\u001b[38;5;132;01m}\u001b[39;00m\u001b[38;5;124m\"\u001b[39m)\n",
      "Cell \u001b[1;32mIn[9], line 24\u001b[0m, in \u001b[0;36maverage_rate_caplet_price_project\u001b[1;34m(tau, K, Rt, sigma, PtT, T1, T2, n_points)\u001b[0m\n\u001b[0;32m     21\u001b[0m sigma_avg \u001b[38;5;241m=\u001b[39m np\u001b[38;5;241m.\u001b[39msqrt(var_avg)\n\u001b[0;32m     23\u001b[0m \u001b[38;5;66;03m# Use the existing bachelier_caplet_price_laguerre but with adjusted volatility\u001b[39;00m\n\u001b[1;32m---> 24\u001b[0m \u001b[38;5;28;01mreturn\u001b[39;00m bach\u001b[38;5;241m.\u001b[39mbachelier_caplet_price_laguerre(tau, K, Rt, sigma_avg, PtT, n_points)\n",
      "    \u001b[1;31m[... skipping hidden 11 frame]\u001b[0m\n",
      "File \u001b[1;32md:\\Personal\\Education\\MSc - PHDs\\MIPT\\Final paper\\Code\\Gaussian_Quadrature\\src\\gaussian_quadrature\\models\\bachelier.py:62\u001b[0m, in \u001b[0;36mbachelier_caplet_price_laguerre\u001b[1;34m(tau, K, Rt, v, PtT, n_points)\u001b[0m\n\u001b[0;32m     59\u001b[0m \u001b[38;5;28;01mfrom\u001b[39;00m \u001b[38;5;21;01m.\u001b[39;00m\u001b[38;5;21;01m.\u001b[39;00m\u001b[38;5;21;01mutils\u001b[39;00m\u001b[38;5;21;01m.\u001b[39;00m\u001b[38;5;21;01mquadrature\u001b[39;00m \u001b[38;5;28;01mimport\u001b[39;00m generalized_laguerre_quadrature\n\u001b[0;32m     61\u001b[0m \u001b[38;5;66;03m# Use alpha=1 for better convergence with caplet payoff structure\u001b[39;00m\n\u001b[1;32m---> 62\u001b[0m caplet_value \u001b[38;5;241m=\u001b[39m generalized_laguerre_quadrature(\n\u001b[0;32m     63\u001b[0m     \u001b[38;5;28;01mlambda\u001b[39;00m x: f(x, tau, K, Rt, v, PtT), \n\u001b[0;32m     64\u001b[0m     n_points\u001b[38;5;241m=\u001b[39mn_points,\n\u001b[0;32m     65\u001b[0m     alpha\u001b[38;5;241m=\u001b[39m\u001b[38;5;241m1.0\u001b[39m\n\u001b[0;32m     66\u001b[0m )\n\u001b[0;32m     68\u001b[0m \u001b[38;5;28;01mreturn\u001b[39;00m jnp\u001b[38;5;241m.\u001b[39mmaximum(caplet_value, \u001b[38;5;241m0.0\u001b[39m)\n",
      "File \u001b[1;32md:\\Personal\\Education\\MSc - PHDs\\MIPT\\Final paper\\Code\\Gaussian_Quadrature\\src\\gaussian_quadrature\\utils\\quadrature.py:684\u001b[0m, in \u001b[0;36mgeneralized_laguerre_quadrature\u001b[1;34m(f, n_points, alpha, scale)\u001b[0m\n\u001b[0;32m    660\u001b[0m \u001b[38;5;28;01mdef\u001b[39;00m \u001b[38;5;21mgeneralized_laguerre_quadrature\u001b[39m(f, n_points, alpha\u001b[38;5;241m=\u001b[39m\u001b[38;5;241m0.0\u001b[39m, scale\u001b[38;5;241m=\u001b[39m\u001b[38;5;241m1.0\u001b[39m):\n\u001b[0;32m    661\u001b[0m \u001b[38;5;250m    \u001b[39m\u001b[38;5;124;03m\"\"\"\u001b[39;00m\n\u001b[0;32m    662\u001b[0m \u001b[38;5;124;03m    Performs generalized Gaussian-Laguerre quadrature for integrals of the form:\u001b[39;00m\n\u001b[0;32m    663\u001b[0m \u001b[38;5;124;03m    \u001b[39;00m\n\u001b[1;32m   (...)\u001b[0m\n\u001b[0;32m    682\u001b[0m \u001b[38;5;124;03m        Error estimate\u001b[39;00m\n\u001b[0;32m    683\u001b[0m \u001b[38;5;124;03m    \"\"\"\u001b[39;00m\n\u001b[1;32m--> 684\u001b[0m     \u001b[38;5;28;01mif\u001b[39;00m n_points \u001b[38;5;241m>\u001b[39m \u001b[38;5;241m100\u001b[39m:\n\u001b[0;32m    685\u001b[0m         \u001b[38;5;28;01mraise\u001b[39;00m \u001b[38;5;167;01mValueError\u001b[39;00m(\u001b[38;5;124m\"\u001b[39m\u001b[38;5;124mn_points > 100 may lead to numerical instability\u001b[39m\u001b[38;5;124m\"\u001b[39m)\n\u001b[0;32m    687\u001b[0m     \u001b[38;5;66;03m# Get Gauss-Laguerre nodes and weights\u001b[39;00m\n",
      "    \u001b[1;31m[... skipping hidden 1 frame]\u001b[0m\n",
      "File \u001b[1;32mc:\\Business\\anaconda3\\Lib\\site-packages\\jax\\_src\\core.py:1554\u001b[0m, in \u001b[0;36mconcretization_function_error.<locals>.error\u001b[1;34m(self, arg)\u001b[0m\n\u001b[0;32m   1553\u001b[0m \u001b[38;5;28;01mdef\u001b[39;00m \u001b[38;5;21merror\u001b[39m(\u001b[38;5;28mself\u001b[39m, arg):\n\u001b[1;32m-> 1554\u001b[0m   \u001b[38;5;28;01mraise\u001b[39;00m TracerBoolConversionError(arg)\n",
      "\u001b[1;31mTracerBoolConversionError\u001b[0m: Attempted boolean conversion of traced array with shape bool[].\nThe error occurred while tracing the function bachelier_caplet_price_laguerre at d:\\Personal\\Education\\MSc - PHDs\\MIPT\\Final paper\\Code\\Gaussian_Quadrature\\src\\gaussian_quadrature\\models\\bachelier.py:39 for jit. This concrete value was not available in Python because it depends on the value of the argument n_points.\nSee https://jax.readthedocs.io/en/latest/errors.html#jax.errors.TracerBoolConversionError"
     ]
    }
   ],
   "source": [
    "def average_rate_caplet_price_project(tau, K, Rt, sigma, PtT, T1, T2, n_points=20):\n",
    "    \"\"\"\n",
    "    Calculate the average rate caplet price using the project's Bachelier implementation.\n",
    "    \n",
    "    Args:\n",
    "        tau: Year fraction or accrual period\n",
    "        K: Strike rate\n",
    "        Rt: Forward rate\n",
    "        sigma: Original volatility parameter\n",
    "        PtT: Discount factor\n",
    "        T1: Start of averaging period\n",
    "        T2: End of averaging period\n",
    "        n_points: Number of quadrature points\n",
    "        \n",
    "    Returns:\n",
    "        Average rate caplet price\n",
    "    \"\"\"\n",
    "    # Adjust the volatility for average rate - this is the key modification\n",
    "    # Variance of the average rate under Bachelier model\n",
    "    var_avg = (sigma**2 * T1 / 3) * (1 + (T2-T1)/(2*T1))\n",
    "    sigma_avg = np.sqrt(var_avg)\n",
    "    \n",
    "    # Use the existing bachelier_caplet_price_laguerre but with adjusted volatility\n",
    "    return bach.bachelier_caplet_price_laguerre(tau, K, Rt, sigma_avg, PtT, n_points)\n",
    "\n",
    "# Test with our parameters\n",
    "price_project = average_rate_caplet_price_project(\n",
    "    tau, K, F, sigma, discount_factor, T1, T2, n_points=20\n",
    ")\n",
    "\n",
    "print(f\"Average Rate Caplet Price (Project Implementation): {price_project}\")\n",
    "print(f\"Average Rate Caplet Price (Our Implementation): {prices_avg_rate[15]:.2f}\")\n",
    "print(f\"Difference: {price_project - prices_avg_rate[15]:.6f}\")"
   ]
  },
  {
   "cell_type": "markdown",
   "id": "2726dd8f",
   "metadata": {},
   "source": [
    "## 8. Conclusion\n",
    "\n",
    "In this notebook, we've implemented and compared different methods for pricing average rate caplets under the Bachelier model:\n",
    "\n",
    "1. **Analytical Approximation**: Provides a closed-form solution using the properties of the normal distribution with a volatility adjustment for the averaging effect.\n",
    "\n",
    "2. **Gauss-Laguerre Quadrature**: Implements a numerical integration approach that is flexible and accurate, leveraging the project's existing quadrature infrastructure.\n",
    "\n",
    "3. **Project Integration**: Shows how to adapt the existing Bachelier model implementation to handle average rate caplets through a volatility adjustment.\n",
    "\n",
    "### Key Findings:\n",
    "\n",
    "1. **Averaging Effect**: The averaging process reduces the effective volatility of the interest rate, resulting in generally lower prices for average rate caplets compared to standard caplets.\n",
    "\n",
    "2. **Convergence**: The Gauss-Laguerre quadrature method shows excellent convergence properties, typically requiring only 15-20 points for high accuracy.\n",
    "\n",
    "3. **Parameter Sensitivity**: Average rate caplet prices show expected behavior with respect to key parameters - they decrease with increasing strike rates, increase with volatility, and their response to averaging period length depends on moneyness.\n",
    "\n",
    "### Advantages of the Implementation:\n",
    "\n",
    "1. **Flexibility**: The quadrature approach can be easily extended to more complex models where closed-form solutions aren't available.\n",
    "\n",
    "2. **Accuracy**: With appropriate transformation, the Gauss-Laguerre approach offers excellent numerical precision.\n",
    "\n",
    "3. **Efficiency**: Leveraging the project's optimized quadrature implementation provides good performance.\n",
    "\n",
    "4. **Consistency**: The approach is consistent with other pricing methods in the codebase.\n",
    "\n",
    "This implementation demonstrates how numerical quadrature techniques can be effectively applied to price path-dependent interest rate derivatives like average rate caplets."
   ]
  }
 ],
 "metadata": {
  "kernelspec": {
   "display_name": "base",
   "language": "python",
   "name": "python3"
  },
  "language_info": {
   "codemirror_mode": {
    "name": "ipython",
    "version": 3
   },
   "file_extension": ".py",
   "mimetype": "text/x-python",
   "name": "python",
   "nbconvert_exporter": "python",
   "pygments_lexer": "ipython3",
   "version": "3.11.9"
  }
 },
 "nbformat": 4,
 "nbformat_minor": 5
}
